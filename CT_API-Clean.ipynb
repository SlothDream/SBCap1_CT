{
 "cells": [
  {
   "cell_type": "code",
   "execution_count": 1,
   "metadata": {},
   "outputs": [
    {
     "data": {
      "text/html": [
       "<div>\n",
       "<style scoped>\n",
       "    .dataframe tbody tr th:only-of-type {\n",
       "        vertical-align: middle;\n",
       "    }\n",
       "\n",
       "    .dataframe tbody tr th {\n",
       "        vertical-align: top;\n",
       "    }\n",
       "\n",
       "    .dataframe thead th {\n",
       "        text-align: right;\n",
       "    }\n",
       "</style>\n",
       "<table border=\"1\" class=\"dataframe\">\n",
       "  <thead>\n",
       "    <tr style=\"text-align: right;\">\n",
       "      <th></th>\n",
       "      <th>age</th>\n",
       "      <th>bond_amount</th>\n",
       "      <th>detainer</th>\n",
       "      <th>download_date</th>\n",
       "      <th>facility</th>\n",
       "      <th>gender</th>\n",
       "      <th>identifier</th>\n",
       "      <th>latest_admission_date</th>\n",
       "      <th>offense</th>\n",
       "      <th>race</th>\n",
       "    </tr>\n",
       "  </thead>\n",
       "  <tbody>\n",
       "    <tr>\n",
       "      <th>103398</th>\n",
       "      <td>37</td>\n",
       "      <td>75000</td>\n",
       "      <td>NONE</td>\n",
       "      <td>2016-07-31T00:00:00.000</td>\n",
       "      <td>HARTFORD CC</td>\n",
       "      <td>M</td>\n",
       "      <td>ZZRBWBLC</td>\n",
       "      <td>2016-06-30T00:00:00.000</td>\n",
       "      <td>INTERFERING WITH AN OFFICER           AM</td>\n",
       "      <td>BLACK</td>\n",
       "    </tr>\n",
       "    <tr>\n",
       "      <th>103399</th>\n",
       "      <td>46</td>\n",
       "      <td>20001</td>\n",
       "      <td>NONE</td>\n",
       "      <td>2016-07-31T00:00:00.000</td>\n",
       "      <td>CORRIGAN CI</td>\n",
       "      <td>M</td>\n",
       "      <td>ZZELCZJH</td>\n",
       "      <td>2016-05-10T00:00:00.000</td>\n",
       "      <td>VIOLATION OF PROBATION OR COND DISCHG</td>\n",
       "      <td>BLACK</td>\n",
       "    </tr>\n",
       "    <tr>\n",
       "      <th>103400</th>\n",
       "      <td>61</td>\n",
       "      <td>500000</td>\n",
       "      <td>NONE</td>\n",
       "      <td>2016-07-31T00:00:00.000</td>\n",
       "      <td>NORTHERN CI</td>\n",
       "      <td>M</td>\n",
       "      <td>ZZEEHJHR</td>\n",
       "      <td>2009-10-22T00:00:00.000</td>\n",
       "      <td>KIDNAPPING, 2ND DEGREE                BF</td>\n",
       "      <td>BLACK</td>\n",
       "    </tr>\n",
       "    <tr>\n",
       "      <th>103401</th>\n",
       "      <td>40</td>\n",
       "      <td>500</td>\n",
       "      <td>NONE</td>\n",
       "      <td>2016-07-31T00:00:00.000</td>\n",
       "      <td>GARNER</td>\n",
       "      <td>M</td>\n",
       "      <td>ZZSELZEC</td>\n",
       "      <td>2016-07-22T00:00:00.000</td>\n",
       "      <td>FAILURE TO APPEAR, SECOND DEGREE      AM</td>\n",
       "      <td>WHITE</td>\n",
       "    </tr>\n",
       "    <tr>\n",
       "      <th>103402</th>\n",
       "      <td>32</td>\n",
       "      <td>100000</td>\n",
       "      <td>NONE</td>\n",
       "      <td>2016-07-31T00:00:00.000</td>\n",
       "      <td>HARTFORD CC</td>\n",
       "      <td>M</td>\n",
       "      <td>ZZHSJWRB</td>\n",
       "      <td>2016-04-11T00:00:00.000</td>\n",
       "      <td>STEALING A FIREARM                    DF</td>\n",
       "      <td>WHITE</td>\n",
       "    </tr>\n",
       "  </tbody>\n",
       "</table>\n",
       "</div>"
      ],
      "text/plain": [
       "        age  bond_amount detainer            download_date     facility  \\\n",
       "103398   37        75000     NONE  2016-07-31T00:00:00.000  HARTFORD CC   \n",
       "103399   46        20001     NONE  2016-07-31T00:00:00.000  CORRIGAN CI   \n",
       "103400   61       500000     NONE  2016-07-31T00:00:00.000  NORTHERN CI   \n",
       "103401   40          500     NONE  2016-07-31T00:00:00.000       GARNER   \n",
       "103402   32       100000     NONE  2016-07-31T00:00:00.000  HARTFORD CC   \n",
       "\n",
       "       gender identifier    latest_admission_date  \\\n",
       "103398      M   ZZRBWBLC  2016-06-30T00:00:00.000   \n",
       "103399      M   ZZELCZJH  2016-05-10T00:00:00.000   \n",
       "103400      M   ZZEEHJHR  2009-10-22T00:00:00.000   \n",
       "103401      M   ZZSELZEC  2016-07-22T00:00:00.000   \n",
       "103402      M   ZZHSJWRB  2016-04-11T00:00:00.000   \n",
       "\n",
       "                                         offense   race  \n",
       "103398  INTERFERING WITH AN OFFICER           AM  BLACK  \n",
       "103399     VIOLATION OF PROBATION OR COND DISCHG  BLACK  \n",
       "103400  KIDNAPPING, 2ND DEGREE                BF  BLACK  \n",
       "103401  FAILURE TO APPEAR, SECOND DEGREE      AM  WHITE  \n",
       "103402  STEALING A FIREARM                    DF  WHITE  "
      ]
     },
     "execution_count": 1,
     "metadata": {},
     "output_type": "execute_result"
    }
   ],
   "source": [
    "from matplotlib import pyplot as plt\n",
    "import numpy as np\n",
    "import pandas as pd\n",
    "\n",
    "# UNCOMMENT THESE TWO LINES TO DOWNLOAD DATA!!! (NO SODAPY VERSION)\n",
    "# Add instructions for getting an app_token.  This version will only retrieve 1k rows per request.\n",
    "# Except that it is currently retrieving the whole month?  I don't understand.\n",
    "july2016_sample = pd.read_json(\"https://data.ct.gov/resource/b674-jy6w.json?$limit=1000000&$where=date_trunc_ymd(download_date)%20between%20%272016-07-01%27%20and%20%272016-07-31%27\")\n",
    "july2018_sample = pd.read_json(\"https://data.ct.gov/resource/b674-jy6w.json?$limit=1000000&$where=date_trunc_ymd(download_date)%20between%20%272018-07-01%27%20and%20%272018-07-31%27\")\n",
    "\n",
    "\n",
    "\n",
    "#results_df.tail()\n",
    "\n",
    "july2016_sample.tail()"
   ]
  },
  {
   "cell_type": "code",
   "execution_count": 2,
   "metadata": {},
   "outputs": [
    {
     "data": {
      "text/html": [
       "<div>\n",
       "<style scoped>\n",
       "    .dataframe tbody tr th:only-of-type {\n",
       "        vertical-align: middle;\n",
       "    }\n",
       "\n",
       "    .dataframe tbody tr th {\n",
       "        vertical-align: top;\n",
       "    }\n",
       "\n",
       "    .dataframe thead th {\n",
       "        text-align: right;\n",
       "    }\n",
       "</style>\n",
       "<table border=\"1\" class=\"dataframe\">\n",
       "  <thead>\n",
       "    <tr style=\"text-align: right;\">\n",
       "      <th></th>\n",
       "      <th>age</th>\n",
       "      <th>bond_amount</th>\n",
       "      <th>detainer</th>\n",
       "      <th>download_date</th>\n",
       "      <th>facility</th>\n",
       "      <th>gender</th>\n",
       "      <th>identifier</th>\n",
       "      <th>latest_admission_date</th>\n",
       "      <th>offense</th>\n",
       "      <th>race</th>\n",
       "    </tr>\n",
       "  </thead>\n",
       "  <tbody>\n",
       "    <tr>\n",
       "      <th>108426</th>\n",
       "      <td>30</td>\n",
       "      <td>10500</td>\n",
       "      <td>NONE</td>\n",
       "      <td>2018-07-31T00:00:00.000</td>\n",
       "      <td>YORK CI</td>\n",
       "      <td>F</td>\n",
       "      <td>ZZSERWLC</td>\n",
       "      <td>2018-07-16T00:00:00.000</td>\n",
       "      <td>FAILURE TO APPEAR, SECOND DEGREE      AM</td>\n",
       "      <td>WHITE</td>\n",
       "    </tr>\n",
       "    <tr>\n",
       "      <th>108427</th>\n",
       "      <td>27</td>\n",
       "      <td>780000</td>\n",
       "      <td>NONE</td>\n",
       "      <td>2018-07-31T00:00:00.000</td>\n",
       "      <td>NORTHERN CI</td>\n",
       "      <td>M</td>\n",
       "      <td>ZZSZLZZR</td>\n",
       "      <td>2017-12-14T00:00:00.000</td>\n",
       "      <td>CRIMINAL POSS OF PISTOL/REVOLVER      DF</td>\n",
       "      <td>BLACK</td>\n",
       "    </tr>\n",
       "    <tr>\n",
       "      <th>108428</th>\n",
       "      <td>21</td>\n",
       "      <td>1000500</td>\n",
       "      <td>NONE</td>\n",
       "      <td>2018-07-31T00:00:00.000</td>\n",
       "      <td>MACDOUGALL</td>\n",
       "      <td>M</td>\n",
       "      <td>ZZSZJEJL</td>\n",
       "      <td>2018-03-12T00:00:00.000</td>\n",
       "      <td>MURDER                                AF</td>\n",
       "      <td>BLACK</td>\n",
       "    </tr>\n",
       "    <tr>\n",
       "      <th>108429</th>\n",
       "      <td>39</td>\n",
       "      <td>150000</td>\n",
       "      <td>NONE</td>\n",
       "      <td>2018-07-31T00:00:00.000</td>\n",
       "      <td>HARTFORD CC</td>\n",
       "      <td>M</td>\n",
       "      <td>ZZSRZSSW</td>\n",
       "      <td>2017-05-04T00:00:00.000</td>\n",
       "      <td>SEXUAL ASSAULT, SECOND DEGREE          F</td>\n",
       "      <td>BLACK</td>\n",
       "    </tr>\n",
       "    <tr>\n",
       "      <th>108430</th>\n",
       "      <td>51</td>\n",
       "      <td>750000</td>\n",
       "      <td>NONE</td>\n",
       "      <td>2018-07-31T00:00:00.000</td>\n",
       "      <td>HARTFORD CC</td>\n",
       "      <td>M</td>\n",
       "      <td>ZZRBLEHE</td>\n",
       "      <td>2018-03-20T00:00:00.000</td>\n",
       "      <td>SEXUAL ASSAULT, FIRST DEGREE           F</td>\n",
       "      <td>BLACK</td>\n",
       "    </tr>\n",
       "  </tbody>\n",
       "</table>\n",
       "</div>"
      ],
      "text/plain": [
       "        age  bond_amount detainer            download_date     facility  \\\n",
       "108426   30        10500     NONE  2018-07-31T00:00:00.000      YORK CI   \n",
       "108427   27       780000     NONE  2018-07-31T00:00:00.000  NORTHERN CI   \n",
       "108428   21      1000500     NONE  2018-07-31T00:00:00.000   MACDOUGALL   \n",
       "108429   39       150000     NONE  2018-07-31T00:00:00.000  HARTFORD CC   \n",
       "108430   51       750000     NONE  2018-07-31T00:00:00.000  HARTFORD CC   \n",
       "\n",
       "       gender identifier    latest_admission_date  \\\n",
       "108426      F   ZZSERWLC  2018-07-16T00:00:00.000   \n",
       "108427      M   ZZSZLZZR  2017-12-14T00:00:00.000   \n",
       "108428      M   ZZSZJEJL  2018-03-12T00:00:00.000   \n",
       "108429      M   ZZSRZSSW  2017-05-04T00:00:00.000   \n",
       "108430      M   ZZRBLEHE  2018-03-20T00:00:00.000   \n",
       "\n",
       "                                         offense   race  \n",
       "108426  FAILURE TO APPEAR, SECOND DEGREE      AM  WHITE  \n",
       "108427  CRIMINAL POSS OF PISTOL/REVOLVER      DF  BLACK  \n",
       "108428  MURDER                                AF  BLACK  \n",
       "108429  SEXUAL ASSAULT, SECOND DEGREE          F  BLACK  \n",
       "108430  SEXUAL ASSAULT, FIRST DEGREE           F  BLACK  "
      ]
     },
     "execution_count": 2,
     "metadata": {},
     "output_type": "execute_result"
    }
   ],
   "source": [
    "july2018_sample.tail()"
   ]
  },
  {
   "cell_type": "code",
   "execution_count": 3,
   "metadata": {},
   "outputs": [
    {
     "name": "stdout",
     "output_type": "stream",
     "text": [
      "<class 'pandas.core.frame.DataFrame'>\n",
      "RangeIndex: 108431 entries, 0 to 108430\n",
      "Data columns (total 10 columns):\n",
      "age                      108431 non-null int64\n",
      "bond_amount              108431 non-null int64\n",
      "detainer                 108431 non-null object\n",
      "download_date            108431 non-null object\n",
      "facility                 108431 non-null object\n",
      "gender                   108431 non-null object\n",
      "identifier               108431 non-null object\n",
      "latest_admission_date    108431 non-null object\n",
      "offense                  108431 non-null object\n",
      "race                     108431 non-null object\n",
      "dtypes: int64(2), object(8)\n",
      "memory usage: 8.3+ MB\n",
      "None\n"
     ]
    }
   ],
   "source": [
    "#print(results_df.count())\n",
    "print(july2018_sample.info())\n",
    "#print(type(results_df.bond_amount))"
   ]
  },
  {
   "cell_type": "code",
   "execution_count": 4,
   "metadata": {},
   "outputs": [
    {
     "data": {
      "image/png": "[encoded data removed]",
      "text/plain": [
       "<Figure size 432x288 with 1 Axes>"
      ]
     },
     "metadata": {
      "needs_background": "light"
     },
     "output_type": "display_data"
    }
   ],
   "source": [
    "july2018_sample.plot(kind='hist', y='age');"
   ]
  },
  {
   "cell_type": "code",
   "execution_count": 5,
   "metadata": {},
   "outputs": [
    {
     "data": {
      "image/png": "[encoded data removed]",
      "text/plain": [
       "<Figure size 432x288 with 1 Axes>"
      ]
     },
     "metadata": {
      "needs_background": "light"
     },
     "output_type": "display_data"
    }
   ],
   "source": [
    "july2018_sample.plot(kind='scatter', x='age', y='bond_amount');"
   ]
  }
 ],
 "metadata": {
  "kernelspec": {
   "display_name": "Python 3",
   "language": "python",
   "name": "python3"
  },
  "language_info": {
   "codemirror_mode": {
    "name": "ipython",
    "version": 3
   },
   "file_extension": ".py",
   "mimetype": "text/x-python",
   "name": "python",
   "nbconvert_exporter": "python",
   "pygments_lexer": "ipython3",
   "version": "3.7.0"
  }
 },
 "nbformat": 4,
 "nbformat_minor": 2
}
