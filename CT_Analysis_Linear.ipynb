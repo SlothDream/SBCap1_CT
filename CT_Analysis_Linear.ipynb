{
 "cells": [
  {
   "cell_type": "code",
   "execution_count": 1,
   "metadata": {},
   "outputs": [],
   "source": [
    "# Analysis for CT Pretrial Detainees\n",
    "# (Springboard Capstone 1)\n",
    "# 2019, Misty M. Giles\n",
    "\n",
    "# Import everything.  \n",
    "%matplotlib inline\n",
    "from datetime import datetime as date\n",
    "import matplotlib.pyplot as plt\n",
    "from matplotlib import cm\n",
    "import numpy as np\n",
    "import pandas as pd\n",
    "import scipy.stats as stats\n",
    "import seaborn as sns\n",
    "from sklearn.linear_model import LinearRegression\n",
    "from sklearn.model_selection import train_test_split\n",
    "import statsmodels.api as sm\n",
    "from statsmodels.formula.api import ols\n",
    "\n",
    "# Select the file created in CT_csv (unit 5 data wrangling assignment)\n",
    "file = 'detainees_classed_offenses.csv'"
   ]
  },
  {
   "cell_type": "code",
   "execution_count": 2,
   "metadata": {},
   "outputs": [
    {
     "name": "stdout",
     "output_type": "stream",
     "text": [
      "<class 'pandas.core.frame.DataFrame'>\n",
      "RangeIndex: 28808 entries, 0 to 28807\n",
      "Data columns (total 13 columns):\n",
      "download_date            28808 non-null datetime64[ns]\n",
      "identifier               28808 non-null object\n",
      "latest_admission_date    28808 non-null datetime64[ns]\n",
      "race                     28808 non-null object\n",
      "gender                   28808 non-null object\n",
      "age                      28808 non-null int64\n",
      "bond_amount              28808 non-null int64\n",
      "offense                  28808 non-null object\n",
      "facility                 28808 non-null object\n",
      "detainer                 28808 non-null object\n",
      "offense_class            28808 non-null object\n",
      "days                     28808 non-null int64\n",
      "counts                   28808 non-null int64\n",
      "dtypes: datetime64[ns](2), int64(4), object(7)\n",
      "memory usage: 2.9+ MB\n"
     ]
    }
   ],
   "source": [
    "# Read in the file\n",
    "df = pd.read_csv(file, parse_dates=['download_date', 'latest_admission_date'])\n",
    "\n",
    "# This corrects a typo that's being fixed in CT_csv.\n",
    "df['offense_class'] = [offense[-2:] if offense.endswith(('AM','BM','CM','DM','UM',' M', \n",
    "                       'AF','BF','CF','DF','UF',' F')) else np.nan for offense in df.offense]\n",
    "\n",
    "# Days that CT says a detainee has been in the system.  This doesn't account for\n",
    "# some detainees.  There are 730 days in the dataset, and the state says that entrance \n",
    "# dates over a year before could be original entrance date but are definitely not to be\n",
    "# trusted.  The days column will be capped at 1,095 (730 + 365).  This is definitely going\n",
    "#  to need further investigation.\n",
    "df.days = [int(time[:-23]) for time in df.days]\n",
    "df.days = [time if time <= 1095 else 1095 for time in df.days]\n",
    "\n",
    "# Check that everything worked.  In this EDA, there should be 0 null values.\n",
    "df.info()"
   ]
  },
  {
   "cell_type": "code",
   "execution_count": 3,
   "metadata": {
    "scrolled": false
   },
   "outputs": [
    {
     "name": "stdout",
     "output_type": "stream",
     "text": [
      "<class 'pandas.core.frame.DataFrame'>\n",
      "Int64Index: 21175 entries, 1 to 28807\n",
      "Data columns (total 13 columns):\n",
      "download_date            21175 non-null datetime64[ns]\n",
      "identifier               21175 non-null object\n",
      "latest_admission_date    21175 non-null datetime64[ns]\n",
      "race                     21175 non-null object\n",
      "gender                   21175 non-null object\n",
      "age                      21175 non-null int64\n",
      "bond_amount              21175 non-null int64\n",
      "offense                  21175 non-null object\n",
      "facility                 21175 non-null object\n",
      "detainer                 21175 non-null object\n",
      "offense_class            21175 non-null object\n",
      "days                     21175 non-null int64\n",
      "counts                   21175 non-null int64\n",
      "dtypes: datetime64[ns](2), int64(4), object(7)\n",
      "memory usage: 2.3+ MB\n",
      "None\n"
     ]
    }
   ],
   "source": [
    "# Only working with the 94% under 80k.\n",
    "df = df.loc[df.bond_amount<=80000]\n",
    "print(df.info())\n",
    "\n",
    "# Separate out the two datasets, misdemeanor (primary) and felony.\n",
    "felony_df = df.loc[df['offense_class'].str.endswith('F')]\n",
    "misdemeanor_df = df.loc[df['offense_class'].str.endswith('M')]\n",
    "\n",
    "# Divide the misdemeanor data into pre-enactment and post.\n",
    "date_pre = pd.date_range(start='7/1/2016', end='6/30/2017', freq='D').tolist()\n",
    "date_post = pd.date_range(start='7/1/2017', end='6/30/2018', freq='D').tolist()\n",
    "date_end = pd.date_range(start='7/1/2018', end='11/30/2018', freq='D').tolist()\n",
    "mis_pre_df = misdemeanor_df.loc[misdemeanor_df.download_date < '2017-07-01']\n",
    "mis_post_df = misdemeanor_df.loc[misdemeanor_df.download_date >= '2017-07-01']\n",
    "mis_post_df = mis_post_df.loc[mis_post_df.download_date < '2018-07-01']\n",
    "mis_outofbounds_df = misdemeanor_df.loc[misdemeanor_df.download_date >= '2018-07-01']\n",
    "mis_df = pd.concat([mis_pre_df, mis_post_df])\n",
    "\n",
    "# Change race, gender, facility, and detainer to category type and verify.\n",
    "df.race = df.race.astype('category')\n",
    "df.gender = df.gender.astype('category')\n",
    "df.facility = df.facility.astype('category')\n",
    "df.detainer = df.detainer.astype('category')\n",
    "df.offense_class = df.offense_class.astype('category')\n",
    "\n",
    "# Seed for repeatability\n",
    "np.random.seed(42)"
   ]
  },
  {
   "cell_type": "code",
   "execution_count": 4,
   "metadata": {
    "scrolled": false
   },
   "outputs": [
    {
     "name": "stdout",
     "output_type": "stream",
     "text": [
      "<class 'pandas.core.frame.DataFrame'>\n",
      "Int64Index: 3689 entries, 3 to 28799\n",
      "Data columns (total 9 columns):\n",
      "offense_class_ M    3689 non-null uint8\n",
      "offense_class_AM    3689 non-null uint8\n",
      "offense_class_BM    3689 non-null uint8\n",
      "offense_class_CM    3689 non-null uint8\n",
      "race_BLACK          3689 non-null uint8\n",
      "race_HISPANIC       3689 non-null uint8\n",
      "race_WHITE          3689 non-null uint8\n",
      "gender_F            3689 non-null uint8\n",
      "gender_M            3689 non-null uint8\n",
      "dtypes: uint8(9)\n",
      "memory usage: 61.2 KB\n"
     ]
    },
    {
     "data": {
      "text/plain": [
       "((3689, 1), None)"
      ]
     },
     "execution_count": 4,
     "metadata": {},
     "output_type": "execute_result"
    }
   ],
   "source": [
    "target = pd.DataFrame(mis_pre_df.bond_amount)\n",
    "data = mis_pre_df.drop(['identifier','bond_amount','counts', \n",
    "                        'download_date','latest_admission_date',\n",
    "                        'offense','detainer','facility','age','days'], axis=1)\n",
    "data = pd.get_dummies(data,columns=['offense_class','race','gender'])\n",
    "data.drop('offense_class_UM',axis=1,inplace=True)\n",
    "data.drop('race_ASIAN',axis=1,inplace=True)\n",
    "data.drop('race_AMER IND',axis=1,inplace=True)\n",
    "target.shape, data.info()"
   ]
  },
  {
   "cell_type": "code",
   "execution_count": 5,
   "metadata": {
    "scrolled": false
   },
   "outputs": [
    {
     "data": {
      "text/plain": [
       "0.03899950278724629"
      ]
     },
     "execution_count": 5,
     "metadata": {},
     "output_type": "execute_result"
    }
   ],
   "source": [
    "X = data\n",
    "y = target\n",
    "\n",
    "X_train, X_test, y_train, y_test = train_test_split(X, y, test_size=.3)\n",
    "\n",
    "lm = LinearRegression().fit(X_train,y_train)\n",
    "\n",
    "test = lm.predict(X_test)\n",
    "lm.score(X_test,y_test)"
   ]
  },
  {
   "cell_type": "code",
   "execution_count": 6,
   "metadata": {},
   "outputs": [
    {
     "name": "stdout",
     "output_type": "stream",
     "text": [
      "                            OLS Regression Results                            \n",
      "==============================================================================\n",
      "Dep. Variable:            bond_amount   R-squared:                       0.012\n",
      "Model:                            OLS   Adj. R-squared:                  0.012\n",
      "Method:                 Least Squares   F-statistic:                     45.59\n",
      "Date:                Wed, 27 Mar 2019   Prob (F-statistic):           1.69e-11\n",
      "Time:                        20:33:51   Log-Likelihood:                -41346.\n",
      "No. Observations:                3689   AIC:                         8.270e+04\n",
      "Df Residuals:                    3687   BIC:                         8.271e+04\n",
      "Df Model:                           1                                         \n",
      "Covariance Type:            nonrobust                                         \n",
      "==============================================================================\n",
      "                 coef    std err          t      P>|t|      [0.025      0.975]\n",
      "------------------------------------------------------------------------------\n",
      "Intercept   9901.1087    698.113     14.183      0.000    8532.383    1.13e+04\n",
      "gender_M    5196.0112    769.536      6.752      0.000    3687.252    6704.770\n",
      "==============================================================================\n",
      "Omnibus:                     1208.052   Durbin-Watson:                   1.940\n",
      "Prob(Omnibus):                  0.000   Jarque-Bera (JB):             3124.810\n",
      "Skew:                           1.800   Prob(JB):                         0.00\n",
      "Kurtosis:                       5.714   Cond. No.                         4.56\n",
      "==============================================================================\n",
      "\n",
      "Warnings:\n",
      "[1] Standard Errors assume that the covariance matrix of the errors is correctly specified.\n"
     ]
    }
   ],
   "source": [
    "from statsmodels.formula.api import ols\n",
    "sm_df = pd.get_dummies(mis_pre_df,columns=['offense_class','race','gender']).rename(\n",
    "    index=str, columns={'offense_class_ M':'offense_class_M'})\n",
    "\n",
    "# Same result for gender_M or gender_F\n",
    "m = ols('bond_amount ~ gender_M',sm_df).fit()\n",
    "print(m.summary())"
   ]
  },
  {
   "cell_type": "code",
   "execution_count": 7,
   "metadata": {},
   "outputs": [
    {
     "data": {
      "image/png": "[encoded data removed]",
      "text/plain": [
       "<Figure size 864x576 with 1 Axes>"
      ]
     },
     "metadata": {
      "needs_background": "light"
     },
     "output_type": "display_data"
    }
   ],
   "source": [
    "_, ax = plt.subplots(figsize=(12,8))\n",
    "_ = plt.scatter(m.fittedvalues, sm_df.bond_amount)\n",
    "_ = plt.xlabel('Predicted bonds (in thousands)')\n",
    "_ = plt.ylabel('Original bonds (in thousands)')\n",
    "_ = plt.title('Original vs. predicted bond amounts')"
   ]
  },
  {
   "cell_type": "code",
   "execution_count": 8,
   "metadata": {},
   "outputs": [
    {
     "name": "stderr",
     "output_type": "stream",
     "text": [
      "C:\\Users\\Misty\\Anaconda3\\lib\\site-packages\\statsmodels\\nonparametric\\smoothers_lowess.py:165: RuntimeWarning: invalid value encountered in true_divide\n",
      "  res = _lowess(y, x, frac=frac, it=it, delta=delta)\n",
      "C:\\Users\\Misty\\Anaconda3\\lib\\site-packages\\numpy\\lib\\function_base.py:3250: RuntimeWarning: Invalid value encountered in median\n",
      "  r = func(a, **kwargs)\n",
      "C:\\Users\\Misty\\Anaconda3\\lib\\site-packages\\statsmodels\\nonparametric\\smoothers_lowess.py:165: RuntimeWarning: invalid value encountered in greater_equal\n",
      "  res = _lowess(y, x, frac=frac, it=it, delta=delta)\n"
     ]
    },
    {
     "data": {
      "image/png": "[encoded data removed]",
      "text/plain": [
       "<Figure size 864x576 with 1 Axes>"
      ]
     },
     "metadata": {
      "needs_background": "light"
     },
     "output_type": "display_data"
    }
   ],
   "source": [
    "# Plot the bond_amount vs the residuals\n",
    "_ = plt.figure(figsize=(12,8))\n",
    "_ = sns.residplot(m.fittedvalues, m.resid, lowess=True, color='g', scatter_kws={'alpha': .3}, \n",
    "                  line_kws={'color':'purple', 'alpha':.8})\n",
    "_ = plt.xlabel('predicted bonds')\n",
    "_ = plt.ylabel('residuals')\n",
    "_ = plt.title('bond_amount vs. residuals of fitted data')"
   ]
  },
  {
   "cell_type": "code",
   "execution_count": 9,
   "metadata": {},
   "outputs": [
    {
     "name": "stdout",
     "output_type": "stream",
     "text": [
      "                            OLS Regression Results                            \n",
      "==============================================================================\n",
      "Dep. Variable:            bond_amount   R-squared:                       0.015\n",
      "Model:                            OLS   Adj. R-squared:                  0.015\n",
      "Method:                 Least Squares   F-statistic:                     57.55\n",
      "Date:                Wed, 27 Mar 2019   Prob (F-statistic):           4.15e-14\n",
      "Time:                        20:33:53   Log-Likelihood:                -41340.\n",
      "No. Observations:                3689   AIC:                         8.268e+04\n",
      "Df Residuals:                    3687   BIC:                         8.270e+04\n",
      "Df Model:                           1                                         \n",
      "Covariance Type:            nonrobust                                         \n",
      "====================================================================================\n",
      "                       coef    std err          t      P>|t|      [0.025      0.975]\n",
      "------------------------------------------------------------------------------------\n",
      "Intercept         1.045e+04    572.763     18.236      0.000    9322.116    1.16e+04\n",
      "offense_class_AM  5058.1870    666.784      7.586      0.000    3750.886    6365.488\n",
      "==============================================================================\n",
      "Omnibus:                     1224.943   Durbin-Watson:                   1.932\n",
      "Prob(Omnibus):                  0.000   Jarque-Bera (JB):             3220.579\n",
      "Skew:                           1.817   Prob(JB):                         0.00\n",
      "Kurtosis:                       5.782   Cond. No.                         3.68\n",
      "==============================================================================\n",
      "\n",
      "Warnings:\n",
      "[1] Standard Errors assume that the covariance matrix of the errors is correctly specified.\n"
     ]
    }
   ],
   "source": [
    "m = ols('bond_amount ~ offense_class_AM',sm_df).fit()\n",
    "print(m.summary())\n",
    "\n",
    "# offense_class_M gives 33ish F-stat, BM/CM are less than 20"
   ]
  },
  {
   "cell_type": "code",
   "execution_count": 10,
   "metadata": {},
   "outputs": [
    {
     "name": "stdout",
     "output_type": "stream",
     "text": [
      "                            OLS Regression Results                            \n",
      "==============================================================================\n",
      "Dep. Variable:            bond_amount   R-squared:                       0.003\n",
      "Model:                            OLS   Adj. R-squared:                  0.002\n",
      "Method:                 Least Squares   F-statistic:                     9.485\n",
      "Date:                Wed, 27 Mar 2019   Prob (F-statistic):            0.00209\n",
      "Time:                        20:33:53   Log-Likelihood:                -41364.\n",
      "No. Observations:                3689   AIC:                         8.273e+04\n",
      "Df Residuals:                    3687   BIC:                         8.274e+04\n",
      "Df Model:                           1                                         \n",
      "Covariance Type:            nonrobust                                         \n",
      "==============================================================================\n",
      "                 coef    std err          t      P>|t|      [0.025      0.975]\n",
      "------------------------------------------------------------------------------\n",
      "Intercept   1.496e+04    388.970     38.454      0.000    1.42e+04    1.57e+04\n",
      "race_WHITE -1839.1996    597.191     -3.080      0.002   -3010.056    -668.343\n",
      "==============================================================================\n",
      "Omnibus:                     1225.376   Durbin-Watson:                   1.939\n",
      "Prob(Omnibus):                  0.000   Jarque-Bera (JB):             3207.332\n",
      "Skew:                           1.822   Prob(JB):                         0.00\n",
      "Kurtosis:                       5.755   Cond. No.                         2.48\n",
      "==============================================================================\n",
      "\n",
      "Warnings:\n",
      "[1] Standard Errors assume that the covariance matrix of the errors is correctly specified.\n"
     ]
    }
   ],
   "source": [
    "m = ols('bond_amount ~ race_WHITE',sm_df).fit()\n",
    "print(m.summary())\n",
    "\n",
    "# Race alone is crap predictor.  Highest F-stat was less than 10."
   ]
  },
  {
   "cell_type": "code",
   "execution_count": 11,
   "metadata": {},
   "outputs": [
    {
     "name": "stdout",
     "output_type": "stream",
     "text": [
      "                            OLS Regression Results                            \n",
      "==============================================================================\n",
      "Dep. Variable:            bond_amount   R-squared:                       0.031\n",
      "Model:                            OLS   Adj. R-squared:                  0.030\n",
      "Method:                 Least Squares   F-statistic:                     38.65\n",
      "Date:                Wed, 27 Mar 2019   Prob (F-statistic):           1.38e-24\n",
      "Time:                        20:33:53   Log-Likelihood:                -41311.\n",
      "No. Observations:                3689   AIC:                         8.263e+04\n",
      "Df Residuals:                    3685   BIC:                         8.266e+04\n",
      "Df Model:                           3                                         \n",
      "Covariance Type:            nonrobust                                         \n",
      "====================================================================================\n",
      "                       coef    std err          t      P>|t|      [0.025      0.975]\n",
      "------------------------------------------------------------------------------------\n",
      "Intercept         6237.8563    941.975      6.622      0.000    4391.012    8084.701\n",
      "race_WHITE       -1109.9752    593.503     -1.870      0.062   -2273.602      53.651\n",
      "gender_M          5465.4923    768.753      7.110      0.000    3958.268    6972.716\n",
      "offense_class_AM  5302.2427    665.026      7.973      0.000    3998.387    6606.098\n",
      "==============================================================================\n",
      "Omnibus:                     1195.946   Durbin-Watson:                   1.943\n",
      "Prob(Omnibus):                  0.000   Jarque-Bera (JB):             3083.337\n",
      "Skew:                           1.781   Prob(JB):                         0.00\n",
      "Kurtosis:                       5.714   Cond. No.                         6.51\n",
      "==============================================================================\n",
      "\n",
      "Warnings:\n",
      "[1] Standard Errors assume that the covariance matrix of the errors is correctly specified.\n"
     ]
    }
   ],
   "source": [
    "# Highest F-stat of the above tests\n",
    "### VIRTUALLY IDENTICAL FOR ALL THREE RACES\n",
    "### IDENTICAL FOR BOTH GENDERS\n",
    "### Meh for other offense classes\n",
    "m = ols('bond_amount ~ race_WHITE + gender_M + offense_class_AM',sm_df).fit()\n",
    "print(m.summary())"
   ]
  },
  {
   "cell_type": "code",
   "execution_count": null,
   "metadata": {},
   "outputs": [],
   "source": []
  },
  {
   "cell_type": "code",
   "execution_count": null,
   "metadata": {},
   "outputs": [],
   "source": []
  },
  {
   "cell_type": "code",
   "execution_count": null,
   "metadata": {},
   "outputs": [],
   "source": []
  },
  {
   "cell_type": "code",
   "execution_count": null,
   "metadata": {},
   "outputs": [],
   "source": []
  },
  {
   "cell_type": "code",
   "execution_count": null,
   "metadata": {},
   "outputs": [],
   "source": []
  },
  {
   "cell_type": "code",
   "execution_count": null,
   "metadata": {},
   "outputs": [],
   "source": []
  },
  {
   "cell_type": "code",
   "execution_count": null,
   "metadata": {},
   "outputs": [],
   "source": []
  },
  {
   "cell_type": "code",
   "execution_count": null,
   "metadata": {},
   "outputs": [],
   "source": []
  },
  {
   "cell_type": "code",
   "execution_count": null,
   "metadata": {},
   "outputs": [],
   "source": []
  },
  {
   "cell_type": "code",
   "execution_count": null,
   "metadata": {},
   "outputs": [],
   "source": []
  },
  {
   "cell_type": "code",
   "execution_count": null,
   "metadata": {},
   "outputs": [],
   "source": []
  },
  {
   "cell_type": "code",
   "execution_count": null,
   "metadata": {},
   "outputs": [],
   "source": []
  },
  {
   "cell_type": "code",
   "execution_count": null,
   "metadata": {},
   "outputs": [],
   "source": []
  },
  {
   "cell_type": "code",
   "execution_count": null,
   "metadata": {},
   "outputs": [],
   "source": []
  },
  {
   "cell_type": "code",
   "execution_count": null,
   "metadata": {},
   "outputs": [],
   "source": []
  },
  {
   "cell_type": "code",
   "execution_count": null,
   "metadata": {},
   "outputs": [],
   "source": []
  },
  {
   "cell_type": "code",
   "execution_count": 12,
   "metadata": {},
   "outputs": [
    {
     "data": {
      "image/png": "[encoded data removed]",
      "text/plain": [
       "<Figure size 864x576 with 1 Axes>"
      ]
     },
     "metadata": {
      "needs_background": "light"
     },
     "output_type": "display_data"
    }
   ],
   "source": [
    "_, ax = plt.subplots(figsize=(12,8))\n",
    "_ = plt.hist(test)"
   ]
  },
  {
   "cell_type": "code",
   "execution_count": null,
   "metadata": {},
   "outputs": [],
   "source": []
  },
  {
   "cell_type": "code",
   "execution_count": null,
   "metadata": {},
   "outputs": [],
   "source": []
  },
  {
   "cell_type": "code",
   "execution_count": 13,
   "metadata": {},
   "outputs": [
    {
     "data": {
      "image/png": "[encoded data removed]",
      "text/plain": [
       "<Figure size 864x576 with 1 Axes>"
      ]
     },
     "metadata": {
      "needs_background": "light"
     },
     "output_type": "display_data"
    }
   ],
   "source": [
    "new = target.copy()\n",
    "new['PREDICT'] = lm.predict(X)\n",
    "\n",
    "from matplotlib import cm\n",
    "color_country = cm.hsv(np.linspace(.9,.65, 2))\n",
    "dist = new[['bond_amount', 'PREDICT']].copy()\n",
    "fig, ax = plt.subplots(figsize=(12,8))\n",
    "dist.plot.kde(ax=ax, legend=False, title='Bond (pink), Prediction (blue)', color=color_country)\n",
    "dist.plot.hist(density=True, legend=False, ax=ax, alpha=.4, color=color_country)\n",
    "ax.set_ylabel('Probability')\n",
    "ax.set_facecolor('#d8dcd6')\n",
    "ax.set_xlabel('Bond (in thousands)');"
   ]
  }
 ],
 "metadata": {
  "kernelspec": {
   "display_name": "Python 3",
   "language": "python",
   "name": "python3"
  },
  "language_info": {
   "codemirror_mode": {
    "name": "ipython",
    "version": 3
   },
   "file_extension": ".py",
   "mimetype": "text/x-python",
   "name": "python",
   "nbconvert_exporter": "python",
   "pygments_lexer": "ipython3",
   "version": "3.7.2"
  }
 },
 "nbformat": 4,
 "nbformat_minor": 2
}
