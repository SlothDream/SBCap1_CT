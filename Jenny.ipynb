{
 "cells": [
  {
   "cell_type": "code",
   "execution_count": 1,
   "metadata": {},
   "outputs": [],
   "source": [
    "# Analysis for CT Pretrial Detainees\n",
    "# (Springboard Capstone 1)\n",
    "# 2019, Misty M. Giles\n",
    "\n",
    "# Set up plotting  \n",
    "%matplotlib inline\n",
    "import matplotlib.pyplot as plt\n",
    "from matplotlib import cm\n",
    "import seaborn as sns\n",
    "\n",
    "# Import standard packages\n",
    "import numpy as np\n",
    "import pandas as pd\n",
    "import scipy.stats as stats\n",
    "from scipy.stats import uniform\n",
    "\n",
    "# Import misc tools\n",
    "#from imblearn.over_sampling import SMOTE\n",
    "from sklearn.model_selection import train_test_split\n",
    "from sklearn.pipeline import Pipeline\n",
    "\n",
    "# Import verification tools\n",
    "from sklearn.metrics import recall_score, precision_score, roc_auc_score, f1_score\n",
    "from sklearn.model_selection import cross_val_score\n",
    "\n",
    "# Import preprocessing tools\n",
    "from sklearn.preprocessing import MinMaxScaler\n",
    "from sklearn.preprocessing import Normalizer\n",
    "from sklearn.preprocessing import StandardScaler\n",
    "from sklearn.utils import resample\n",
    "\n",
    "# Import models\n",
    "from sklearn.ensemble import RandomForestClassifier\n",
    "from sklearn.linear_model import LogisticRegression\n",
    "from sklearn.model_selection import RandomizedSearchCV\n",
    "from sklearn.multiclass import OneVsRestClassifier\n",
    "from sklearn.neighbors import KNeighborsClassifier\n",
    "from sklearn.tree import DecisionTreeClassifier\n",
    "\n",
    "# Select the file created in CT_csv (unit 5 data wrangling assignment)\n",
    "file = 'detainees_classed_offenses.csv'"
   ]
  },
  {
   "cell_type": "code",
   "execution_count": 2,
   "metadata": {},
   "outputs": [],
   "source": [
    "# Read in the file\n",
    "df = pd.read_csv(file, parse_dates=['download_date', 'latest_admission_date'])\n",
    "\n",
    "# Change from previous notebooks to drop the single case of 'UM' at the \n",
    "# beginning -- inclusion prevents use of 'stratify'.)\n",
    "df['offense_class'] = [offense[-2:] if offense.endswith(('AM','BM','CM','DM',' M', \n",
    "                       'AF','BF','CF','DF',' F')) else np.nan for offense in df.offense]\n",
    "\n",
    "# Days that CT says a detainee has been in the system.  This doesn't account for\n",
    "# some detainees.  There are 730 days in the dataset, and the state says that entrance \n",
    "# dates over a year before could be original entrance date but are definitely not to be\n",
    "# trusted.  The days column will be capped at 1,095 (730 + 365).  \n",
    "df.days = [int(time[:-23]) for time in df.days]\n",
    "df.days = [time if time <= 1095 else 1095 for time in df.days]\n",
    "\n",
    "#df = df.loc[df.days<1095]"
   ]
  },
  {
   "cell_type": "code",
   "execution_count": 3,
   "metadata": {},
   "outputs": [
    {
     "name": "stdout",
     "output_type": "stream",
     "text": [
      "<class 'pandas.core.frame.DataFrame'>\n",
      "Index: 9663 entries, 0 to 9662\n",
      "Data columns (total 13 columns):\n",
      "download_date            9663 non-null datetime64[ns]\n",
      "identifier               9663 non-null object\n",
      "latest_admission_date    9663 non-null datetime64[ns]\n",
      "race                     9663 non-null category\n",
      "gender                   9663 non-null category\n",
      "age                      9663 non-null int64\n",
      "bond_amount              9663 non-null int64\n",
      "offense                  9663 non-null object\n",
      "facility                 9663 non-null category\n",
      "detainer                 9663 non-null category\n",
      "offense_class            9663 non-null category\n",
      "days                     9663 non-null int64\n",
      "counts                   9663 non-null int64\n",
      "dtypes: category(5), datetime64[ns](2), int64(4), object(2)\n",
      "memory usage: 1.0+ MB\n"
     ]
    }
   ],
   "source": [
    "# Only working with the 94% under 80k.\n",
    "#df = df.loc[df.bond_amount<=80000]\n",
    "#print(df.info())\n",
    "\n",
    "# Separate out the two datasets, misdemeanor (primary) and felony.\n",
    "misdemeanor_df = df.loc[df['offense_class'].str.endswith('M',na=False)].reset_index(\n",
    "    drop=True).rename(index=str, columns={'offense_class_ M':'offense_class_M'})\n",
    "\n",
    "# Change race, gender, facility, and detainer to category type and verify.\n",
    "misdemeanor_df.race = misdemeanor_df.race.astype('category')\n",
    "misdemeanor_df.gender = misdemeanor_df.gender.astype('category')\n",
    "misdemeanor_df.facility = misdemeanor_df.facility.astype('category')\n",
    "misdemeanor_df.detainer = misdemeanor_df.detainer.astype('category')\n",
    "misdemeanor_df.offense_class = misdemeanor_df.offense_class.astype('category')\n",
    "\n",
    "# Divide the misdemeanor data into pre-enactment and post.\n",
    "mis_pre_df = misdemeanor_df.loc[misdemeanor_df.download_date < '2017-07-01']\n",
    "mis_post_df = misdemeanor_df.loc[misdemeanor_df.download_date >= '2017-07-01']\n",
    "mis_post_df = mis_post_df.loc[mis_post_df.download_date < '2018-07-01']\n",
    "mis_outofbounds_df = misdemeanor_df.loc[misdemeanor_df.download_date >= '2018-07-01']\n",
    "mis_df = pd.concat([mis_pre_df, mis_post_df])\n",
    "\n",
    "# Check that everything worked.  There should be 0 null values.\n",
    "misdemeanor_df.info()"
   ]
  },
  {
   "cell_type": "code",
   "execution_count": 4,
   "metadata": {},
   "outputs": [],
   "source": [
    "# Utility function to report best scores\n",
    "def report(results, n_top=3):\n",
    "    for i in range(1, n_top + 1):\n",
    "        candidates = np.flatnonzero(results['rank_test_score'] == i)\n",
    "        for candidate in candidates:\n",
    "            print('')\n",
    "            print('Model rank:', i)\n",
    "            print('Mean test score: %0.2f (+/- %0.2f)' %\n",
    "                  (results['mean_test_score'][candidate],\n",
    "                  results['std_test_score'][candidate]))\n",
    "            print('Parameters: {0}'.format(results['params'][candidate]))\n",
    "            \n",
    "def scores(clf,X_test,y_test,cv=5):\n",
    "    score = cross_val_score(clf, X_test, y_test, cv=5) \n",
    "    print('Accuracy, gender (test): %0.4f (+/- %0.2f)' % (score.mean(), score.std() * 2))\n",
    "    print('F1, gender (test): %0.2f' % f1_score(y_test,clf.predict(X_test)))\n",
    "    print('Recall, gender (test): %0.2f' % recall_score(y_test,clf.predict(X_test)))\n",
    "    print('Precision, gender (test): %0.2f' % precision_score(y_test,clf.predict(X_test)))\n",
    "    print('AUROC, gender (test): %0.2f' % roc_auc_score(y_test,clf.predict_proba(X_test)[:,1]))"
   ]
  },
  {
   "cell_type": "markdown",
   "metadata": {},
   "source": [
    "### Gender categorization:\n",
    "1. Define data and target from the pre-enactment dataframe\n",
    "2. Split, preprocess, and fit\n",
    "3. Test the accuracy on pre-enactment test data\n",
    "4. See what happens with the post-enactment data"
   ]
  },
  {
   "cell_type": "markdown",
   "metadata": {},
   "source": [
    "One problem that has to be addressed is the imbalance of male/female samples.  Here's the original percentage:"
   ]
  },
  {
   "cell_type": "code",
   "execution_count": 5,
   "metadata": {},
   "outputs": [
    {
     "name": "stdout",
     "output_type": "stream",
     "text": [
      "Original male/female split: 0.8272\n"
     ]
    }
   ],
   "source": [
    "print('Original male/female split: %0.4f' % (len(mis_pre_df.loc[mis_pre_df.gender=='M'])/len(mis_pre_df.gender)))"
   ]
  },
  {
   "cell_type": "markdown",
   "metadata": {},
   "source": [
    "And here's how logistic regression first handles the data.  It guesses \"M\" and gets it right frequently enough that it calls it quits."
   ]
  },
  {
   "cell_type": "code",
   "execution_count": 6,
   "metadata": {
    "scrolled": false
   },
   "outputs": [
    {
     "name": "stdout",
     "output_type": "stream",
     "text": [
      "Accuracy, gender (test): 0.8269 (+/- 0.00)\n",
      "F1, gender (test): 0.91\n",
      "Recall, gender (test): 1.00\n",
      "Precision, gender (test): 0.83\n",
      "AUROC, gender (test): 0.58\n"
     ]
    }
   ],
   "source": [
    "# Define data and target\n",
    "X = mis_pre_df[['bond_amount','days','age','offense_class','race']]\n",
    "X = pd.get_dummies(X,columns=['offense_class','race'],drop_first=True)\n",
    "y = mis_pre_df.gender.ravel()\n",
    "\n",
    "# Make y traditional binary so recall can be accessed\n",
    "gender = {'M': 1,'F': 0}\n",
    "y = [gender[item] for item in y]\n",
    "\n",
    "X_train, X_test, y_train, y_test = train_test_split(X,y,test_size=.3,stratify=y,random_state=3)\n",
    "\n",
    "# Classifier\n",
    "clf = LogisticRegression(solver='liblinear')\n",
    "\n",
    "clf.fit(X_train,y_train)\n",
    "\n",
    "# Print the accuracy\n",
    "scores(clf,X_test,y_test,cv=5)"
   ]
  },
  {
   "cell_type": "markdown",
   "metadata": {},
   "source": [
    "Time to upsample the \"F\" samples - X_train, y_train ONLY, retain X_test, y_test.  Data to be used on logistic regression, KNN, and random forest models for gender models."
   ]
  },
  {
   "cell_type": "code",
   "execution_count": 7,
   "metadata": {
    "scrolled": true
   },
   "outputs": [
    {
     "name": "stdout",
     "output_type": "stream",
     "text": [
      "New counts:\n",
      "1.0    2251\n",
      "0.0    2251\n",
      "Name: gender, dtype: int64\n"
     ]
    }
   ],
   "source": [
    "# Define data and target\n",
    "X = mis_pre_df[['bond_amount','days','age','offense_class','race']]\n",
    "X = pd.get_dummies(X,columns=['offense_class','race'],drop_first=True,dtype='float')\n",
    "X = X.astype('float')\n",
    "y = mis_pre_df.gender.ravel()\n",
    "\n",
    "# Make y traditional binary so recall can be accessed\n",
    "gender = {'M': 1.0,'F': 0.0}\n",
    "y = [gender[item] for item in y]\n",
    "\n",
    "X_train, X_test, y_train, y_test = train_test_split(X,y,test_size=.3,stratify=y,random_state=3)\n",
    "\n",
    "# Merge the dfs back together to do the resampling and then pull back apart\n",
    "to_rebalance_df = X_train.copy()\n",
    "to_rebalance_df['gender'] = y_train.copy()\n",
    "\n",
    "rebalance_F = to_rebalance_df.loc[to_rebalance_df.gender==0]\n",
    "rebalance_M = to_rebalance_df.loc[to_rebalance_df.gender==1]\n",
    "\n",
    "samples = len(rebalance_M)\n",
    "\n",
    "F_upsampled = resample(rebalance_F,replace=True,n_samples=samples)\n",
    "\n",
    "balanced_df = pd.concat([F_upsampled,rebalance_M])\n",
    "\n",
    "print('New counts:')\n",
    "print(balanced_df.gender.value_counts())\n",
    "\n",
    "X_train = balanced_df.drop('gender',axis=1)\n",
    "y_train = balanced_df.gender.ravel()"
   ]
  },
  {
   "cell_type": "markdown",
   "metadata": {},
   "source": [
    "First pass at balanced logistic regression.  "
   ]
  },
  {
   "cell_type": "code",
   "execution_count": 8,
   "metadata": {
    "scrolled": false
   },
   "outputs": [
    {
     "name": "stdout",
     "output_type": "stream",
     "text": [
      "Accuracy, gender (test): 0.8269 (+/- 0.00)\n",
      "F1, gender (test): 0.68\n",
      "Recall, gender (test): 0.55\n",
      "Precision, gender (test): 0.89\n",
      "AUROC, gender (test): 0.64\n"
     ]
    }
   ],
   "source": [
    "# Rescale the data\n",
    "scaler = MinMaxScaler()\n",
    "\n",
    "# Classifier\n",
    "lr = LogisticRegression(solver='liblinear',random_state=3)\n",
    "\n",
    "pl = Pipeline([\n",
    "        ('scaler', scaler),\n",
    "        ('clf', lr)\n",
    "    ])\n",
    "\n",
    "pl = pl.fit(X_train,y_train)\n",
    "\n",
    "# Print the accuracy\n",
    "scores(pl,X_test,y_test,cv=5)"
   ]
  },
  {
   "cell_type": "markdown",
   "metadata": {},
   "source": [
    "After fixing my rebalancing issue, the previous model now appears to be guessing like the unbalanced model, but recall is no longer 1.0.  Importantly, AUROC has increased.  Tuning might stop the guessing?"
   ]
  },
  {
   "cell_type": "code",
   "execution_count": 9,
   "metadata": {
    "scrolled": false
   },
   "outputs": [
    {
     "name": "stdout",
     "output_type": "stream",
     "text": [
      "RandomizedSearchCV for 20 candidates parameter settings:\n",
      "\n",
      "Model rank: 1\n",
      "Mean test score: 0.60 (+/- 0.01)\n",
      "Parameters: {'C': 16.59154703724871, 'penalty': 'l1'}\n",
      "\n",
      "Model rank: 2\n",
      "Mean test score: 0.60 (+/- 0.01)\n",
      "Parameters: {'C': 25.031266453783974, 'penalty': 'l1'}\n",
      "\n",
      "Model rank: 2\n",
      "Mean test score: 0.60 (+/- 0.01)\n",
      "Parameters: {'C': 31.68034271614264, 'penalty': 'l1'}\n"
     ]
    },
    {
     "data": {
      "text/plain": [
       "LogisticRegression(C=16.59154703724871, class_weight=None, dual=False,\n",
       "          fit_intercept=True, intercept_scaling=1, max_iter=100,\n",
       "          multi_class='warn', n_jobs=None, penalty='l1', random_state=3,\n",
       "          solver='liblinear', tol=0.0001, verbose=0, warm_start=False)"
      ]
     },
     "execution_count": 9,
     "metadata": {},
     "output_type": "execute_result"
    }
   ],
   "source": [
    "# Create regularization penalty space\n",
    "penalty = ['l1','l2']\n",
    "\n",
    "# Create regularization hyperparameter distribution using uniform distribution\n",
    "C = uniform(loc=0, scale=100)\n",
    "#C = [0.0001, 0.001, 0.01, 0.1, 1, 5, 10, 50, 100, 1000]\n",
    "\n",
    "# Create hyperparameter options\n",
    "hyperparameters = dict(C=C, penalty=penalty)\n",
    "\n",
    "# Run randomized search with train scores turned on to stop pink deprecation warnings\n",
    "n_iter_search = 20\n",
    "random_search = RandomizedSearchCV(lr, hyperparameters, n_iter=n_iter_search, cv=5, return_train_score=False)\n",
    "\n",
    "random_search.fit(X_train, y_train)\n",
    "\n",
    "print('RandomizedSearchCV for', n_iter_search, 'candidates parameter settings:')\n",
    "report(random_search.cv_results_)\n",
    "\n",
    "lr_to_beat = random_search.best_score_\n",
    "best_lr = random_search.best_estimator_\n",
    "best_lr.fit(X_train,y_train)"
   ]
  },
  {
   "cell_type": "markdown",
   "metadata": {},
   "source": [
    "Tuned logistic regression below.  Hyperparameters don't improve the model or the guessing, and neither AUROC nor recall improve.  LR isn't going to work."
   ]
  },
  {
   "cell_type": "code",
   "execution_count": 10,
   "metadata": {},
   "outputs": [
    {
     "data": {
      "text/plain": [
       "Pipeline(memory=None,\n",
       "     steps=[('scaler', MinMaxScaler(copy=True, feature_range=(0, 1))), ('clf', LogisticRegression(C=16.59154703724871, class_weight=None, dual=False,\n",
       "          fit_intercept=True, intercept_scaling=1, max_iter=100,\n",
       "          multi_class='warn', n_jobs=None, penalty='l1', random_state=3,\n",
       "          solver='liblinear', tol=0.0001, verbose=0, warm_start=False))])"
      ]
     },
     "execution_count": 10,
     "metadata": {},
     "output_type": "execute_result"
    }
   ],
   "source": [
    "pl_tuned = Pipeline([\n",
    "        ('scaler', scaler),\n",
    "        ('clf', best_lr)\n",
    "    ])\n",
    "\n",
    "pl_tuned.fit(X_train,y_train)"
   ]
  },
  {
   "cell_type": "code",
   "execution_count": 11,
   "metadata": {},
   "outputs": [
    {
     "name": "stdout",
     "output_type": "stream",
     "text": [
      "Accuracy, gender (test): 0.8269 (+/- 0.00)\n",
      "F1, gender (test): 0.69\n",
      "Recall, gender (test): 0.56\n",
      "Precision, gender (test): 0.89\n",
      "AUROC, gender (test): 0.65\n"
     ]
    }
   ],
   "source": [
    "# Print the accuracy of the tuned LR\n",
    "scores(pl_tuned,X_test,y_test,cv=5)"
   ]
  },
  {
   "cell_type": "markdown",
   "metadata": {},
   "source": [
    "Trying out KNN for k=1...39 and plotting the cross-validated accuracy.  After a certain point, I think it reverts to guessing, too."
   ]
  },
  {
   "cell_type": "code",
   "execution_count": 12,
   "metadata": {},
   "outputs": [
    {
     "name": "stdout",
     "output_type": "stream",
     "text": [
      "Best: [(4, 0.0023391871512880025), (3, 0.009207739165239426), (5, 0.0692008755634842), (6, 0.08268940538740588), (7, 0.10848877326193351)]\n"
     ]
    },
    {
     "data": {
      "image/png": "[encoded data removed]",
      "text/plain": [
       "<Figure size 864x576 with 1 Axes>"
      ]
     },
     "metadata": {
      "needs_background": "light"
     },
     "output_type": "display_data"
    }
   ],
   "source": [
    "# Set up variables for testing\n",
    "neighbors = np.arange(1,40,1) \n",
    "train_accuracy = np.zeros(len(neighbors))\n",
    "test_accuracy = np.zeros(len(neighbors))\n",
    "best_acc = []\n",
    "best_neighbor = []\n",
    "\n",
    "for i, k in enumerate(neighbors):\n",
    "    \n",
    "    # Rescale the data\n",
    "    scaler = Normalizer()\n",
    "    # Call classifier with neighbor choices\n",
    "    clf = KNeighborsClassifier(n_neighbors=k)\n",
    "    # Set up the pipeline\n",
    "    pl = Pipeline([\n",
    "        ('scaler', scaler),\n",
    "        ('clf', clf)\n",
    "    ])\n",
    "\n",
    "    #Fit the model\n",
    "    pl.fit(X_train,y_train)\n",
    "\n",
    "    #Compute accuracy on the training set\n",
    "    train_accuracy[i] = cross_val_score(pl, X_train, y_train, cv=5).mean()\n",
    "\n",
    "    #Compute accuracy on the test set\n",
    "    test_accuracy[i] = cross_val_score(pl, X_test, y_test, cv=5).mean()\n",
    "    \n",
    "    if (.83>test_accuracy[i]>lr_to_beat):\n",
    "        best_neighbor.append(k)\n",
    "        best_acc.append(abs(test_accuracy[i]-train_accuracy[i]))\n",
    "        \n",
    "min_list = sorted(zip(best_neighbor,best_acc), key=lambda t: t[1])[0:5]\n",
    "print('Best:', min_list)\n",
    "    \n",
    "_ = plt.figure(figsize=(12,8))\n",
    "_ = plt.title('KNN accuracy with varying number of neighbors \\n (black dotted line indicates est. tuned LR acc from param search)', fontsize=20)\n",
    "_ = plt.plot(neighbors, test_accuracy, label='Testing accuracy')\n",
    "_ = plt.plot(neighbors, train_accuracy, label='Training accuracy')\n",
    "_ = plt.legend()\n",
    "_ = plt.xlabel('Number of neighbors', fontsize=20)\n",
    "_ = plt.ylabel('Accuracy', fontsize=20)\n",
    "_ = plt.axhline(lr_to_beat, color='black', linestyle=':', label='LogReg accuracy')"
   ]
  },
  {
   "cell_type": "code",
   "execution_count": 13,
   "metadata": {},
   "outputs": [
    {
     "name": "stdout",
     "output_type": "stream",
     "text": [
      "Tests for 4 neighbors:\n",
      "Accuracy, gender (test): 0.7438 (+/- 0.02)\n",
      "F1, gender (test): 0.69\n",
      "Recall, gender (test): 0.59\n",
      "Precision, gender (test): 0.84\n",
      "AUROC, gender (test): 0.55\n",
      "\n",
      "Tests for 3 neighbors:\n",
      "Accuracy, gender (test): 0.7858 (+/- 0.02)\n",
      "F1, gender (test): 0.76\n",
      "Recall, gender (test): 0.70\n",
      "Precision, gender (test): 0.84\n",
      "AUROC, gender (test): 0.54\n",
      "\n",
      "Tests for 5 neighbors:\n",
      "Accuracy, gender (test): 0.7978 (+/- 0.02)\n",
      "F1, gender (test): 0.71\n",
      "Recall, gender (test): 0.61\n",
      "Precision, gender (test): 0.84\n",
      "AUROC, gender (test): 0.54\n",
      "\n",
      "Tests for 6 neighbors:\n",
      "Accuracy, gender (test): 0.7815 (+/- 0.02)\n",
      "F1, gender (test): 0.64\n",
      "Recall, gender (test): 0.51\n",
      "Precision, gender (test): 0.84\n",
      "AUROC, gender (test): 0.54\n",
      "\n",
      "Tests for 7 neighbors:\n",
      "Accuracy, gender (test): 0.8106 (+/- 0.02)\n",
      "F1, gender (test): 0.67\n",
      "Recall, gender (test): 0.56\n",
      "Precision, gender (test): 0.83\n",
      "AUROC, gender (test): 0.54\n",
      "\n"
     ]
    }
   ],
   "source": [
    "# Build the model with the best neighbors from test above and print testing cv acc for each\n",
    "for k, acc in min_list:\n",
    "    # Rescale the data\n",
    "    scaler = Normalizer()\n",
    "\n",
    "    # Classifier\n",
    "    clf = KNeighborsClassifier(n_neighbors=k)\n",
    "\n",
    "    pl = Pipeline([\n",
    "        ('scaler', scaler),\n",
    "        ('clf', clf)\n",
    "    ])\n",
    "\n",
    "    pl.fit(X_train,y_train)\n",
    "\n",
    "    # Print the accuracy\n",
    "    print('Tests for',k,'neighbors:')\n",
    "    scores(pl,X_test,y_test,cv=5)\n",
    "    print('')"
   ]
  },
  {
   "cell_type": "markdown",
   "metadata": {},
   "source": [
    "KNN is interesting here.  I wanted to at least try it because I felt there was potential, but it's a mess.  The AUROC and f1 scores are worse than LR\n",
    "\n",
    "Moving on to random forests."
   ]
  },
  {
   "cell_type": "code",
   "execution_count": 14,
   "metadata": {},
   "outputs": [
    {
     "name": "stdout",
     "output_type": "stream",
     "text": [
      "Accuracy, gender (test): 0.7978 (+/- 0.02)\n",
      "F1, gender (test): 0.86\n",
      "Recall, gender (test): 0.89\n",
      "Precision, gender (test): 0.84\n",
      "AUROC, gender (test): 0.59\n"
     ]
    },
    {
     "data": {
      "image/png": "[encoded data removed]",
      "text/plain": [
       "<Figure size 864x576 with 1 Axes>"
      ]
     },
     "metadata": {
      "needs_background": "light"
     },
     "output_type": "display_data"
    }
   ],
   "source": [
    "# Classifier\n",
    "rf = RandomForestClassifier(n_estimators=100,random_state=3)\n",
    "\n",
    "rf.fit(X_train,y_train)\n",
    "\n",
    "scores(rf,X_test,y_test,cv=5)\n",
    "\n",
    "feature_imp = pd.Series(rf.feature_importances_,index=X.columns).sort_values(ascending=False)\n",
    "_ = plt.figure(figsize=(12,8))\n",
    "_ = sns.barplot(x=feature_imp, y=feature_imp.index)\n",
    "_ = plt.xlabel('Feature Importance Score', fontsize=20)\n",
    "_ = plt.title('Importance of features when predicting gender', fontsize=20)"
   ]
  },
  {
   "cell_type": "markdown",
   "metadata": {},
   "source": [
    "As somewhat expected, the cross_val_score of the random forest is higher than the logistic regression, increasing from lower 60s to about 75% out of the box.  Random forest will be tuned in further steps."
   ]
  },
  {
   "cell_type": "markdown",
   "metadata": {},
   "source": [
    "Here's the code to search for the best hyperparameters.  The search claims that a tuned random forest will reach nearly 90% accuracy, by far the highest potential of the tested estimators."
   ]
  },
  {
   "cell_type": "code",
   "execution_count": 15,
   "metadata": {
    "scrolled": false
   },
   "outputs": [
    {
     "name": "stdout",
     "output_type": "stream",
     "text": [
      "Ranked parameter settings, cv with training data:\n",
      "\n",
      "Model rank: 1\n",
      "Mean test score: 0.92 (+/- 0.01)\n",
      "Parameters: {'oob_score': True, 'n_estimators': 1000, 'min_samples_split': 3, 'max_features': 0.3, 'criterion': 'gini', 'bootstrap': True}\n",
      "\n",
      "Model rank: 2\n",
      "Mean test score: 0.92 (+/- 0.01)\n",
      "Parameters: {'oob_score': True, 'n_estimators': 500, 'min_samples_split': 3, 'max_features': 0.3, 'criterion': 'gini', 'bootstrap': True}\n",
      "\n",
      "Model rank: 2\n",
      "Mean test score: 0.92 (+/- 0.01)\n",
      "Parameters: {'oob_score': True, 'n_estimators': 500, 'min_samples_split': 3, 'max_features': 0.5, 'criterion': 'entropy', 'bootstrap': True}\n"
     ]
    },
    {
     "data": {
      "text/plain": [
       "RandomForestClassifier(bootstrap=True, class_weight=None, criterion='gini',\n",
       "            max_depth=None, max_features=0.3, max_leaf_nodes=None,\n",
       "            min_impurity_decrease=0.0, min_impurity_split=None,\n",
       "            min_samples_leaf=1, min_samples_split=3,\n",
       "            min_weight_fraction_leaf=0.0, n_estimators=1000, n_jobs=None,\n",
       "            oob_score=True, random_state=3, verbose=0, warm_start=False)"
      ]
     },
     "execution_count": 15,
     "metadata": {},
     "output_type": "execute_result"
    }
   ],
   "source": [
    "# Parameters to test in randomizedsearchcv\n",
    "param_dist = {'n_estimators': [300, 500, 1000],\n",
    "              'max_features': [.3, .5],\n",
    "              'min_samples_split': [3, 4, 5],\n",
    "              'bootstrap': [True],\n",
    "              'criterion': ['gini', 'entropy'],\n",
    "              'oob_score': [True]}\n",
    "\n",
    "# Run randomized search\n",
    "n_iter_search = 20\n",
    "random_search = RandomizedSearchCV(rf, param_distributions=param_dist,\n",
    "                                   n_iter=n_iter_search, cv=5, return_train_score=False, n_jobs=-1)\n",
    "\n",
    "random_search.fit(X_train, y_train)\n",
    "print('Ranked parameter settings, cv with training data:')\n",
    "report(random_search.cv_results_)\n",
    "\n",
    "best_rf = random_search.best_estimator_\n",
    "best_rf.fit(X_train,y_train)"
   ]
  },
  {
   "cell_type": "markdown",
   "metadata": {},
   "source": [
    "The OOB score from the best rf classifier shows the expected improvement on the unused training data."
   ]
  },
  {
   "cell_type": "code",
   "execution_count": 16,
   "metadata": {},
   "outputs": [
    {
     "data": {
      "text/plain": [
       "0.9351399378054198"
      ]
     },
     "execution_count": 16,
     "metadata": {},
     "output_type": "execute_result"
    }
   ],
   "source": [
    "best_rf.oob_score_"
   ]
  },
  {
   "cell_type": "markdown",
   "metadata": {},
   "source": [
    "But when you apply it to the test set, the accuracy drops.  It is consistently very near (or exactly) the orginal rf accuracy, and I can't find an explanation for this behaviour."
   ]
  },
  {
   "cell_type": "code",
   "execution_count": 17,
   "metadata": {},
   "outputs": [
    {
     "name": "stdout",
     "output_type": "stream",
     "text": [
      "Accuracy, gender (test): 0.8012 (+/- 0.03)\n",
      "F1, gender (test): 0.86\n",
      "Recall, gender (test): 0.89\n",
      "Precision, gender (test): 0.84\n",
      "AUROC, gender (test): 0.60\n"
     ]
    }
   ],
   "source": [
    "scores(best_rf,X_test,y_test,cv=5)"
   ]
  },
  {
   "cell_type": "markdown",
   "metadata": {},
   "source": [
    "And here's a cross tabulation of the test set predictions.  \n",
    "\n",
    "# NOTE TO LINDY:\n",
    "## This doesn't even make sense.  This is driving me insane.\n",
    "\n",
    "18% f, 11% male incorrectly classified"
   ]
  },
  {
   "cell_type": "code",
   "execution_count": 18,
   "metadata": {},
   "outputs": [
    {
     "name": "stdout",
     "output_type": "stream",
     "text": [
      "        Female  Male\n",
      "Female      39   106\n",
      "Male       163   859\n"
     ]
    },
    {
     "data": {
      "image/png": "[encoded data removed]",
      "text/plain": [
       "<Figure size 864x576 with 2 Axes>"
      ]
     },
     "metadata": {
      "needs_background": "light"
     },
     "output_type": "display_data"
    }
   ],
   "source": [
    "# Calculate the cluster labels\n",
    "labels = best_rf.predict(X_test)\n",
    "x_label = ['Female','Male']\n",
    "y_label = ['Female','Male']\n",
    "\n",
    "# Create a DataFrame with labels and species as columns\n",
    "ct_df = pd.DataFrame({'predicts': labels, 'gender': y_test}).astype('int')\n",
    "\n",
    "# Create crosstab\n",
    "ct = pd.crosstab(ct_df.predicts,ct_df.gender).apply(lambda x: x, axis=1)\n",
    "ct.index = x_label\n",
    "ct.columns = y_label\n",
    "\n",
    "# Display ct\n",
    "print(ct)\n",
    "\n",
    "# And display as a heatmap as an alternate way of understanding\n",
    "_ = plt.figure(figsize=(12, 8))\n",
    "_ = sns.heatmap(ct,annot=True,annot_kws={'size':12},\n",
    "                cmap=sns.cubehelix_palette(100,start=360,rot=-.6,light=.9,dark=.1),\n",
    "                xticklabels=x_label,yticklabels=y_label,fmt='g')\n",
    "_ = plt.xlabel('Actual gender',fontsize=16)\n",
    "_ = plt.ylabel('Predicted gender',fontsize=16) \n",
    "_ = plt.title('Heatmap of predictions',fontsize=20)"
   ]
  },
  {
   "cell_type": "markdown",
   "metadata": {},
   "source": [
    "Now that the model is created, how does it do on the post-enactment period?"
   ]
  },
  {
   "cell_type": "code",
   "execution_count": 19,
   "metadata": {
    "scrolled": false
   },
   "outputs": [
    {
     "name": "stdout",
     "output_type": "stream",
     "text": [
      "Accuracy, gender (test): 0.8021 (+/- 0.01)\n",
      "F1, gender (test): 0.86\n",
      "Recall, gender (test): 0.88\n",
      "Precision, gender (test): 0.84\n",
      "AUROC, gender (test): 0.57\n"
     ]
    }
   ],
   "source": [
    "# Define data and target\n",
    "A = mis_post_df[['bond_amount','days','age','offense_class','race']]\n",
    "A = pd.get_dummies(A,columns=['offense_class','race'],drop_first=True)\n",
    "b = mis_post_df.gender.ravel()\n",
    "\n",
    "# Make y traditional binary so recall can be accessed\n",
    "gender = {'M': 1,'F': 0}\n",
    "b = [gender[item] for item in b]\n",
    "\n",
    "scores(best_rf,A,b,cv=5)"
   ]
  },
  {
   "cell_type": "markdown",
   "metadata": {},
   "source": [
    "### It is possible to create a predictor that is 100% correct for gender if you include the facility.  CT only has one facility for housing both pretrial and sentenced women.  (Source: https://portal.ct.gov/DOC/Facility/York-CI)\n",
    "\n",
    "This is not balanced or processed in any way.  It's just for representation."
   ]
  },
  {
   "cell_type": "code",
   "execution_count": 20,
   "metadata": {
    "scrolled": false
   },
   "outputs": [
    {
     "name": "stdout",
     "output_type": "stream",
     "text": [
      "Accuracy, gender (test): 1.0000 (+/- 0.00)\n",
      "F1, gender (test): 1.00\n",
      "Recall, gender (test): 1.00\n",
      "Precision, gender (test): 1.00\n",
      "AUROC, gender (test): 1.00\n"
     ]
    },
    {
     "data": {
      "image/png": "[encoded data removed]",
      "text/plain": [
       "<Figure size 864x576 with 1 Axes>"
      ]
     },
     "metadata": {
      "needs_background": "light"
     },
     "output_type": "display_data"
    }
   ],
   "source": [
    "# Define data and target\n",
    "X = mis_pre_df[['bond_amount','days','age','offense_class','race','facility']]\n",
    "X = pd.get_dummies(X,columns=['offense_class','race','facility'],drop_first=True)\n",
    "y = mis_pre_df.gender.ravel()\n",
    "\n",
    "# Make y traditional binary so recall can be accessed\n",
    "gender = {'M': 1,'F': 0}\n",
    "y = [gender[item] for item in y]\n",
    "\n",
    "X_train, X_test, y_train, y_test = train_test_split(X,y,test_size=.3,stratify=y,random_state=3)\n",
    "\n",
    "# Classifier\n",
    "clf = RandomForestClassifier(n_estimators=100,random_state=3)\n",
    "\n",
    "clf.fit(X_train,y_train)\n",
    "\n",
    "score = cross_val_score(clf, X_test, y_test, cv=5) \n",
    "print('Accuracy, gender (test): %0.4f (+/- %0.2f)' % (score.mean(), score.std() * 2))\n",
    "print('F1, gender (test): %0.2f' % f1_score(y_test,clf.predict(X_test)))\n",
    "print('Recall, gender (test): %0.2f' % recall_score(y_test,clf.predict(X_test)))\n",
    "print('Precision, gender (test): %0.2f' % precision_score(y_test,clf.predict(X_test)))\n",
    "print('AUROC, gender (test): %0.2f' % roc_auc_score(y_test,clf.predict_proba(X_test)[:,1]))\n",
    "\n",
    "feature_imp = pd.Series(clf.feature_importances_,index=X.columns).sort_values(ascending=False)\n",
    "# Restrict the features available on the y-axis so you can read them\n",
    "_ = plt.figure(figsize=(12,8))\n",
    "_ = sns.barplot(x=feature_imp[:8], y=feature_imp.index[:8])\n",
    "_ = plt.xlabel('Feature Importance Score',fontsize=20)\n",
    "_ = plt.title('Importance of features \\n (when facility taken into account)',fontsize=20)"
   ]
  },
  {
   "cell_type": "code",
   "execution_count": null,
   "metadata": {},
   "outputs": [],
   "source": []
  }
 ],
 "metadata": {
  "kernelspec": {
   "display_name": "Python 3",
   "language": "python",
   "name": "python3"
  },
  "language_info": {
   "codemirror_mode": {
    "name": "ipython",
    "version": 3
   },
   "file_extension": ".py",
   "mimetype": "text/x-python",
   "name": "python",
   "nbconvert_exporter": "python",
   "pygments_lexer": "ipython3",
   "version": "3.7.2"
  }
 },
 "nbformat": 4,
 "nbformat_minor": 2
}
