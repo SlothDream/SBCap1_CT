{
 "cells": [
  {
   "cell_type": "code",
   "execution_count": 1,
   "metadata": {},
   "outputs": [
    {
     "name": "stdout",
     "output_type": "stream",
     "text": [
      "<class 'pandas.core.frame.DataFrame'>\n",
      "RangeIndex: 2677123 entries, 0 to 2677122\n",
      "Data columns (total 10 columns):\n",
      "download_date            datetime64[ns]\n",
      "identifier               object\n",
      "latest_admission_date    datetime64[ns]\n",
      "race                     object\n",
      "gender                   object\n",
      "age                      int64\n",
      "bond_amount              int64\n",
      "offense                  object\n",
      "facility                 object\n",
      "detainer                 object\n",
      "dtypes: datetime64[ns](2), int64(2), object(6)\n",
      "memory usage: 204.2+ MB\n",
      "None\n"
     ]
    }
   ],
   "source": [
    "# Data cleaning for CT Pretrial Detainees\n",
    "# (Springboard Capstone 1)\n",
    "# 10 November 2018, Misty M. Giles\n",
    "\n",
    "import pandas as pd\n",
    "\n",
    "# Read data in and update the columns to lower case and replace spaces with _s.\n",
    "\n",
    "df = pd.read_csv('Accused_Pre-Trial_Inmates_in_Correctional_Facilities.csv', \n",
    "                 parse_dates=['DOWNLOAD DATE', 'LATEST ADMISSION DATE'])\n",
    "df.columns = ['download_date', 'identifier', 'latest_admission_date', 'race', \n",
    "              'gender', 'age', 'bond_amount', 'offense', 'facility', 'detainer']\n",
    "\n",
    "# Check .info() to see if the dtypes are appropriate.\n",
    "print(df.info())"
   ]
  },
  {
   "cell_type": "code",
   "execution_count": 2,
   "metadata": {},
   "outputs": [
    {
     "name": "stdout",
     "output_type": "stream",
     "text": [
      "  download_date identifier latest_admission_date      race gender  age  \\\n",
      "0    2016-07-01   ZZEBBEWZ            2016-06-17     WHITE      M   63   \n",
      "1    2016-07-01   ZZEBBRZC            2016-06-30     BLACK      M   42   \n",
      "2    2016-07-01   ZZEBCBHC            2016-06-06     WHITE      M   60   \n",
      "3    2016-07-01   ZZEBCCWL            2016-04-25  HISPANIC      M   44   \n",
      "4    2016-07-01   ZZEBCHBZ            2016-06-21  HISPANIC      M   58   \n",
      "\n",
      "   bond_amount                                   offense     facility detainer  \n",
      "0         5000  ASSAULT, THIRD DEGREE                 AM  CORRIGAN CI     NONE  \n",
      "1          500  FAILURE TO APPEAR, SECOND DEGREE      AM  HARTFORD CC     NONE  \n",
      "2        40000  EVADING RESPONSIBILITY                 M  HARTFORD CC     NONE  \n",
      "3       125000  CRIMINAL POSSESSION OF A PISTOL       DF  HARTFORD CC     NONE  \n",
      "4         2500  BREACH OF PEACE                       BM  CORRIGAN CI     NONE  \n"
     ]
    }
   ],
   "source": [
    "# Check the first rows to ensure that the data is expected.\n",
    "print(df.head())"
   ]
  },
  {
   "cell_type": "code",
   "execution_count": 3,
   "metadata": {},
   "outputs": [],
   "source": [
    "# Remove the commas from the bond_amount column and change to int.\n",
    "df['bond_amount'] = df['bond_amount'].replace(',', '', regex=True).astype(int)"
   ]
  },
  {
   "cell_type": "code",
   "execution_count": 4,
   "metadata": {},
   "outputs": [
    {
     "name": "stdout",
     "output_type": "stream",
     "text": [
      "<class 'pandas.core.frame.DataFrame'>\n",
      "RangeIndex: 2677123 entries, 0 to 2677122\n",
      "Data columns (total 10 columns):\n",
      "download_date            datetime64[ns]\n",
      "identifier               object\n",
      "latest_admission_date    datetime64[ns]\n",
      "race                     category\n",
      "gender                   category\n",
      "age                      int64\n",
      "bond_amount              int32\n",
      "offense                  object\n",
      "facility                 category\n",
      "detainer                 category\n",
      "dtypes: category(4), datetime64[ns](2), int32(1), int64(1), object(2)\n",
      "memory usage: 122.6+ MB\n",
      "None\n"
     ]
    }
   ],
   "source": [
    "# Change race, gender, facility, and detainer to category type and verify.\n",
    "df.race = df.race.astype('category')\n",
    "df.gender = df.gender.astype('category')\n",
    "df.facility = df.facility.astype('category')\n",
    "df.detainer = df.detainer.astype('category')\n",
    "print(df.info())"
   ]
  },
  {
   "cell_type": "code",
   "execution_count": 5,
   "metadata": {},
   "outputs": [
    {
     "name": "stdout",
     "output_type": "stream",
     "text": [
      "5\n",
      "2\n",
      "50\n",
      "9\n"
     ]
    }
   ],
   "source": [
    "# Check the numbers of the categories.\n",
    "print(df.race.nunique())\n",
    "print(df.gender.nunique())\n",
    "print(df.facility.nunique())\n",
    "print(df.detainer.nunique())"
   ]
  },
  {
   "cell_type": "code",
   "execution_count": 6,
   "metadata": {},
   "outputs": [
    {
     "name": "stdout",
     "output_type": "stream",
     "text": [
      "[WHITE, BLACK, HISPANIC, ASIAN, AMER IND]\n",
      "Categories (5, object): [WHITE, BLACK, HISPANIC, ASIAN, AMER IND]\n",
      "[M, F]\n",
      "Categories (2, object): [M, F]\n",
      "['CORRIGAN CI', 'HARTFORD CC', 'YORK CI', 'NEW HAVEN CC', 'BRIDGEPORT CC', 'GARNER', 'MACDOUGALL', 'WALKER RC', 'NORTHERN CI', 'CHESHIRE CI', 'OSBORN CI', 'MANSON YI', 'MH-WHITING', 'FEDERAL MARSHAL', 'D KIMBALL HSP', 'ROBINSON CI', 'ST MARYS HOSP', 'MH-CVH', 'ENFIELD CI', 'HARTFORD HOSP', 'WILLARD-CYBULSKI CI', 'UCONN HOSP', 'ST VINC HOSP', 'LAWRENCE HOSP', 'WATERBRY HOSP', 'MEDICAL HOSP', 'YALE/N.H.HOSP', 'JOHNSON HOSP', 'MH-YALE/N.H.', 'MH-ST MARY', 'BROOKLYN CI', 'DANBURY HOSP', 'BACKUS HOSP', 'RADGOWSKI', 'ST FRAN HOSP', 'PO-GARIBALDI', 'BRIDGEPORT HOSP', 'PO-WILLIAMS', 'PO-CARRINGTON', '4YV', 'ST RAPH HOSP', 'MH-HTFD HOSP', 'CONSIGN @ NY', 'MH-ST FRANCIS', 'MH-UCONN', 'PO-FERRARO', 'NORWALK HOSP', 'MH-ST RAPHAEL', 'MID-STATE HOSP', 'MER-WALL HOSP']\n",
      "['NONE', 'SPECIAL PAROLE', 'FEDERAL', 'STATE OF CT', 'OTHER STATE', 'IMMIGRATION', 'DO NOT RELEASE', 'GOVERNOR WRNT', 'CONSEC SENT']\n"
     ]
    }
   ],
   "source": [
    "# Check the expected values of the categories.\n",
    "# .tolist() used to show entire list as needed.\n",
    "print(df.race.values.unique())\n",
    "print(df.gender.values.unique())\n",
    "print(df.facility.values.unique().tolist())\n",
    "print(df.detainer.values.unique().tolist())"
   ]
  },
  {
   "cell_type": "code",
   "execution_count": 7,
   "metadata": {},
   "outputs": [
    {
     "name": "stdout",
     "output_type": "stream",
     "text": [
      "<class 'pandas.core.frame.DataFrame'>\n",
      "Int64Index: 458767 entries, 0 to 458767\n",
      "Data columns (total 10 columns):\n",
      "download_date            458767 non-null datetime64[ns]\n",
      "identifier               458767 non-null object\n",
      "latest_admission_date    458767 non-null datetime64[ns]\n",
      "race                     458767 non-null category\n",
      "gender                   458767 non-null category\n",
      "age                      458767 non-null int64\n",
      "bond_amount              458767 non-null int32\n",
      "offense                  458767 non-null object\n",
      "facility                 458767 non-null category\n",
      "detainer                 458767 non-null category\n",
      "dtypes: category(4), datetime64[ns](2), int32(1), int64(1), object(2)\n",
      "memory usage: 24.5+ MB\n",
      "None\n"
     ]
    }
   ],
   "source": [
    "# Next 5 blocks:\n",
    "# Split data into 6-month blocks to accomodate GitHub's limitations.\n",
    "# (First block includes about two weeks before the 6 months, \n",
    "#  15 June 2016 through 31 December 2016.  last block contains\n",
    "#  about 6 weeks less than 6 months, 1 July 2018 through 11 November 2018.)\n",
    "\n",
    "detainees_2016_b = df[df.download_date < '2017-01-01']\n",
    "detainees_2016_b.columns.values\n",
    "print(detainees_2016_b.info())\n",
    "detainees_2016_b.to_csv('detainees_2016_b.csv', index=False)"
   ]
  },
  {
   "cell_type": "code",
   "execution_count": 8,
   "metadata": {},
   "outputs": [
    {
     "name": "stdout",
     "output_type": "stream",
     "text": [
      "<class 'pandas.core.frame.DataFrame'>\n",
      "Int64Index: 589433 entries, 458429 to 1048199\n",
      "Data columns (total 10 columns):\n",
      "download_date            589433 non-null datetime64[ns]\n",
      "identifier               589433 non-null object\n",
      "latest_admission_date    589433 non-null datetime64[ns]\n",
      "race                     589433 non-null category\n",
      "gender                   589433 non-null category\n",
      "age                      589433 non-null int64\n",
      "bond_amount              589433 non-null int32\n",
      "offense                  589433 non-null object\n",
      "facility                 589433 non-null category\n",
      "detainer                 589433 non-null category\n",
      "dtypes: category(4), datetime64[ns](2), int32(1), int64(1), object(2)\n",
      "memory usage: 31.5+ MB\n",
      "None\n"
     ]
    }
   ],
   "source": [
    "detainees_2017_a = df.loc[(df['download_date'] >= '2017-01-01') & (df['download_date'] < '2017-07-01')]\n",
    "detainees_2017_a.columns.values\n",
    "print(detainees_2017_a.info())\n",
    "detainees_2017_a.to_csv('detainees_2017_a.csv', index=False)"
   ]
  },
  {
   "cell_type": "code",
   "execution_count": 9,
   "metadata": {},
   "outputs": [
    {
     "name": "stdout",
     "output_type": "stream",
     "text": [
      "<class 'pandas.core.frame.DataFrame'>\n",
      "Int64Index: 567229 entries, 1048200 to 1615428\n",
      "Data columns (total 10 columns):\n",
      "download_date            567229 non-null datetime64[ns]\n",
      "identifier               567229 non-null object\n",
      "latest_admission_date    567229 non-null datetime64[ns]\n",
      "race                     567229 non-null category\n",
      "gender                   567229 non-null category\n",
      "age                      567229 non-null int64\n",
      "bond_amount              567229 non-null int32\n",
      "offense                  567229 non-null object\n",
      "facility                 567229 non-null category\n",
      "detainer                 567229 non-null category\n",
      "dtypes: category(4), datetime64[ns](2), int32(1), int64(1), object(2)\n",
      "memory usage: 30.3+ MB\n",
      "None\n"
     ]
    }
   ],
   "source": [
    "detainees_2017_b = df.loc[(df['download_date'] >= '2017-07-01') & (df['download_date'] < '2018-01-01')]\n",
    "detainees_2017_b.columns.values\n",
    "print(detainees_2017_b.info())\n",
    "detainees_2017_b.to_csv('detainees_2017_b.csv', index=False)"
   ]
  },
  {
   "cell_type": "code",
   "execution_count": 10,
   "metadata": {},
   "outputs": [
    {
     "name": "stdout",
     "output_type": "stream",
     "text": [
      "<class 'pandas.core.frame.DataFrame'>\n",
      "Int64Index: 586973 entries, 1615429 to 2202401\n",
      "Data columns (total 10 columns):\n",
      "download_date            586973 non-null datetime64[ns]\n",
      "identifier               586973 non-null object\n",
      "latest_admission_date    586973 non-null datetime64[ns]\n",
      "race                     586973 non-null category\n",
      "gender                   586973 non-null category\n",
      "age                      586973 non-null int64\n",
      "bond_amount              586973 non-null int32\n",
      "offense                  586973 non-null object\n",
      "facility                 586973 non-null category\n",
      "detainer                 586973 non-null category\n",
      "dtypes: category(4), datetime64[ns](2), int32(1), int64(1), object(2)\n",
      "memory usage: 31.4+ MB\n",
      "None\n"
     ]
    }
   ],
   "source": [
    "detainees_2018_a = df.loc[(df['download_date'] >= '2018-01-01') & (df['download_date'] < '2018-07-01')]\n",
    "detainees_2018_a.columns.values\n",
    "print(detainees_2018_a.info())\n",
    "detainees_2018_a.to_csv('detainees_2018_a.csv', index=False)"
   ]
  },
  {
   "cell_type": "code",
   "execution_count": 11,
   "metadata": {},
   "outputs": [
    {
     "name": "stdout",
     "output_type": "stream",
     "text": [
      "<class 'pandas.core.frame.DataFrame'>\n",
      "Int64Index: 474721 entries, 2202402 to 2677122\n",
      "Data columns (total 10 columns):\n",
      "download_date            474721 non-null datetime64[ns]\n",
      "identifier               474721 non-null object\n",
      "latest_admission_date    474721 non-null datetime64[ns]\n",
      "race                     474721 non-null category\n",
      "gender                   474721 non-null category\n",
      "age                      474721 non-null int64\n",
      "bond_amount              474721 non-null int32\n",
      "offense                  474721 non-null object\n",
      "facility                 474721 non-null category\n",
      "detainer                 474721 non-null category\n",
      "dtypes: category(4), datetime64[ns](2), int32(1), int64(1), object(2)\n",
      "memory usage: 25.4+ MB\n",
      "None\n"
     ]
    }
   ],
   "source": [
    "detainees_2018_b = df.loc[(df['download_date'] >= '2018-07-01') & (df['download_date'] < '2019-01-01')]\n",
    "detainees_2018_b.columns.values\n",
    "print(detainees_2018_b.info())\n",
    "detainees_2018_b.to_csv('detainees_2018_b.csv', index=False)"
   ]
  },
  {
   "cell_type": "code",
   "execution_count": 12,
   "metadata": {},
   "outputs": [
    {
     "name": "stdout",
     "output_type": "stream",
     "text": [
      "Misdemeanors (2016_b and 2017_a) = 134382\n",
      "Felonies (2016_b and 2017_a) = 674382\n"
     ]
    }
   ],
   "source": [
    "mis_2016_b_2017_a = detainees_2016_b.offense.loc[detainees_2016_b.offense.str.endswith('M')].count() + detainees_2017_a.offense.loc[detainees_2017_a.offense.str.endswith('M')].count()\n",
    "fel_2016_b_2017_a = detainees_2016_b.offense.loc[detainees_2016_b.offense.str.endswith('F')].count() + detainees_2017_a.offense.loc[detainees_2017_a.offense.str.endswith('F')].count()\n",
    "# unk_2016_b_2017_a = detainees_2016_b.offense.loc[detainees_2016_b.offense.str.endswith(('M','F'))].count()\n",
    "\n",
    "print('Misdemeanors (2016_b and 2017_a) = ' + str(mis_2016_b_2017_a))\n",
    "print('Felonies (2016_b and 2017_a) = ' + str(fel_2016_b_2017_a))\n",
    "# print(str(unk_2016_b_2017_a))"
   ]
  },
  {
   "cell_type": "code",
   "execution_count": null,
   "metadata": {},
   "outputs": [],
   "source": []
  },
  {
   "cell_type": "code",
   "execution_count": null,
   "metadata": {},
   "outputs": [],
   "source": [
    "print(1048200 - (59537 + 74845) - (294689 + 379693))"
   ]
  },
  {
   "cell_type": "code",
   "execution_count": null,
   "metadata": {},
   "outputs": [],
   "source": [
    "print(pd.Series(detainees_2016_b.identifier).nunique())\n",
    "print(pd.Series(detainees_2017_a.identifier).nunique())"
   ]
  },
  {
   "cell_type": "code",
   "execution_count": 35,
   "metadata": {},
   "outputs": [
    {
     "name": "stdout",
     "output_type": "stream",
     "text": [
      "0         ASSAULT, THIRD DEGREE                 AM\n",
      "1         FAILURE TO APPEAR, SECOND DEGREE      AM\n",
      "2         EVADING RESPONSIBILITY                 M\n",
      "4         BREACH OF PEACE                       BM\n",
      "28        RECKLESS ENDANGERMENT, FIRST DEGREE   AM\n",
      "30        THREATENING                           AM\n",
      "38        THREATENING                           AM\n",
      "39        ASSAULT, THIRD DEGREE                 AM\n",
      "48        THREATENING                           AM\n",
      "60        CRIM VIOL RES ORDER                   AM\n",
      "69        CRIMINAL TRESPASS, THIRD DEGREE       CM\n",
      "74        INTERFERING WITH AN OFFICER           AM\n",
      "85        DISORDERLY CONDUCT                    CM\n",
      "86        LARCENY, SIXTH DEGREE                 CM\n",
      "94        THREATENING                           AM\n",
      "95        CRIMINAL IMPERSONATION                BM\n",
      "99        ASSAULT, THIRD DEGREE                 AM\n",
      "106       ASSAULT, THIRD DEGREE                 AM\n",
      "111       ASSAULT 3RD DEGREE, VICTIM OVER 59    AM\n",
      "112       INTERFERING WITH AN OFFICER           AM\n",
      "113       ASSAULT, THIRD DEGREE                 AM\n",
      "120       INTERFERING WITH AN OFFICER           AM\n",
      "139       ASSAULT, THIRD DEGREE                 AM\n",
      "141       ASSAULT 3RD DEGREE, VICTIM OVER 59    AM\n",
      "149       CRIM VIOL OF PROTECTIVE ORDER         AM\n",
      "157       CRIMINAL TRESPASS, FIRST DEGREE       AM\n",
      "166       OPERATING UNDER SUSPENDED LIC OR REG.  M\n",
      "167       LARCENY, SIXTH DEGREE                 CM\n",
      "168       LARCENY, FIFTH DEGREE                 BM\n",
      "169       THREATENING                           AM\n",
      "                            ...                   \n",
      "458621    CRIM VIOL OF PROTECTIVE ORDER         AM\n",
      "458626    FAILURE TO APPEAR, SECOND DEGREE      AM\n",
      "458628    DISORDERLY CONDUCT                    CM\n",
      "458629    LARCENY, FIFTH DEGREE                 BM\n",
      "458636    ASSAULT, THIRD DEGREE                 AM\n",
      "458638    DISORDERLY CONDUCT                    CM\n",
      "458645    FAILURE TO APPEAR, SECOND DEGREE      AM\n",
      "458652    ASSAULT, THIRD DEGREE                 AM\n",
      "458656    ASSAULT, THIRD DEGREE                 AM\n",
      "458659    MANUF OR POSSESSION OF BURGLAR TOOLS  AM\n",
      "458660    INTERFERING WITH AN EMERGENCY CALL    AM\n",
      "458668    FAILURE TO APPEAR, SECOND DEGREE      AM\n",
      "458672    BREACH OF PEACE                       BM\n",
      "458674    CRIMINAL MISCHIEF, THIRD DEGREE       BM\n",
      "458680    VIOLATE COND OF RELEASE-2ND DEG       AM\n",
      "458681    CRIM VIOL RES ORDER                   AM\n",
      "458682    BREACH OF PEACE                       BM\n",
      "458690    INTERFERING WITH AN EMERGENCY CALL    AM\n",
      "458691    MANUF OR POSSESSION OF BURGLAR TOOLS  AM\n",
      "458696    INTERFERING WITH AN OFFICER           AM\n",
      "458697    CRIMINAL TRESPASS, FIRST DEGREE       AM\n",
      "458703    INTERFERING WITH AN OFFICER           AM\n",
      "458705    LARCENY, FIFTH DEGREE                 BM\n",
      "458711    FAILURE TO APPEAR, SECOND DEGREE      AM\n",
      "458731    THREATENING                           AM\n",
      "458735    THREATENING                           AM\n",
      "458745    RECKLESS ENDANGERMENT, SECOND DEGREE  BM\n",
      "458751    ASSAULT, THIRD DEGREE                 AM\n",
      "458759    THREATENING                           AM\n",
      "458766    LARCENY, FOURTH DEGREE                AM\n",
      "Name: offense, Length: 59537, dtype: object\n",
      "59403\n"
     ]
    }
   ],
   "source": [
    "print(detainees_2016_b.offense.loc[detainees_2016_b.offense.str.endswith('M')])\n",
    "print(detainees_2016_b.offense.loc[detainees_2016_b.offense.str.endswith(('AM','BM','CM','DM','UM',' M'))].count())"
   ]
  },
  {
   "cell_type": "code",
   "execution_count": 23,
   "metadata": {},
   "outputs": [
    {
     "data": {
      "text/plain": [
       "['VOYEURISM', 'APPLICATION TO PURCHASE A FIREARM']"
      ]
     },
     "execution_count": 23,
     "metadata": {},
     "output_type": "execute_result"
    }
   ],
   "source": [
    "list(set(detainees_2016_b.offense.loc[detainees_2016_b.offense.str.endswith('M')]) - set(detainees_2016_b.offense.loc[detainees_2016_b.offense.str.endswith(('AM','BM','CM','UM',' M'))]))"
   ]
  },
  {
   "cell_type": "code",
   "execution_count": 26,
   "metadata": {},
   "outputs": [
    {
     "name": "stdout",
     "output_type": "stream",
     "text": [
      "24875     ZZHWHJCW\n",
      "28253     ZZHWHJCW\n",
      "31634     ZZHWHJCW\n",
      "35019     ZZHWHJCW\n",
      "38394     ZZHWHJCW\n",
      "41768     ZZHWHJCW\n",
      "45126     ZZHWHJCW\n",
      "48470     ZZHWHJCW\n",
      "51796     ZZHWHJCW\n",
      "55108     ZZHWHJCW\n",
      "58421     ZZHWHJCW\n",
      "61729     ZZHWHJCW\n",
      "65042     ZZHWHJCW\n",
      "68363     ZZHWHJCW\n",
      "71676     ZZHWHJCW\n",
      "74986     ZZHWHJCW\n",
      "78294     ZZHWHJCW\n",
      "81602     ZZHWHJCW\n",
      "84920     ZZHWHJCW\n",
      "88228     ZZHWHJCW\n",
      "91540     ZZHWHJCW\n",
      "94849     ZZHWHJCW\n",
      "98136     ZZHWHJCW\n",
      "101430    ZZHWHJCW\n",
      "104723    ZZHWHJCW\n",
      "108015    ZZHWHJCW\n",
      "111329    ZZHWHJCW\n",
      "114631    ZZHWHJCW\n",
      "117939    ZZHWHJCW\n",
      "121255    ZZHWHJCW\n",
      "            ...   \n",
      "360859    ZZHWHJCW\n",
      "364052    ZZHWHJCW\n",
      "369653    ZZHWHJCW\n",
      "370704    ZZHWHJCW\n",
      "373620    ZZHWHJCW\n",
      "378442    ZZHWHJCW\n",
      "380432    ZZHWHJCW\n",
      "383746    ZZHWHJCW\n",
      "388637    ZZHWHJCW\n",
      "390088    ZZHWHJCW\n",
      "395116    ZZHWHJCW\n",
      "397581    ZZHWHJCW\n",
      "400967    ZZHWHJCW\n",
      "406693    ZZHWHJCW\n",
      "407141    ZZHWHJCW\n",
      "412888    ZZHWHJCW\n",
      "414630    ZZHWHJCW\n",
      "418225    ZZHWHJCW\n",
      "421336    ZZHWHJCW\n",
      "423299    ZZHWHJCW\n",
      "427409    ZZHWHJCW\n",
      "430755    ZZHWHJCW\n",
      "435701    ZZHWHJCW\n",
      "438464    ZZHWHJCW\n",
      "441596    ZZHWHJCW\n",
      "443117    ZZHWHJCW\n",
      "447463    ZZHWHJCW\n",
      "449767    ZZHWHJCW\n",
      "454925    ZZHWHJCW\n",
      "456265    ZZHWHJCW\n",
      "Name: identifier, Length: 130, dtype: object\n"
     ]
    }
   ],
   "source": [
    "print(detainees_2016_b.identifier.loc[detainees_2016_b.offense.str.endswith('RM')])"
   ]
  },
  {
   "cell_type": "code",
   "execution_count": null,
   "metadata": {},
   "outputs": [],
   "source": []
  },
  {
   "cell_type": "code",
   "execution_count": 28,
   "metadata": {},
   "outputs": [
    {
     "name": "stdout",
     "output_type": "stream",
     "text": [
      "3         CRIMINAL POSSESSION OF A PISTOL       DF\n",
      "6         CARRYING WEAPONS WITHOUT A PERMIT      F\n",
      "7         STRANGULATION 2ND DEGREE              DF\n",
      "9         ASSAULT, FIRST DEGREE                 BF\n",
      "10        SALE OF CONTROLLED SUBSTANCE           F\n",
      "11        ARSON, FIRST DEGREE                   AF\n",
      "12        CRIM VIOL OF PROTECTIVE ORDER         DF\n",
      "13        EMPLOYING MINOR IN OBSCENE PERFORMNCE AF\n",
      "14        ASSAULT, SECOND DEGREE                DF\n",
      "16        ROBBERY, FIRST DEGREE                 BF\n",
      "17        SEXUAL ASSAULT, FIRST DEGREE           F\n",
      "18        SALE OF NARC/AMPHET BY NON-DEPENDENT   F\n",
      "19        ROBBERY, FIRST DEGREE                 BF\n",
      "20        ROBBERY, THIRD DEGREE                 DF\n",
      "22        SALE OF NARC/AMPHET BY NON-DEPENDENT   F\n",
      "24        SALE OF NARC/AMPHET BY NON-DEPENDENT   F\n",
      "25        BURGLARY, THIRD DEGREE                DF\n",
      "26        CRIM VIOL OF PROTECTIVE ORDER         DF\n",
      "27        ORGANIZED RETAIL THEFT                 F\n",
      "29        ASSAULT ON POLICE OR FIRE OFFICER     CF\n",
      "32        IDENTITY THEFT 2ND DEGREE             CF\n",
      "33        LARCENY, FIRST DEGREE                 BF\n",
      "34        INJURY OR RISK OF INJURY TO MINOR      F\n",
      "35        ASSAULT, FIRST DEGREE                 BF\n",
      "36        ROBBERY, FIRST DEGREE                 BF\n",
      "41        BURGLARY, THIRD DEGREE                DF\n",
      "43        BURGLARY, THIRD DEGREE                DF\n",
      "44        SALE OF NARC/AMPHET BY NON-DEPENDENT   F\n",
      "45        KIDNAPPING, 2ND DEGREE                BF\n",
      "46        REG PERSON WHO COMM SEX VIOL OFF      DF\n",
      "                            ...                   \n",
      "458722    KIDNAPPING, FIRST DEGREE              AF\n",
      "458723    CRIM VIOL OF PROTECTIVE ORDER         DF\n",
      "458724    CRIM VIOL OF PROTECTIVE ORDER         DF\n",
      "458725    MURDER                                AF\n",
      "458726    ROBBERY, FIRST DEGREE                 BF\n",
      "458727    ROBBERY, FIRST DEGREE                 BF\n",
      "458728    SALE OF NARC/AMPHET BY NON-DEPENDENT   F\n",
      "458730    CRIMINAL MISCHIEF, FIRST DEGREE       DF\n",
      "458732    MANSLAUGHTER, FIRST DEGREE            BF\n",
      "458733    SEXUAL ASSAULT, FIRST DEGREE           F\n",
      "458736    BURGLARY, FIRST DEGREE                BF\n",
      "458738    BURGLARY, THIRD DEGREE                DF\n",
      "458739    HOME INVASION                         AF\n",
      "458743    FAILURE TO APPEAR, FIRST DEGREE       DF\n",
      "458744    FELONY MURDER                         AF\n",
      "458746    BURGLARY, THIRD DEGREE                DF\n",
      "458747    ROBBERY, SECOND DEGREE                CF\n",
      "458748    ASSAULT, FIRST DEGREE                 BF\n",
      "458749    IMPERSONATION OF POLICE OFFICER       DF\n",
      "458750    STRANGULATION 2ND DEGREE              DF\n",
      "458752    SEXUAL ASSAULT, FIRST DEGREE           F\n",
      "458753    ASSAULT, FIRST DEGREE                 BF\n",
      "458755    KIDNAPPING 1ST DEG W/ FIREARM         AF\n",
      "458756    SEXUAL ASSAULT, FIRST DEGREE           F\n",
      "458757    ASSAULT, SECOND DEGREE                DF\n",
      "458758    ROBBERY, THIRD DEGREE                 DF\n",
      "458760    CRIM VIOL OF PROTECTIVE ORDER         DF\n",
      "458761    SALE OF NARC/AMPHET BY NON-DEPENDENT   F\n",
      "458763    ROBBERY, FIRST DEGREE                 BF\n",
      "458764    ROBBERY, FIRST DEGREE                 BF\n",
      "Name: offense, Length: 294689, dtype: object\n",
      "294689\n"
     ]
    }
   ],
   "source": [
    "print(detainees_2016_b.offense.loc[detainees_2016_b.offense.str.endswith('F')])\n",
    "print(detainees_2016_b.offense.loc[detainees_2016_b.offense.str.endswith(('AF','BF','CF','DF','UF',' F'))].count())"
   ]
  },
  {
   "cell_type": "code",
   "execution_count": null,
   "metadata": {},
   "outputs": [],
   "source": [
    "# Do a filter for the next box.  Regex != 'F' or 'M'"
   ]
  },
  {
   "cell_type": "code",
   "execution_count": 34,
   "metadata": {},
   "outputs": [
    {
     "name": "stdout",
     "output_type": "stream",
     "text": [
      "5            VIOLATION OF PROBATION OR COND DISCHG\n",
      "8             SALE OF HEROIN, COC BY NON-DEPENDENT\n",
      "15           VIOLATION OF PROBATION OR COND DISCHG\n",
      "21                         POSSESSION OF NARCOTICS\n",
      "23           VIOLATION OF PROBATION OR COND DISCHG\n",
      "31                                CRIMINAL ATTEMPT\n",
      "37           VIOLATION OF PROBATION OR COND DISCHG\n",
      "40           VIOLATION OF PROBATION OR COND DISCHG\n",
      "42           VIOLATION OF PROBATION OR COND DISCHG\n",
      "52           VIOLATION OF PROBATION OR COND DISCHG\n",
      "55             OPERATE UNDER INFLU OF LIQ OR DRUGS\n",
      "58           VIOLATION OF PROBATION OR COND DISCHG\n",
      "62           VIOLATION OF PROBATION OR COND DISCHG\n",
      "64           VIOLATION OF PROBATION OR COND DISCHG\n",
      "65                         POSSESSION OF NARCOTICS\n",
      "70           VIOLATION OF PROBATION OR COND DISCHG\n",
      "71           VIOLATION OF PROBATION OR COND DISCHG\n",
      "72                                CRIMINAL ATTEMPT\n",
      "82                         POSSESSION OF NARCOTICS\n",
      "83           VIOLATION OF PROBATION OR COND DISCHG\n",
      "87           VIOLATION OF PROBATION OR COND DISCHG\n",
      "98           VIOLATION OF PROBATION OR COND DISCHG\n",
      "100                        POSSESSION OF NARCOTICS\n",
      "122          VIOLATION OF PROBATION OR COND DISCHG\n",
      "125                        POSSESSION OF NARCOTICS\n",
      "126          VIOLATION OF PROBATION OR COND DISCHG\n",
      "129                        POSSESSION OF NARCOTICS\n",
      "130                                 ARREST WARRANT\n",
      "137          VIOLATION OF PROBATION OR COND DISCHG\n",
      "148          VIOLATION OF PROBATION OR COND DISCHG\n",
      "                            ...                   \n",
      "458599        CARRYING OR SALE OF DANGEROUS WEAPON\n",
      "458603       VIOLATION OF PROBATION OR COND DISCHG\n",
      "458605       VIOLATION OF PROBATION OR COND DISCHG\n",
      "458610       VIOLATION OF PROBATION OR COND DISCHG\n",
      "458617         OPERATE UNDER INFLU OF LIQ OR DRUGS\n",
      "458620       VIOLATION OF PROBATION OR COND DISCHG\n",
      "458622       VIOLATION OF PROBATION OR COND DISCHG\n",
      "458623                            CRIMINAL ATTEMPT\n",
      "458639        SALE OF HEROIN, COC BY NON-DEPENDENT\n",
      "458641                            CRIMINAL ATTEMPT\n",
      "458657                     POSSESSION OF NARCOTICS\n",
      "458664                 CARRY PIST/RVOLV W/O PERMIT\n",
      "458667                            CRIMINAL ATTEMPT\n",
      "458670       VIOLATION OF PROBATION OR COND DISCHG\n",
      "458679                                  CONSPIRACY\n",
      "458699       VIOLATION OF PROBATION OR COND DISCHG\n",
      "458700                     POSSESSION OF NARCOTICS\n",
      "458707       VIOLATION OF PROBATION OR COND DISCHG\n",
      "458712       VIOLATION OF PROBATION OR COND DISCHG\n",
      "458714        ILLEGAL MANUFACTUAL OR SALE OF DRUGS\n",
      "458729                           YOUTHFUL OFFENDER\n",
      "458734                     POSSESSION OF NARCOTICS\n",
      "458737       VIOLATION OF PROBATION OR COND DISCHG\n",
      "458740       VIOLATION OF PROBATION OR COND DISCHG\n",
      "458741                      ARREST WITHOUT WARRANT\n",
      "458742          PROHIB ACTS RE: DRUG PARAPHERNALIA\n",
      "458754    INJURY/RISK OF INJURY TO MINOR- SEXUAL C\n",
      "458762       VIOLATION OF PROBATION OR COND DISCHG\n",
      "458765                 DRUGS NEAR PROBIBITED PLACE\n",
      "458767       VIOLATION OF PROBATION OR COND DISCHG\n",
      "Name: offense, Length: 103974, dtype: object\n",
      "103974\n"
     ]
    }
   ],
   "source": [
    "print(detainees_2016_b.offense.loc[detainees_2016_b.offense.str.endswith(('A','B','C','D','E','G','H','I','J','K','L','N','O','P','Q','R','S','T','U','V','W','X','Y','Z',' '))])\n",
    "print(detainees_2016_b.offense.loc[detainees_2016_b.offense.str.endswith(('A','B','C','D','E','G','H','I','J','K','L','N','O','P','Q','R','S','T','U','V','W','X','Y','Z',' '))].count())"
   ]
  },
  {
   "cell_type": "code",
   "execution_count": 37,
   "metadata": {},
   "outputs": [
    {
     "name": "stdout",
     "output_type": "stream",
     "text": [
      "['CAPITAL FELONY                         F', 'CAPITAL FELONY                         F', 'CAPITAL FELONY                         F', 'CAPITAL FELONY                         F', 'CAPITAL FELONY                         F', 'CAPITAL FELONY                         F', 'CAPITAL FELONY                         F', 'CAPITAL FELONY                         F', 'CAPITAL FELONY                         F', 'CAPITAL FELONY                         F', 'CAPITAL FELONY                         F', 'CAPITAL FELONY                         F', 'CAPITAL FELONY                         F', 'CAPITAL FELONY                         F', 'CAPITAL FELONY                         F', 'CAPITAL FELONY                         F', 'CAPITAL FELONY                         F', 'CAPITAL FELONY                         F', 'CAPITAL FELONY                         F', 'CAPITAL FELONY                         F', 'CAPITAL FELONY                         F', 'CAPITAL FELONY                         F', 'CAPITAL FELONY                         F', 'CAPITAL FELONY                         F', 'CAPITAL FELONY                         F', 'CAPITAL FELONY                         F', 'CAPITAL FELONY                         F', 'CAPITAL FELONY                         F', 'CAPITAL FELONY                         F', 'CAPITAL FELONY                         F', 'CAPITAL FELONY                         F', 'CAPITAL FELONY                         F', 'CAPITAL FELONY                         F', 'CAPITAL FELONY                         F', 'CAPITAL FELONY                         F', 'CAPITAL FELONY                         F', 'CAPITAL FELONY                         F', 'CAPITAL FELONY                         F', 'CAPITAL FELONY                         F', 'CAPITAL FELONY                         F', 'CAPITAL FELONY                         F', 'CAPITAL FELONY                         F', 'CAPITAL FELONY                         F', 'CAPITAL FELONY                         F', 'CAPITAL FELONY                         F', 'CAPITAL FELONY                         F', 'CAPITAL FELONY                         F', 'CAPITAL FELONY                         F', 'CAPITAL FELONY                         F', 'CAPITAL FELONY                         F', 'CAPITAL FELONY                         F', 'CAPITAL FELONY                         F', 'CAPITAL FELONY                         F', 'CAPITAL FELONY                         F', 'CAPITAL FELONY                         F', 'CAPITAL FELONY                         F', 'CAPITAL FELONY                         F', 'CAPITAL FELONY                         F', 'CAPITAL FELONY                         F', 'CAPITAL FELONY                         F', 'CAPITAL FELONY                         F', 'CAPITAL FELONY                         F', 'CAPITAL FELONY                         F', 'CAPITAL FELONY                         F', 'CAPITAL FELONY                         F', 'CAPITAL FELONY                         F', 'CAPITAL FELONY                         F', 'CAPITAL FELONY                         F', 'CAPITAL FELONY                         F', 'CAPITAL FELONY                         F', 'CAPITAL FELONY                         F', 'CAPITAL FELONY                         F', 'CAPITAL FELONY                         F', 'CAPITAL FELONY                         F', 'CAPITAL FELONY                         F', 'CAPITAL FELONY                         F', 'CAPITAL FELONY                         F', 'CAPITAL FELONY                         F', 'CAPITAL FELONY                         F', 'CAPITAL FELONY                         F', 'CAPITAL FELONY                         F', 'CAPITAL FELONY                         F', 'CAPITAL FELONY                         F', 'CAPITAL FELONY                         F', 'CAPITAL FELONY                         F', 'CAPITAL FELONY                         F', 'CAPITAL FELONY                         F', 'CAPITAL FELONY                         F', 'CAPITAL FELONY                         F', 'CAPITAL FELONY                         F', 'CAPITAL FELONY                         F', 'CAPITAL FELONY                         F', 'CAPITAL FELONY                         F', 'CAPITAL FELONY                         F', 'CAPITAL FELONY                         F', 'CAPITAL FELONY                         F', 'CAPITAL FELONY                         F', 'CAPITAL FELONY                         F', 'CAPITAL FELONY                         F', 'CAPITAL FELONY                         F', 'CAPITAL FELONY                         F', 'CAPITAL FELONY                         F', 'CAPITAL FELONY                         F', 'CAPITAL FELONY                         F', 'CAPITAL FELONY                         F', 'CAPITAL FELONY                         F', 'CAPITAL FELONY                         F', 'CAPITAL FELONY                         F', 'CAPITAL FELONY                         F', 'CAPITAL FELONY                         F', 'CAPITAL FELONY                         F', 'CAPITAL FELONY                         F', 'CAPITAL FELONY                         F', 'CAPITAL FELONY                         F', 'CAPITAL FELONY                         F', 'CAPITAL FELONY                         F', 'CAPITAL FELONY                         F', 'CAPITAL FELONY                         F', 'CAPITAL FELONY                         F', 'CAPITAL FELONY                         F', 'CAPITAL FELONY                         F', 'CAPITAL FELONY                         F', 'CAPITAL FELONY                         F', 'CAPITAL FELONY                         F', 'CAPITAL FELONY                         F', 'CAPITAL FELONY                         F', 'CAPITAL FELONY                         F', 'CAPITAL FELONY                         F', 'CAPITAL FELONY                         F', 'CAPITAL FELONY                         F', 'CAPITAL FELONY                         F', 'CAPITAL FELONY                         F', 'CAPITAL FELONY                         F', 'CAPITAL FELONY                         F', 'CAPITAL FELONY                         F', 'CAPITAL FELONY                         F', 'CAPITAL FELONY                         F', 'CAPITAL FELONY                         F', 'CAPITAL FELONY                         F', 'CAPITAL FELONY                         F', 'CAPITAL FELONY                         F', 'CAPITAL FELONY                         F', 'CAPITAL FELONY                         F', 'CAPITAL FELONY                         F', 'CAPITAL FELONY                         F', 'CAPITAL FELONY                         F', 'CAPITAL FELONY                         F', 'CAPITAL FELONY                         F', 'CAPITAL FELONY                         F', 'CAPITAL FELONY                         F', 'CAPITAL FELONY                         F', 'CAPITAL FELONY                         F', 'CAPITAL FELONY                         F', 'CAPITAL FELONY                         F', 'CAPITAL FELONY                         F', 'CAPITAL FELONY                         F', 'CAPITAL FELONY                         F', 'CAPITAL FELONY                         F', 'CAPITAL FELONY                         F', 'CAPITAL FELONY                         F', 'CAPITAL FELONY                         F', 'CAPITAL FELONY                         F', 'CAPITAL FELONY                         F', 'CAPITAL FELONY                         F', 'CAPITAL FELONY                         F', 'CAPITAL FELONY                         F', 'CAPITAL FELONY                         F', 'CAPITAL FELONY                         F', 'CAPITAL FELONY                         F', 'CAPITAL FELONY                         F', 'CAPITAL FELONY                         F', 'CAPITAL FELONY                         F', 'CAPITAL FELONY                         F', 'CAPITAL FELONY                         F', 'CAPITAL FELONY                         F', 'CAPITAL FELONY                         F', 'CAPITAL FELONY                         F', 'CAPITAL FELONY                         F', 'CAPITAL FELONY                         F', 'CAPITAL FELONY                         F', 'CAPITAL FELONY                         F', 'CAPITAL FELONY                         F', 'CAPITAL FELONY                         F', 'CAPITAL FELONY                         F', 'CAPITAL FELONY                         F', 'CAPITAL FELONY                         F', 'CAPITAL FELONY                         F', 'CAPITAL FELONY                         F', 'CAPITAL FELONY                         F', 'CAPITAL FELONY                         F', 'CAPITAL FELONY                         F', 'CAPITAL FELONY                         F', 'CAPITAL FELONY                         F', 'CAPITAL FELONY                         F', 'CAPITAL FELONY                         F', 'CAPITAL FELONY                         F', 'CAPITAL FELONY                         F', 'CAPITAL FELONY                         F', 'CAPITAL FELONY                         F', 'CAPITAL FELONY                         F', 'CAPITAL FELONY                         F', 'CAPITAL FELONY                         F', 'CAPITAL FELONY                         F', 'CAPITAL FELONY                         F', 'CAPITAL FELONY                         F', 'CAPITAL FELONY                         F', 'CAPITAL FELONY                         F', 'CAPITAL FELONY                         F', 'CAPITAL FELONY                         F', 'CAPITAL FELONY                         F', 'CAPITAL FELONY                         F', 'CAPITAL FELONY                         F', 'CAPITAL FELONY                         F', 'CAPITAL FELONY                         F', 'CAPITAL FELONY                         F', 'CAPITAL FELONY                         F', 'CAPITAL FELONY                         F', 'CAPITAL FELONY                         F', 'CAPITAL FELONY                         F', 'CAPITAL FELONY                         F', 'CAPITAL FELONY                         F', 'CAPITAL FELONY                         F', 'CAPITAL FELONY                         F', 'CAPITAL FELONY                         F', 'CAPITAL FELONY                         F', 'CAPITAL FELONY                         F', 'CAPITAL FELONY                         F', 'CAPITAL FELONY                         F']\n"
     ]
    }
   ],
   "source": [
    "print(list(detainees_2016_b.offense.loc[detainees_2016_b.offense.str.contains('CAPITAL')]))"
   ]
  },
  {
   "cell_type": "code",
   "execution_count": 50,
   "metadata": {},
   "outputs": [
    {
     "name": "stdout",
     "output_type": "stream",
     "text": [
      "                                                     latest_admission_date\n",
      "identifier offense                                                        \n",
      "ZZEBBBJW   INJURY OR RISK OF INJURY TO MINOR      F                     26\n",
      "ZZEBBBSZ   THREATENING                           AM                      3\n",
      "ZZEBBEWZ   ASSAULT, THIRD DEGREE                 AM                     13\n",
      "ZZEBBHER   CRIMINAL TRESPASS, FIRST DEGREE       AM                     34\n",
      "ZZEBBHWJ   CRIM VIOL OF PROTECTIVE ORDER         DF                     99\n",
      "ZZEBBHWR   CRIM VIOL OF PROTECTIVE ORDER         DF                     24\n",
      "ZZEBBRZC   FAILURE TO APPEAR, SECOND DEGREE      AM                      1\n",
      "ZZEBCBHC   EVADING RESPONSIBILITY                 M                      5\n",
      "ZZEBCCWL   CRIMINAL POSSESSION OF A PISTOL       DF                    126\n",
      "ZZEBCHBZ   BREACH OF PEACE                       BM                      1\n",
      "ZZEBCHHE   VIOLATION OF PROBATION OR COND DISCHG                        20\n",
      "ZZEBCJZJ   FORGERY, FIRST DEGREE                 CF                     36\n",
      "ZZEBCLLR   CARRYING WEAPONS WITHOUT A PERMIT      F                     85\n",
      "ZZEBCLWL   CRIM VIOL OF PROTECTIVE ORDER         DF                     64\n",
      "           STRANGULATION 2ND DEGREE              DF                     41\n",
      "ZZEBCSHZ   SALE OF HEROIN, COC BY NON-DEPENDENT                        137\n",
      "ZZEBCSZS   ASSAULT, FIRST DEGREE                 BF                    112\n",
      "ZZEBCZCC   CARRYING OR SALE OF DANGEROUS WEAPON                         29\n",
      "ZZEBCZSB   SALE OF CONTROLLED SUBSTANCE           F                     58\n",
      "ZZEBECLL   ARSON, FIRST DEGREE                   AF                     80\n",
      "ZZEBECLS   CRIM VIOL OF PROTECTIVE ORDER         DF                     14\n",
      "ZZEBEHBB   EMPLOYING MINOR IN OBSCENE PERFORMNCE AF                    137\n",
      "ZZEBEJRJ   OPERATE UNDER INFLU OF LIQ OR DRUGS                           1\n",
      "ZZEBEWSC   ARREST WITHOUT WARRANT                                       12\n",
      "ZZEBEZJJ   BURGLARY, THIRD DEGREE                DF                      4\n",
      "ZZEBHBCJ   ASSAULT, SECOND DEGREE                DF                     73\n",
      "ZZEBHCJR   VIOLATION OF PROBATION OR COND DISCHG                       122\n",
      "ZZEBHEHR   SALE OF HEROIN, COC BY NON-DEPENDENT                        126\n",
      "ZZEBHJWL   BREACH OF PEACE                       BM                     18\n",
      "ZZEBHLSW   VIOLATION OF PROBATION OR COND DISCHG                        13\n",
      "...                                                                    ...\n",
      "ZZZSHWHC   LARCENY, THIRD DEGREE                 DF                     31\n",
      "           SPECIAL PAROLE                                               20\n",
      "ZZZSJLJR   VIOLATION OF PROBATION OR COND DISCHG                         1\n",
      "ZZZSJZWJ   KIDNAPPING, FIRST DEGREE              AF                     57\n",
      "ZZZSLZCZ   VIOLATION OF PROBATION OR COND DISCHG                        16\n",
      "ZZZSREJZ   DRUG PARAPHERNALIA IN DRUG FACTORY     F                     49\n",
      "ZZZSWBJW   VIOLATION OF PROBATION OR COND DISCHG                         2\n",
      "ZZZSWBLZ   INTERFERING WITH AN OFFICER           AM                      7\n",
      "ZZZSWREE   REG PERSON WHO COMM SEX VIOL OFF      DF                     63\n",
      "ZZZSZSEE   ASSAULT, FIRST DEGREE                 BF                    137\n",
      "ZZZWBBCH   ASSAULT ON POLICE OR FIRE OFFICER     CF                      9\n",
      "           CRIM VIOL RES ORDER                   AM                     14\n",
      "           DISORDERLY CONDUCT                    CM                     53\n",
      "ZZZWBEEZ   BREACH OF PEACE                       BM                      8\n",
      "           TEMPORARY SURRENDER                                           1\n",
      "ZZZWCCJJ   ROBBERY, FIRST DEGREE                 BF                    137\n",
      "ZZZWCLJW   ARREST WITHOUT WARRANT                                       93\n",
      "ZZZWCZLS   BURGLARY, THIRD DEGREE                DF                    137\n",
      "ZZZWELZE   HINDER PROSECUTION, FIRST DEGREE      DF                    137\n",
      "ZZZWEWJR   POSSESSION OF NARCOTICS                                       1\n",
      "ZZZWHCZZ   BURGLARY, THIRD DEGREE                DF                     16\n",
      "ZZZWJRSC   CRIM VIOL RES ORDER                   AM                     26\n",
      "ZZZWJZEB   ASSAULT, THIRD DEGREE                 AM                     35\n",
      "           SEXUAL ASSAULT, FIRST DEGREE           F                      1\n",
      "ZZZWLEWB   CRIMINAL ATTEMPT                                            137\n",
      "ZZZWWHLR   UNLAWFUL RESTRAINT, FIRST DEGREE      DF                     32\n",
      "ZZZWWJSB   IL POS LRG CAP MAG OBT AF 4/13        DF                     15\n",
      "           POSS OF ASSAULT WEAPON PROHIBITED                           122\n",
      "ZZZWWWSL   VIOLATION OF PROBATION OR COND DISCHG                        17\n",
      "ZZZWZWBH   REG PERSON WHO COMM SEX VIOL OFF      DF                    137\n",
      "\n",
      "[11670 rows x 1 columns]\n"
     ]
    }
   ],
   "source": [
    "print((detainees_2016_b[['identifier', 'offense', 'latest_admission_date']].groupby(['identifier', 'offense']).count()))"
   ]
  },
  {
   "cell_type": "code",
   "execution_count": null,
   "metadata": {},
   "outputs": [],
   "source": []
  },
  {
   "cell_type": "code",
   "execution_count": 53,
   "metadata": {},
   "outputs": [
    {
     "name": "stdout",
     "output_type": "stream",
     "text": [
      "<class 'pandas.core.frame.DataFrame'>\n",
      "Int64Index: 103403 entries, 0 to 103403\n",
      "Data columns (total 10 columns):\n",
      "download_date            103403 non-null datetime64[ns]\n",
      "identifier               103403 non-null object\n",
      "latest_admission_date    103403 non-null datetime64[ns]\n",
      "race                     103403 non-null category\n",
      "gender                   103403 non-null category\n",
      "age                      103403 non-null int64\n",
      "bond_amount              103403 non-null int32\n",
      "offense                  103403 non-null object\n",
      "facility                 103403 non-null category\n",
      "detainer                 103403 non-null category\n",
      "dtypes: category(4), datetime64[ns](2), int32(1), int64(1), object(2)\n",
      "memory usage: 5.5+ MB\n",
      "None\n"
     ]
    }
   ],
   "source": [
    "detainees_2016_07 = df.loc[(df['download_date'] >= '2016-07-01') & (df['download_date'] < '2016-08-01')]\n",
    "detainees_2016_07.columns.values\n",
    "print(detainees_2016_07.info())\n",
    "detainees_2016_07.to_csv('detainees_2016_07.csv', index=False)"
   ]
  },
  {
   "cell_type": "code",
   "execution_count": 54,
   "metadata": {},
   "outputs": [
    {
     "name": "stdout",
     "output_type": "stream",
     "text": [
      "<class 'pandas.core.frame.DataFrame'>\n",
      "Int64Index: 108431 entries, 2202402 to 2310832\n",
      "Data columns (total 10 columns):\n",
      "download_date            108431 non-null datetime64[ns]\n",
      "identifier               108431 non-null object\n",
      "latest_admission_date    108431 non-null datetime64[ns]\n",
      "race                     108431 non-null category\n",
      "gender                   108431 non-null category\n",
      "age                      108431 non-null int64\n",
      "bond_amount              108431 non-null int32\n",
      "offense                  108431 non-null object\n",
      "facility                 108431 non-null category\n",
      "detainer                 108431 non-null category\n",
      "dtypes: category(4), datetime64[ns](2), int32(1), int64(1), object(2)\n",
      "memory usage: 5.8+ MB\n",
      "None\n"
     ]
    }
   ],
   "source": [
    "detainees_2018_07 = df.loc[(df['download_date'] >= '2018-07-01') & (df['download_date'] < '2018-08-01')]\n",
    "detainees_2018_07.columns.values\n",
    "print(detainees_2018_07.info())\n",
    "detainees_2018_07.to_csv('detainees_2018_07.csv', index=False)"
   ]
  },
  {
   "cell_type": "code",
   "execution_count": null,
   "metadata": {},
   "outputs": [],
   "source": []
  }
 ],
 "metadata": {
  "kernelspec": {
   "display_name": "Python 3",
   "language": "python",
   "name": "python3"
  },
  "language_info": {
   "codemirror_mode": {
    "name": "ipython",
    "version": 3
   },
   "file_extension": ".py",
   "mimetype": "text/x-python",
   "name": "python",
   "nbconvert_exporter": "python",
   "pygments_lexer": "ipython3",
   "version": "3.7.0"
  }
 },
 "nbformat": 4,
 "nbformat_minor": 2
}
