{
 "cells": [
  {
   "cell_type": "code",
   "execution_count": 1,
   "metadata": {},
   "outputs": [
    {
     "name": "stderr",
     "output_type": "stream",
     "text": [
      "C:\\Users\\Misty\\Anaconda3\\lib\\site-packages\\sklearn\\ensemble\\weight_boosting.py:29: DeprecationWarning: numpy.core.umath_tests is an internal NumPy module and should not be imported. It will be removed in a future NumPy release.\n",
      "  from numpy.core.umath_tests import inner1d\n"
     ]
    }
   ],
   "source": [
    "# Analysis for CT Pretrial Detainees\n",
    "# (Springboard Capstone 1)\n",
    "# 2019, Misty M. Giles\n",
    "\n",
    "# Set up plotting  \n",
    "%matplotlib inline\n",
    "import matplotlib.pyplot as plt\n",
    "from matplotlib import cm\n",
    "import seaborn as sns\n",
    "\n",
    "# Import standard packages\n",
    "import numpy as np\n",
    "import pandas as pd\n",
    "import scipy.stats as stats\n",
    "from scipy.stats import uniform\n",
    "\n",
    "# Import misc tools\n",
    "from sklearn.model_selection import train_test_split\n",
    "from sklearn.pipeline import Pipeline\n",
    "\n",
    "# Import verification tools\n",
    "from sklearn.model_selection import cross_val_score\n",
    "\n",
    "# Import preprocessing tools\n",
    "from sklearn.preprocessing import MinMaxScaler\n",
    "from sklearn.preprocessing import Normalizer\n",
    "from sklearn.preprocessing import StandardScaler\n",
    "from sklearn.utils import resample\n",
    "\n",
    "# Import models\n",
    "from sklearn.ensemble import RandomForestClassifier\n",
    "from sklearn.linear_model import LogisticRegression\n",
    "from sklearn.model_selection import RandomizedSearchCV\n",
    "from sklearn.multiclass import OneVsRestClassifier\n",
    "from sklearn.neighbors import KNeighborsClassifier\n",
    "from sklearn.tree import DecisionTreeClassifier\n",
    "\n",
    "# Select the file created in CT_csv (unit 5 data wrangling assignment)\n",
    "file = 'detainees_classed_offenses.csv'"
   ]
  },
  {
   "cell_type": "code",
   "execution_count": 2,
   "metadata": {},
   "outputs": [
    {
     "name": "stdout",
     "output_type": "stream",
     "text": [
      "<class 'pandas.core.frame.DataFrame'>\n",
      "RangeIndex: 28808 entries, 0 to 28807\n",
      "Data columns (total 13 columns):\n",
      "download_date            28808 non-null datetime64[ns]\n",
      "identifier               28808 non-null object\n",
      "latest_admission_date    28808 non-null datetime64[ns]\n",
      "race                     28808 non-null object\n",
      "gender                   28808 non-null object\n",
      "age                      28808 non-null int64\n",
      "bond_amount              28808 non-null int64\n",
      "offense                  28808 non-null object\n",
      "facility                 28808 non-null object\n",
      "detainer                 28808 non-null object\n",
      "offense_class            28807 non-null object\n",
      "days                     28808 non-null int64\n",
      "counts                   28808 non-null int64\n",
      "dtypes: datetime64[ns](2), int64(4), object(7)\n",
      "memory usage: 2.9+ MB\n"
     ]
    }
   ],
   "source": [
    "# Read in the file\n",
    "df = pd.read_csv(file, parse_dates=['download_date', 'latest_admission_date'])\n",
    "\n",
    "# Change from previous notebooks to drop the single case of 'UM' at the \n",
    "# beginning -- inclusion prevents use of 'stratify'.)\n",
    "df['offense_class'] = [offense[-2:] if offense.endswith(('AM','BM','CM','DM',' M', \n",
    "                       'AF','BF','CF','DF',' F')) else np.nan for offense in df.offense]\n",
    "\n",
    "# Days that CT says a detainee has been in the system.  This doesn't account for\n",
    "# some detainees.  There are 730 days in the dataset, and the state says that entrance \n",
    "# dates over a year before could be original entrance date but are definitely not to be\n",
    "# trusted.  The days column will be capped at 1,095 (730 + 365).  \n",
    "df.days = [int(time[:-23]) for time in df.days]\n",
    "df.days = [time if time <= 1095 else 1095 for time in df.days]\n",
    "\n",
    "#df = df.loc[df.days<1095]\n",
    "\n",
    "# Check that everything worked.  There should be 0 null values.\n",
    "df.info()"
   ]
  },
  {
   "cell_type": "code",
   "execution_count": 3,
   "metadata": {},
   "outputs": [
    {
     "name": "stdout",
     "output_type": "stream",
     "text": [
      "<class 'pandas.core.frame.DataFrame'>\n",
      "Index: 9663 entries, 0 to 9662\n",
      "Data columns (total 13 columns):\n",
      "download_date            9663 non-null datetime64[ns]\n",
      "identifier               9663 non-null object\n",
      "latest_admission_date    9663 non-null datetime64[ns]\n",
      "race                     9663 non-null category\n",
      "gender                   9663 non-null category\n",
      "age                      9663 non-null int64\n",
      "bond_amount              9663 non-null int64\n",
      "offense                  9663 non-null object\n",
      "facility                 9663 non-null category\n",
      "detainer                 9663 non-null category\n",
      "offense_class            9663 non-null category\n",
      "days                     9663 non-null int64\n",
      "counts                   9663 non-null int64\n",
      "dtypes: category(5), datetime64[ns](2), int64(4), object(2)\n",
      "memory usage: 1.0+ MB\n"
     ]
    }
   ],
   "source": [
    "# Only working with the 94% under 80k.\n",
    "#df = df.loc[df.bond_amount<=80000]\n",
    "#print(df.info())\n",
    "\n",
    "# Separate out the two datasets, misdemeanor (primary) and felony.\n",
    "misdemeanor_df = df.loc[df['offense_class'].str.endswith('M',na=False)].reset_index(\n",
    "    drop=True).rename(index=str, columns={'offense_class_ M':'offense_class_M'})\n",
    "\n",
    "# Change race, gender, facility, and detainer to category type and verify.\n",
    "misdemeanor_df.race = misdemeanor_df.race.astype('category')\n",
    "misdemeanor_df.gender = misdemeanor_df.gender.astype('category')\n",
    "misdemeanor_df.facility = misdemeanor_df.facility.astype('category')\n",
    "misdemeanor_df.detainer = misdemeanor_df.detainer.astype('category')\n",
    "misdemeanor_df.offense_class = misdemeanor_df.offense_class.astype('category')\n",
    "\n",
    "# Divide the misdemeanor data into pre-enactment and post.\n",
    "mis_pre_df = misdemeanor_df.loc[misdemeanor_df.download_date < '2017-07-01']\n",
    "mis_post_df = misdemeanor_df.loc[misdemeanor_df.download_date >= '2017-07-01']\n",
    "mis_post_df = mis_post_df.loc[mis_post_df.download_date < '2018-07-01']\n",
    "mis_outofbounds_df = misdemeanor_df.loc[misdemeanor_df.download_date >= '2018-07-01']\n",
    "mis_df = pd.concat([mis_pre_df, mis_post_df])\n",
    "\n",
    "# Check that everything worked.  There should be 0 null values.\n",
    "misdemeanor_df.info()"
   ]
  },
  {
   "cell_type": "code",
   "execution_count": 4,
   "metadata": {},
   "outputs": [],
   "source": [
    "# Utility function to report best scores\n",
    "def report(results, n_top=3):\n",
    "    for i in range(1, n_top + 1):\n",
    "        candidates = np.flatnonzero(results['rank_test_score'] == i)\n",
    "        for candidate in candidates:\n",
    "            print('')\n",
    "            print('Model with rank:', i)\n",
    "            print('Mean validation score: %0.2f (+/- %0.2f)' %\n",
    "                  (results['mean_test_score'][candidate],\n",
    "                  results['std_test_score'][candidate]))\n",
    "            print('Parameters: {0}'.format(results['params'][candidate]))"
   ]
  },
  {
   "cell_type": "markdown",
   "metadata": {},
   "source": [
    "### Gender categorization:\n",
    "1. Define data and target from the pre-enactment dataframe\n",
    "2. Split, preprocess, and fit\n",
    "3. Test the accuracy on pre-enactment test data\n",
    "4. See what happens with the post-enactment data"
   ]
  },
  {
   "cell_type": "markdown",
   "metadata": {},
   "source": [
    "One problem that has to be addressed is the imbalance of male/female samples.  Here's the original percentage:"
   ]
  },
  {
   "cell_type": "code",
   "execution_count": 5,
   "metadata": {},
   "outputs": [
    {
     "name": "stdout",
     "output_type": "stream",
     "text": [
      "Original male/female split: 0.8272\n"
     ]
    }
   ],
   "source": [
    "print('Original male/female split: %0.4f' % (len(mis_pre_df.loc[mis_pre_df.gender=='M'])/len(mis_pre_df.gender)))"
   ]
  },
  {
   "cell_type": "markdown",
   "metadata": {},
   "source": [
    "And here's how logistic regression first handles the data.  It guesses \"M\" and gets it right frequently enough that it calls it quits."
   ]
  },
  {
   "cell_type": "code",
   "execution_count": 6,
   "metadata": {
    "scrolled": false
   },
   "outputs": [
    {
     "name": "stdout",
     "output_type": "stream",
     "text": [
      "Accuracy, gender (test): 0.8269 (+/- 0.00)\n"
     ]
    }
   ],
   "source": [
    "# Define data and target\n",
    "X = mis_pre_df[['bond_amount','days','age','offense_class','race']]\n",
    "X = pd.get_dummies(X,columns=['offense_class','race'],drop_first=True)\n",
    "y = mis_pre_df.gender.ravel()\n",
    "\n",
    "X_train, X_test, y_train, y_test = train_test_split(X,y,test_size=.3,stratify=y,random_state=3)\n",
    "\n",
    "# Classifier\n",
    "clf = LogisticRegression()\n",
    "\n",
    "clf.fit(X_train,y_train)\n",
    "\n",
    "# Print the accuracy\n",
    "scores = cross_val_score(clf, X_test, y_test, cv=5) \n",
    "print('Accuracy, gender (test): %0.4f (+/- %0.2f)' % (scores.mean(), scores.std() * 2))"
   ]
  },
  {
   "cell_type": "markdown",
   "metadata": {},
   "source": [
    "Time to upsample the \"F\" samples.  Data to be used on logistic regression, KNN, and random forest models for gender models."
   ]
  },
  {
   "cell_type": "code",
   "execution_count": 7,
   "metadata": {
    "scrolled": true
   },
   "outputs": [
    {
     "name": "stdout",
     "output_type": "stream",
     "text": [
      "New counts:\n",
      "M    3216\n",
      "F    3216\n",
      "Name: gender, dtype: int64\n"
     ]
    }
   ],
   "source": [
    "# Define data and target\n",
    "to_rebalance_df = mis_pre_df[['bond_amount','days','age','gender','offense_class','race']]\n",
    "to_rebalance_df = pd.get_dummies(to_rebalance_df,columns=['offense_class','race'],drop_first=True)\n",
    "\n",
    "rebalance_F = to_rebalance_df.loc[to_rebalance_df.gender=='F']\n",
    "rebalance_M = to_rebalance_df.loc[to_rebalance_df.gender=='M']\n",
    "\n",
    "samples = len(rebalance_M)\n",
    "\n",
    "F_upsampled = resample(rebalance_F, replace=True, n_samples=samples)\n",
    "\n",
    "balanced_df = pd.concat([F_upsampled,rebalance_M])\n",
    "\n",
    "print('New counts:')\n",
    "print(balanced_df.gender.value_counts())\n",
    "\n",
    "X = balanced_df.drop('gender',axis=1)\n",
    "y = balanced_df.gender.ravel()\n",
    "\n",
    "X_train, X_test, y_train, y_test = train_test_split(X,y,test_size=.3,stratify=y,random_state=3)"
   ]
  },
  {
   "cell_type": "markdown",
   "metadata": {},
   "source": [
    "First pass at balanced logistic regression.  "
   ]
  },
  {
   "cell_type": "code",
   "execution_count": 8,
   "metadata": {
    "scrolled": false
   },
   "outputs": [
    {
     "name": "stdout",
     "output_type": "stream",
     "text": [
      "Accuracy, gender (test): 0.59 (+/- 0.05)\n"
     ]
    }
   ],
   "source": [
    "# Rescale the data\n",
    "scaler = MinMaxScaler()\n",
    "\n",
    "# Classifier\n",
    "lr = LogisticRegression(random_state=3)\n",
    "\n",
    "pl = Pipeline([\n",
    "        ('scaler', scaler),\n",
    "        ('clf', lr)\n",
    "    ])\n",
    "\n",
    "pl = pl.fit(X_train,y_train)\n",
    "\n",
    "# Print the accuracy\n",
    "scores = cross_val_score(pl, X_test, y_test, cv=5) \n",
    "lr_to_beat = round(scores.mean(),2)\n",
    "print('Accuracy, gender (test): %0.2f (+/- %0.2f)' % (scores.mean(), scores.std() * 2))"
   ]
  },
  {
   "cell_type": "markdown",
   "metadata": {},
   "source": [
    "Finally, some progress.  The model is no longer guessing.  Now, for some hyperparameters."
   ]
  },
  {
   "cell_type": "code",
   "execution_count": 9,
   "metadata": {
    "scrolled": false
   },
   "outputs": [
    {
     "name": "stdout",
     "output_type": "stream",
     "text": [
      "RandomizedSearchCV for 20 candidates parameter settings:\n",
      "\n",
      "Model with rank: 1\n",
      "Mean validation score: 0.62 (+/- 0.01)\n",
      "Parameters: {'C': 27.17240408642654, 'penalty': 'l1'}\n",
      "\n",
      "Model with rank: 1\n",
      "Mean validation score: 0.62 (+/- 0.01)\n",
      "Parameters: {'C': 12.409114411214617, 'penalty': 'l1'}\n",
      "\n",
      "Model with rank: 3\n",
      "Mean validation score: 0.62 (+/- 0.01)\n",
      "Parameters: {'C': 33.47860995440296, 'penalty': 'l1'}\n",
      "\n",
      "Model with rank: 3\n",
      "Mean validation score: 0.62 (+/- 0.01)\n",
      "Parameters: {'C': 66.1797336847196, 'penalty': 'l1'}\n",
      "\n",
      "Model with rank: 3\n",
      "Mean validation score: 0.62 (+/- 0.01)\n",
      "Parameters: {'C': 54.778491244527075, 'penalty': 'l1'}\n",
      "\n",
      "Model with rank: 3\n",
      "Mean validation score: 0.62 (+/- 0.01)\n",
      "Parameters: {'C': 63.3227918699802, 'penalty': 'l1'}\n",
      "\n",
      "Model with rank: 3\n",
      "Mean validation score: 0.62 (+/- 0.01)\n",
      "Parameters: {'C': 49.020326137368464, 'penalty': 'l1'}\n",
      "\n",
      "Model with rank: 3\n",
      "Mean validation score: 0.62 (+/- 0.01)\n",
      "Parameters: {'C': 60.695828581140745, 'penalty': 'l1'}\n"
     ]
    },
    {
     "data": {
      "text/plain": [
       "LogisticRegression(C=27.17240408642654, class_weight=None, dual=False,\n",
       "          fit_intercept=True, intercept_scaling=1, max_iter=100,\n",
       "          multi_class='ovr', n_jobs=1, penalty='l1', random_state=3,\n",
       "          solver='liblinear', tol=0.0001, verbose=0, warm_start=False)"
      ]
     },
     "execution_count": 9,
     "metadata": {},
     "output_type": "execute_result"
    }
   ],
   "source": [
    "# Create regularization penalty space\n",
    "penalty = ['l1', 'l2']\n",
    "\n",
    "# Create regularization hyperparameter distribution using uniform distribution\n",
    "C = uniform(loc=0, scale=100)\n",
    "#C = [0.0001, 0.001, 0.01, 0.1, 1, 5, 10, 50, 100, 1000]\n",
    "\n",
    "# Create hyperparameter options\n",
    "hyperparameters = dict(C=C, penalty=penalty)\n",
    "\n",
    "# Run randomized search with train scores turned on to stop pink deprecation warnings\n",
    "n_iter_search = 20\n",
    "random_search = RandomizedSearchCV(lr, hyperparameters, n_iter=n_iter_search, cv=5, return_train_score=False)\n",
    "\n",
    "random_search.fit(X_train, y_train)\n",
    "print('RandomizedSearchCV for', n_iter_search, 'candidates parameter settings:')\n",
    "report(random_search.cv_results_)\n",
    "\n",
    "best_lr = random_search.best_estimator_\n",
    "best_lr.fit(X_train,y_train)"
   ]
  },
  {
   "cell_type": "markdown",
   "metadata": {},
   "source": [
    "Tuned logistic regression below.  Hyperparameters don't improve the model."
   ]
  },
  {
   "cell_type": "code",
   "execution_count": 10,
   "metadata": {},
   "outputs": [
    {
     "data": {
      "text/plain": [
       "Pipeline(memory=None,\n",
       "     steps=[('scaler', MinMaxScaler(copy=True, feature_range=(0, 1))), ('clf', LogisticRegression(C=27.17240408642654, class_weight=None, dual=False,\n",
       "          fit_intercept=True, intercept_scaling=1, max_iter=100,\n",
       "          multi_class='ovr', n_jobs=1, penalty='l1', random_state=3,\n",
       "          solver='liblinear', tol=0.0001, verbose=0, warm_start=False))])"
      ]
     },
     "execution_count": 10,
     "metadata": {},
     "output_type": "execute_result"
    }
   ],
   "source": [
    "pl = Pipeline([\n",
    "        ('scaler', scaler),\n",
    "        ('clf', best_lr)\n",
    "    ])\n",
    "\n",
    "pl.fit(X_train,y_train)"
   ]
  },
  {
   "cell_type": "code",
   "execution_count": 11,
   "metadata": {},
   "outputs": [
    {
     "name": "stdout",
     "output_type": "stream",
     "text": [
      "Accuracy, gender (test): 0.59 (+/- 0.03)\n"
     ]
    }
   ],
   "source": [
    "# Print the accuracy of the tuned LR\n",
    "scores = cross_val_score(pl, X_test, y_test, cv=5) \n",
    "print('Accuracy, gender (test): %0.2f (+/- %0.2f)' % (scores.mean(), scores.std() * 2))"
   ]
  },
  {
   "cell_type": "markdown",
   "metadata": {},
   "source": [
    "Trying out KNN for k=1...39 and plotting the cross-validated accuracy."
   ]
  },
  {
   "cell_type": "code",
   "execution_count": 12,
   "metadata": {},
   "outputs": [
    {
     "name": "stdout",
     "output_type": "stream",
     "text": [
      "Best: [1, 2, 3, 4, 5, 6, 7, 9, 13]\n"
     ]
    },
    {
     "data": {
      "image/png": "[encoded data removed]",
      "text/plain": [
       "<Figure size 864x576 with 1 Axes>"
      ]
     },
     "metadata": {
      "needs_background": "light"
     },
     "output_type": "display_data"
    }
   ],
   "source": [
    "# Set up variables for testing\n",
    "neighbors = np.arange(1,40,1) \n",
    "train_accuracy = np.zeros(len(neighbors))\n",
    "test_accuracy = np.zeros(len(neighbors))\n",
    "best_acc = []\n",
    "best_neighbor = []\n",
    "\n",
    "for i,k in enumerate(neighbors):\n",
    "    \n",
    "    # Rescale the data\n",
    "    scaler = Normalizer()\n",
    "    # Call classifier with neighbor choices\n",
    "    clf = KNeighborsClassifier(n_neighbors=k)\n",
    "    # Set up the pipeline\n",
    "    pl = Pipeline([\n",
    "        ('scaler', scaler),\n",
    "        ('clf', clf)\n",
    "    ])\n",
    "\n",
    "    #Fit the model\n",
    "    pl.fit(X_train,y_train)\n",
    "\n",
    "    #Compute accuracy on the training set\n",
    "    train_accuracy[i] = cross_val_score(pl, X_train, y_train, cv=5).mean()\n",
    "\n",
    "    #Compute accuracy on the test set\n",
    "    test_accuracy[i] = cross_val_score(pl, X_test, y_test, cv=5).mean()\n",
    "    \n",
    "    if (test_accuracy[i]>lr_to_beat):\n",
    "        best_neighbor.append(k)\n",
    "        best_acc.append(test_accuracy[i])\n",
    "        \n",
    "print('Best:', best_neighbor)\n",
    "    \n",
    "_ = plt.figure(figsize=(12,8))\n",
    "_ = plt.title('KNN accuracy with varying number of neighbors \\n (black dotted line indicates est. tuned logistic regression acc)', fontsize=20)\n",
    "_ = plt.plot(neighbors, test_accuracy, label='Testing accuracy')\n",
    "_ = plt.plot(neighbors, train_accuracy, label='Training accuracy')\n",
    "_ = plt.legend()\n",
    "_ = plt.xlabel('Number of neighbors', fontsize=20)\n",
    "_ = plt.ylabel('Accuracy', fontsize=20)\n",
    "_ = plt.axhline(lr_to_beat, color='black', linestyle=':', label='LogReg accuracy')"
   ]
  },
  {
   "cell_type": "code",
   "execution_count": 13,
   "metadata": {},
   "outputs": [
    {
     "name": "stdout",
     "output_type": "stream",
     "text": [
      "Accuracy, gender (test) for 1 neighbors: 0.73 (+/- 0.05)\n",
      "Accuracy, gender (test) for 2 neighbors: 0.66 (+/- 0.05)\n",
      "Accuracy, gender (test) for 3 neighbors: 0.63 (+/- 0.04)\n",
      "Accuracy, gender (test) for 4 neighbors: 0.61 (+/- 0.04)\n",
      "Accuracy, gender (test) for 5 neighbors: 0.60 (+/- 0.04)\n",
      "Accuracy, gender (test) for 6 neighbors: 0.60 (+/- 0.02)\n",
      "Accuracy, gender (test) for 7 neighbors: 0.59 (+/- 0.03)\n",
      "Accuracy, gender (test) for 9 neighbors: 0.59 (+/- 0.03)\n",
      "Accuracy, gender (test) for 13 neighbors: 0.60 (+/- 0.03)\n"
     ]
    }
   ],
   "source": [
    "# Build the model with the best neighbors from test above and print testing cv acc for each\n",
    "for k in best_neighbor:\n",
    "    # Rescale the data\n",
    "    scaler = Normalizer()\n",
    "\n",
    "    # Classifier\n",
    "    clf = KNeighborsClassifier(n_neighbors=k)\n",
    "\n",
    "    pl = Pipeline([\n",
    "        ('scaler', scaler),\n",
    "        ('clf', clf)\n",
    "    ])\n",
    "\n",
    "    pl.fit(X_train,y_train)\n",
    "\n",
    "    # Print the accuracy\n",
    "    scores = cross_val_score(pl, X_test, y_test, cv=5) \n",
    "    print('Accuracy, gender (test) for',k,'neighbors: %0.2f (+/- %0.2f)' % (scores.mean(), scores.std() * 2))"
   ]
  },
  {
   "cell_type": "markdown",
   "metadata": {},
   "source": [
    "KNN is interesting here.  I wanted to at least try it because I felt there was potential, but the drop is too steep.  The accuracy drops in line with or below logistic regression quickly.  K=[1,2,3] were the only ks with accuracy consistently over 65% in any testing, and ks that small would be very sensitive to noise, etc.  \n",
    "\n",
    "Moving on to random forests."
   ]
  },
  {
   "cell_type": "code",
   "execution_count": 14,
   "metadata": {},
   "outputs": [
    {
     "name": "stdout",
     "output_type": "stream",
     "text": [
      "Accuracy, gender (test): 0.75 (+/- 0.02)\n"
     ]
    },
    {
     "data": {
      "image/png": "[encoded data removed]",
      "text/plain": [
       "<Figure size 864x576 with 1 Axes>"
      ]
     },
     "metadata": {
      "needs_background": "light"
     },
     "output_type": "display_data"
    }
   ],
   "source": [
    "# Classifier\n",
    "rf = RandomForestClassifier(n_estimators=100,random_state=3)\n",
    "\n",
    "rf.fit(X_train,y_train)\n",
    "\n",
    "scores = cross_val_score(rf, X_test, y_test, cv=5) \n",
    "print('Accuracy, gender (test): %0.2f (+/- %0.2f)' % (scores.mean(), scores.std() * 2))\n",
    "\n",
    "feature_imp = pd.Series(rf.feature_importances_,index=X.columns).sort_values(ascending=False)\n",
    "_ = plt.figure(figsize=(12,8))\n",
    "_ = sns.barplot(x=feature_imp, y=feature_imp.index)\n",
    "_ = plt.xlabel('Feature Importance Score', fontsize=20)\n",
    "_ = plt.title('Importance of features when predicting gender', fontsize=20)"
   ]
  },
  {
   "cell_type": "markdown",
   "metadata": {},
   "source": [
    "As somewhat expected, the cross_val_score of the random forest is higher than the logistic regression, increasing from lower 60s to about 75% out of the box.  Random forest will be tuned in further steps."
   ]
  },
  {
   "cell_type": "markdown",
   "metadata": {},
   "source": [
    "Here's the code to search for the best hyperparameters.  The search claims that a tuned random forest will reach nearly 90% accuracy, by far the highest potential of the tested estimators."
   ]
  },
  {
   "cell_type": "code",
   "execution_count": 15,
   "metadata": {
    "scrolled": false
   },
   "outputs": [
    {
     "name": "stdout",
     "output_type": "stream",
     "text": [
      "Ranked parameter settings, cv with training data:\n",
      "\n",
      "Model with rank: 1\n",
      "Mean validation score: 0.88 (+/- 0.01)\n",
      "Parameters: {'oob_score': True, 'n_estimators': 300, 'min_samples_split': 3, 'max_features': 0.3, 'criterion': 'gini', 'bootstrap': True}\n",
      "\n",
      "Model with rank: 2\n",
      "Mean validation score: 0.87 (+/- 0.02)\n",
      "Parameters: {'oob_score': True, 'n_estimators': 500, 'min_samples_split': 3, 'max_features': 0.5, 'criterion': 'entropy', 'bootstrap': True}\n",
      "\n",
      "Model with rank: 3\n",
      "Mean validation score: 0.87 (+/- 0.01)\n",
      "Parameters: {'oob_score': True, 'n_estimators': 300, 'min_samples_split': 3, 'max_features': 0.5, 'criterion': 'gini', 'bootstrap': True}\n",
      "\n",
      "Model with rank: 3\n",
      "Mean validation score: 0.87 (+/- 0.02)\n",
      "Parameters: {'oob_score': True, 'n_estimators': 500, 'min_samples_split': 3, 'max_features': 0.3, 'criterion': 'gini', 'bootstrap': True}\n",
      "\n",
      "Model with rank: 3\n",
      "Mean validation score: 0.87 (+/- 0.02)\n",
      "Parameters: {'oob_score': True, 'n_estimators': 1000, 'min_samples_split': 3, 'max_features': 0.5, 'criterion': 'entropy', 'bootstrap': True}\n"
     ]
    },
    {
     "data": {
      "text/plain": [
       "RandomForestClassifier(bootstrap=True, class_weight=None, criterion='gini',\n",
       "            max_depth=None, max_features=0.3, max_leaf_nodes=None,\n",
       "            min_impurity_decrease=0.0, min_impurity_split=None,\n",
       "            min_samples_leaf=1, min_samples_split=3,\n",
       "            min_weight_fraction_leaf=0.0, n_estimators=300, n_jobs=1,\n",
       "            oob_score=True, random_state=3, verbose=0, warm_start=False)"
      ]
     },
     "execution_count": 15,
     "metadata": {},
     "output_type": "execute_result"
    }
   ],
   "source": [
    "# Parameters to test in randomizedsearchcv\n",
    "param_dist = {'n_estimators': [300, 500, 1000],\n",
    "              'max_features': [.3, .5],\n",
    "              'min_samples_split': [3, 4, 5],\n",
    "              'bootstrap': [True],\n",
    "              'criterion': ['gini', 'entropy'],\n",
    "              'oob_score': [True]}\n",
    "\n",
    "# Run randomized search\n",
    "n_iter_search = 20\n",
    "random_search = RandomizedSearchCV(rf, param_distributions=param_dist,\n",
    "                                   n_iter=n_iter_search, cv=5, return_train_score=False, n_jobs=-1)\n",
    "\n",
    "random_search.fit(X_train, y_train)\n",
    "print('Ranked parameter settings, cv with training data:')\n",
    "report(random_search.cv_results_)\n",
    "\n",
    "best_rf = random_search.best_estimator_\n",
    "best_rf.fit(X_train,y_train)"
   ]
  },
  {
   "cell_type": "markdown",
   "metadata": {},
   "source": [
    "The OOB score from the best rf classifier shows the expected improvement on the unused training data."
   ]
  },
  {
   "cell_type": "code",
   "execution_count": 16,
   "metadata": {},
   "outputs": [
    {
     "data": {
      "text/plain": [
       "0.9069302532207908"
      ]
     },
     "execution_count": 16,
     "metadata": {},
     "output_type": "execute_result"
    }
   ],
   "source": [
    "best_rf.oob_score_"
   ]
  },
  {
   "cell_type": "markdown",
   "metadata": {},
   "source": [
    "But when you apply it to the test set, the accuracy drops.  It is consistently very near (or exactly) the orginal rf accuracy, and I can't find an explanation for this behaviour."
   ]
  },
  {
   "cell_type": "code",
   "execution_count": 17,
   "metadata": {},
   "outputs": [
    {
     "name": "stdout",
     "output_type": "stream",
     "text": [
      "Accuracy, gender (test): 0.75 (+/- 0.01)\n"
     ]
    },
    {
     "data": {
      "text/plain": [
       "array([0.75388601, 0.75906736, 0.75647668, 0.75129534, 0.74352332])"
      ]
     },
     "execution_count": 17,
     "metadata": {},
     "output_type": "execute_result"
    }
   ],
   "source": [
    "test_scores = cross_val_score(best_rf, X_test, y_test, cv=5)\n",
    "print('Accuracy, gender (test): %0.2f (+/- %0.2f)' % (test_scores.mean(), test_scores.std() * 2))\n",
    "test_scores"
   ]
  },
  {
   "cell_type": "markdown",
   "metadata": {},
   "source": [
    "And here's a cross tabulation of the test set predictions.  About 13-15% of females are misclassified compared to 3-5% of males.\n",
    "\n",
    "# NOTE TO LINDY:\n",
    "## This doesn't even make sense.  75% accuracy on the test set, but 85% of the females and 95% of the males are correctly classified?  This is what's driving me insane about that accuracy in box 16."
   ]
  },
  {
   "cell_type": "code",
   "execution_count": 18,
   "metadata": {},
   "outputs": [
    {
     "name": "stdout",
     "output_type": "stream",
     "text": [
      "gender        F      M\n",
      "predicts              \n",
      "F         0.856  0.144\n",
      "M         0.035  0.965\n"
     ]
    },
    {
     "data": {
      "image/png": "[encoded data removed]",
      "text/plain": [
       "<Figure size 864x576 with 2 Axes>"
      ]
     },
     "metadata": {
      "needs_background": "light"
     },
     "output_type": "display_data"
    }
   ],
   "source": [
    "# Calculate the cluster labels\n",
    "labels = best_rf.predict(X_test)\n",
    "\n",
    "# Create a DataFrame with labels and species as columns\n",
    "ct_df = pd.DataFrame({'predicts': labels, 'gender': y_test})\n",
    "\n",
    "# Create crosstab\n",
    "ct = pd.crosstab(ct_df.predicts, ct_df.gender).apply(lambda x: (round(x/x.sum(),3)), axis=1)\n",
    "\n",
    "# Display ct\n",
    "print(ct)\n",
    "\n",
    "# And display as a heatmap as an alternate way of understanding\n",
    "_ = plt.figure(figsize=(12, 8))\n",
    "_ = sns.heatmap(ct,annot=True,annot_kws={'size':12},cmap=sns.cubehelix_palette(100,start=360,rot=-.6,light=.9,dark=.1))\n",
    "_ = plt.xlabel('Actual gender',fontsize=16)\n",
    "_ = plt.ylabel('Predicted gender',fontsize=16) \n",
    "_ = plt.title('Heatmap of predictions \\n (darker is better)',fontsize=20)"
   ]
  },
  {
   "cell_type": "markdown",
   "metadata": {},
   "source": [
    "Now that the model is created, how does it do on the post-enactment period?"
   ]
  },
  {
   "cell_type": "code",
   "execution_count": 19,
   "metadata": {
    "scrolled": false
   },
   "outputs": [
    {
     "name": "stdout",
     "output_type": "stream",
     "text": [
      "Accuracy, gender (test): 0.90 (+/- 0.03)\n"
     ]
    }
   ],
   "source": [
    "# Define data and target\n",
    "to_rebalance_df_post = mis_post_df[['bond_amount','days','age','gender','offense_class','race']]\n",
    "to_rebalance_df_post = pd.get_dummies(to_rebalance_df_post,columns=['offense_class','race'],drop_first=True)\n",
    "\n",
    "rebalance_F_post = to_rebalance_df_post.loc[to_rebalance_df_post.gender=='F']\n",
    "rebalance_M_post = to_rebalance_df_post.loc[to_rebalance_df_post.gender=='M']\n",
    "\n",
    "samples_post = len(rebalance_M_post)\n",
    "\n",
    "F_upsampled_post = resample(rebalance_F_post, replace=True, n_samples=samples_post)\n",
    "\n",
    "balanced_df_post = pd.concat([F_upsampled_post,rebalance_M_post])\n",
    "\n",
    "A = balanced_df_post.drop('gender',axis=1)\n",
    "b = balanced_df_post.gender.ravel()\n",
    "\n",
    "scores = cross_val_score(best_rf, A, b, cv=5) \n",
    "print('Accuracy, gender (test): %0.2f (+/- %0.2f)' % (scores.mean(), scores.std() * 2))"
   ]
  },
  {
   "cell_type": "markdown",
   "metadata": {},
   "source": [
    "### It is possible to create a predictor that is 100% correct for gender if you include the facility.  CT only has one facility for housing both pretrial and sentenced women.  (Source: https://portal.ct.gov/DOC/Facility/York-CI)\n",
    "\n",
    "This is not balanced or processed in any way.  It's just for representation."
   ]
  },
  {
   "cell_type": "code",
   "execution_count": 20,
   "metadata": {
    "scrolled": false
   },
   "outputs": [
    {
     "name": "stdout",
     "output_type": "stream",
     "text": [
      "Accuracy, gender (test): 1.00 (+/- 0.00)\n"
     ]
    },
    {
     "data": {
      "image/png": "[encoded data removed]",
      "text/plain": [
       "<Figure size 864x576 with 1 Axes>"
      ]
     },
     "metadata": {
      "needs_background": "light"
     },
     "output_type": "display_data"
    }
   ],
   "source": [
    "# Define data and target\n",
    "X = mis_pre_df[['bond_amount','days','age','offense_class','race','facility']]\n",
    "X = pd.get_dummies(X,columns=['offense_class','race','facility'],drop_first=True)\n",
    "y = mis_pre_df.gender.ravel()\n",
    "\n",
    "X_train, X_test, y_train, y_test = train_test_split(X,y,test_size=.3,stratify=y,random_state=3)\n",
    "\n",
    "# Classifier\n",
    "clf = RandomForestClassifier(n_estimators=100,random_state=3)\n",
    "\n",
    "clf.fit(X_train,y_train)\n",
    "\n",
    "scores = cross_val_score(clf, X_test, y_test, cv=5) \n",
    "print('Accuracy, gender (test): %0.2f (+/- %0.2f)' % (scores.mean(), scores.std() * 2))\n",
    "\n",
    "feature_imp = pd.Series(clf.feature_importances_,index=X.columns).sort_values(ascending=False)\n",
    "# Restrict the features available on the y-axis so you can read them\n",
    "_ = plt.figure(figsize=(12,8))\n",
    "_ = sns.barplot(x=feature_imp[:8], y=feature_imp.index[:8])\n",
    "_ = plt.xlabel('Feature Importance Score',fontsize=20)\n",
    "_ = plt.title('Importance of features \\n (when facility taken into account)',fontsize=20)"
   ]
  }
 ],
 "metadata": {
  "kernelspec": {
   "display_name": "Python 3",
   "language": "python",
   "name": "python3"
  },
  "language_info": {
   "codemirror_mode": {
    "name": "ipython",
    "version": 3
   },
   "file_extension": ".py",
   "mimetype": "text/x-python",
   "name": "python",
   "nbconvert_exporter": "python",
   "pygments_lexer": "ipython3",
   "version": "3.7.2"
  }
 },
 "nbformat": 4,
 "nbformat_minor": 2
}
