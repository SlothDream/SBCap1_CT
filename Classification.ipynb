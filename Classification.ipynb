{
 "cells": [
  {
   "cell_type": "code",
   "execution_count": 38,
   "metadata": {},
   "outputs": [],
   "source": [
    "# Analysis for CT Pretrial Detainees\n",
    "# (Springboard Capstone 1)\n",
    "# 2019, Misty M. Giles\n",
    "\n",
    "# Set up plotting  \n",
    "%matplotlib inline\n",
    "import matplotlib.pyplot as plt\n",
    "from matplotlib import cm\n",
    "import seaborn as sns\n",
    "\n",
    "# ???  Am I using this?\n",
    "from datetime import datetime as date\n",
    "\n",
    "# Import standard packages\n",
    "import numpy as np\n",
    "import pandas as pd\n",
    "import scipy.stats as stats\n",
    "\n",
    "# Import misc tools\n",
    "from sklearn.model_selection import train_test_split\n",
    "from sklearn.pipeline import Pipeline\n",
    "\n",
    "# Import verification tools\n",
    "from sklearn.cross_validation import cross_val_score\n",
    "\n",
    "# Import preprocessing tools\n",
    "from sklearn.preprocessing import MinMaxScaler\n",
    "from sklearn.preprocessing import Normalizer\n",
    "from sklearn.preprocessing import StandardScaler\n",
    "\n",
    "# Import models\n",
    "from sklearn.ensemble import RandomForestClassifier\n",
    "from sklearn.linear_model import LogisticRegression\n",
    "from sklearn.multiclass import OneVsRestClassifier\n",
    "from sklearn.neighbors import KNeighborsClassifier\n",
    "\n",
    "\n",
    "# Select the file created in CT_csv (unit 5 data wrangling assignment)\n",
    "file = 'detainees_classed_offenses.csv'"
   ]
  },
  {
   "cell_type": "code",
   "execution_count": 39,
   "metadata": {},
   "outputs": [
    {
     "name": "stdout",
     "output_type": "stream",
     "text": [
      "<class 'pandas.core.frame.DataFrame'>\n",
      "RangeIndex: 28808 entries, 0 to 28807\n",
      "Data columns (total 13 columns):\n",
      "download_date            28808 non-null datetime64[ns]\n",
      "identifier               28808 non-null object\n",
      "latest_admission_date    28808 non-null datetime64[ns]\n",
      "race                     28808 non-null object\n",
      "gender                   28808 non-null object\n",
      "age                      28808 non-null int64\n",
      "bond_amount              28808 non-null int64\n",
      "offense                  28808 non-null object\n",
      "facility                 28808 non-null object\n",
      "detainer                 28808 non-null object\n",
      "offense_class            28807 non-null object\n",
      "days                     28808 non-null int64\n",
      "counts                   28808 non-null int64\n",
      "dtypes: datetime64[ns](2), int64(4), object(7)\n",
      "memory usage: 2.9+ MB\n"
     ]
    }
   ],
   "source": [
    "# Read in the file\n",
    "df = pd.read_csv(file, parse_dates=['download_date', 'latest_admission_date'])\n",
    "\n",
    "# Change from previous notebooks to drop the single case of 'UM' at the \n",
    "# beginning -- inclusion prevents use of 'stratify'.)\n",
    "df['offense_class'] = [offense[-2:] if offense.endswith(('AM','BM','CM','DM',' M', \n",
    "                       'AF','BF','CF','DF',' F')) else np.nan for offense in df.offense]\n",
    "\n",
    "# Days that CT says a detainee has been in the system.  This doesn't account for\n",
    "# some detainees.  There are 730 days in the dataset, and the state says that entrance \n",
    "# dates over a year before could be original entrance date but are definitely not to be\n",
    "# trusted.  The days column will be capped at 1,095 (730 + 365).  \n",
    "df.days = [int(time[:-23]) for time in df.days]\n",
    "df.days = [time if time <= 1095 else 1095 for time in df.days]\n",
    "\n",
    "# Check that everything worked.  There should be 0 null values.\n",
    "df.info()"
   ]
  },
  {
   "cell_type": "code",
   "execution_count": 40,
   "metadata": {},
   "outputs": [
    {
     "name": "stdout",
     "output_type": "stream",
     "text": [
      "<class 'pandas.core.frame.DataFrame'>\n",
      "Index: 9663 entries, 0 to 9662\n",
      "Data columns (total 13 columns):\n",
      "download_date            9663 non-null datetime64[ns]\n",
      "identifier               9663 non-null object\n",
      "latest_admission_date    9663 non-null datetime64[ns]\n",
      "race                     9663 non-null category\n",
      "gender                   9663 non-null category\n",
      "age                      9663 non-null int64\n",
      "bond_amount              9663 non-null int64\n",
      "offense                  9663 non-null object\n",
      "facility                 9663 non-null category\n",
      "detainer                 9663 non-null category\n",
      "offense_class            9663 non-null category\n",
      "days                     9663 non-null int64\n",
      "counts                   9663 non-null int64\n",
      "dtypes: category(5), datetime64[ns](2), int64(4), object(2)\n",
      "memory usage: 1.0+ MB\n"
     ]
    }
   ],
   "source": [
    "# Only working with the 94% under 80k.\n",
    "#df = df.loc[df.bond_amount<=80000]\n",
    "#print(df.info())\n",
    "\n",
    "# Separate out the two datasets, misdemeanor (primary) and felony.\n",
    "misdemeanor_df = df.loc[df['offense_class'].str.endswith('M',na=False)].reset_index(\n",
    "    drop=True).rename(index=str, columns={'offense_class_ M':'offense_class_M'})\n",
    "\n",
    "# Change race, gender, facility, and detainer to category type and verify.\n",
    "misdemeanor_df.race = misdemeanor_df.race.astype('category')\n",
    "misdemeanor_df.gender = misdemeanor_df.gender.astype('category')\n",
    "misdemeanor_df.facility = misdemeanor_df.facility.astype('category')\n",
    "misdemeanor_df.detainer = misdemeanor_df.detainer.astype('category')\n",
    "misdemeanor_df.offense_class = misdemeanor_df.offense_class.astype('category')\n",
    "\n",
    "# Divide the misdemeanor data into pre-enactment and post.\n",
    "mis_pre_df = misdemeanor_df.loc[misdemeanor_df.download_date < '2017-07-01']\n",
    "mis_post_df = misdemeanor_df.loc[misdemeanor_df.download_date >= '2017-07-01']\n",
    "mis_post_df = mis_post_df.loc[mis_post_df.download_date < '2018-07-01']\n",
    "mis_outofbounds_df = misdemeanor_df.loc[misdemeanor_df.download_date >= '2018-07-01']\n",
    "mis_df = pd.concat([mis_pre_df, mis_post_df])\n",
    "\n",
    "# Check that everything worked.  There should be 0 null values.\n",
    "misdemeanor_df.info()"
   ]
  },
  {
   "cell_type": "markdown",
   "metadata": {},
   "source": [
    "### Gender categorization:\n",
    "1. Define data and target from the pre-enactment dataframe\n",
    "2. Split, preprocess, and fit\n",
    "3. Test the accuracy on pre-enactment test data\n",
    "4. See what happens with the post-enactment data"
   ]
  },
  {
   "cell_type": "code",
   "execution_count": 41,
   "metadata": {},
   "outputs": [],
   "source": [
    "# Define data and target\n",
    "X = mis_pre_df[['bond_amount','days','age']]\n",
    "y = mis_pre_df.gender.ravel()\n",
    "\n",
    "X_train, X_test, y_train, y_test = train_test_split(X,y,test_size=.3,stratify=y)"
   ]
  },
  {
   "cell_type": "code",
   "execution_count": 42,
   "metadata": {},
   "outputs": [
    {
     "name": "stdout",
     "output_type": "stream",
     "text": [
      "Accuracy, gender (training): 0.8273\n",
      "Accuracy, gender (test): 0.8269 (+/- 0.0035)\n"
     ]
    }
   ],
   "source": [
    "# Define data and target\n",
    "X = mis_pre_df[['bond_amount','days','age']]\n",
    "y = mis_pre_df.gender.ravel()\n",
    "\n",
    "X_train, X_test, y_train, y_test = train_test_split(X,y,test_size=.3,stratify=y)\n",
    "\n",
    "# Rescale the data\n",
    "scaler = MinMaxScaler()\n",
    "\n",
    "# Classifier\n",
    "clf = LogisticRegression()\n",
    "\n",
    "pl = Pipeline([\n",
    "        ('scaler', scaler),\n",
    "        ('clf', clf)\n",
    "    ])\n",
    "\n",
    "pl.fit(X_train,y_train)\n",
    "print(\"Accuracy, gender (training): %0.4f\" % (pl.score(X_train,y_train)))\n",
    "\n",
    "# Print the accuracy\n",
    "scores = cross_val_score(pl, X_test, y_test, cv=5) \n",
    "print(\"Accuracy, gender (test): %0.4f (+/- %0.4f)\" % (scores.mean(), scores.std() * 2))"
   ]
  },
  {
   "cell_type": "code",
   "execution_count": 43,
   "metadata": {},
   "outputs": [
    {
     "name": "stdout",
     "output_type": "stream",
     "text": [
      "Accuracy, gender (training): 0.8273\n",
      "Accuracy, gender (test): 0.8269 (+/- 0.0035)\n"
     ]
    }
   ],
   "source": [
    "# Define data and target\n",
    "X = mis_pre_df[['bond_amount','days','age']]\n",
    "y = mis_pre_df.gender.ravel()\n",
    "\n",
    "X_train, X_test, y_train, y_test = train_test_split(X,y,test_size=.3,stratify=y)\n",
    "\n",
    "# Rescale the data\n",
    "scaler = StandardScaler()\n",
    "\n",
    "# Classifier\n",
    "clf = LogisticRegression()\n",
    "\n",
    "pl = Pipeline([\n",
    "        ('scaler', scaler),\n",
    "        ('clf', clf)\n",
    "    ])\n",
    "\n",
    "pl.fit(X_train,y_train)\n",
    "print(\"Accuracy, gender (training): %0.4f\" % (pl.score(X_train,y_train)))\n",
    "\n",
    "# Print the accuracy\n",
    "scores = cross_val_score(pl, X_test, y_test, cv=5) \n",
    "print(\"Accuracy, gender (test): %0.4f (+/- %0.4f)\" % (scores.mean(), scores.std() * 2))"
   ]
  },
  {
   "cell_type": "code",
   "execution_count": 44,
   "metadata": {},
   "outputs": [
    {
     "name": "stdout",
     "output_type": "stream",
     "text": [
      "Accuracy, gender (training): 0.8273\n",
      "Accuracy, gender (test): 0.8278 (+/- 0.0030)\n"
     ]
    }
   ],
   "source": [
    "# Define data and target\n",
    "X = mis_pre_df[['bond_amount','days','age']]\n",
    "y = mis_pre_df.gender.ravel()\n",
    "\n",
    "X_train, X_test, y_train, y_test = train_test_split(X,y,test_size=.3,stratify=y)\n",
    "\n",
    "# Rescale the data\n",
    "scaler = Normalizer()\n",
    "\n",
    "# Classifier\n",
    "clf = LogisticRegression()\n",
    "\n",
    "pl = Pipeline([\n",
    "        ('scaler', scaler),\n",
    "        ('clf', clf)\n",
    "    ])\n",
    "\n",
    "pl.fit(X_train,y_train)\n",
    "print(\"Accuracy, gender (training): %0.4f\" % (pl.score(X_train,y_train)))\n",
    "\n",
    "# Print the accuracy\n",
    "scores = cross_val_score(pl, X_test, y_test, cv=5) \n",
    "print(\"Accuracy, gender (test): %0.4f (+/- %0.4f)\" % (scores.mean(), scores.std() * 2))"
   ]
  },
  {
   "cell_type": "markdown",
   "metadata": {},
   "source": [
    "### Offense class and race q&d below.  The numbers are too similar in the gender for me to figure out if I'm doing something wrong."
   ]
  },
  {
   "cell_type": "code",
   "execution_count": 45,
   "metadata": {},
   "outputs": [
    {
     "name": "stdout",
     "output_type": "stream",
     "text": [
      "Accuracy, offense class (training): 0.7438\n",
      "Accuracy, offense class (test): 0.7438 (+/- 0.0065)\n"
     ]
    }
   ],
   "source": [
    "# Define data and target\n",
    "X = mis_pre_df[['bond_amount','days','age']]\n",
    "y = mis_pre_df.offense_class.ravel()\n",
    "\n",
    "X_train, X_test, y_train, y_test = train_test_split(X,y,test_size=.3,stratify=y)\n",
    "\n",
    "# Rescale the data\n",
    "scaler = MinMaxScaler()\n",
    "\n",
    "# Classifier\n",
    "clf = LogisticRegression()\n",
    "\n",
    "pl = Pipeline([\n",
    "        ('scaler', scaler),\n",
    "        ('clf', clf)\n",
    "    ])\n",
    "\n",
    "pl.fit(X_train,y_train)\n",
    "print(\"Accuracy, offense class (training): %0.4f\" % (pl.score(X_train,y_train)))\n",
    "\n",
    "# Print the accuracy\n",
    "scores = cross_val_score(pl, X_test, y_test, cv=5) \n",
    "print(\"Accuracy, offense class (test): %0.4f (+/- %0.4f)\" % (scores.mean(), scores.std() * 2))"
   ]
  },
  {
   "cell_type": "code",
   "execution_count": 46,
   "metadata": {},
   "outputs": [
    {
     "name": "stdout",
     "output_type": "stream",
     "text": [
      "Accuracy, race (training): 0.4270\n",
      "Accuracy, race (test): 0.4267 (+/- 0.0072)\n"
     ]
    }
   ],
   "source": [
    "# Define data and target\n",
    "X = mis_pre_df[['bond_amount','days','age']]\n",
    "y = mis_pre_df.race.ravel()\n",
    "\n",
    "X_train, X_test, y_train, y_test = train_test_split(X,y,test_size=.3,stratify=y)\n",
    "\n",
    "# Rescale the data\n",
    "scaler = MinMaxScaler()\n",
    "\n",
    "# Classifier\n",
    "clf = LogisticRegression()\n",
    "\n",
    "pl = Pipeline([\n",
    "        ('scaler', scaler),\n",
    "        ('clf', clf)\n",
    "    ])\n",
    "\n",
    "pl.fit(X_train,y_train)\n",
    "print(\"Accuracy, race (training): %0.4f\" % (pl.score(X_train,y_train)))\n",
    "\n",
    "# Print the accuracy\n",
    "scores = cross_val_score(pl, X_test, y_test, cv=5) \n",
    "print(\"Accuracy, race (test): %0.4f (+/- %0.4f)\" % (scores.mean(), scores.std() * 2))"
   ]
  }
 ],
 "metadata": {
  "kernelspec": {
   "display_name": "Python 3",
   "language": "python",
   "name": "python3"
  }
 },
 "nbformat": 4,
 "nbformat_minor": 2
}
