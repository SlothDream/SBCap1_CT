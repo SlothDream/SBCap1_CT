{
 "cells": [
  {
   "cell_type": "code",
   "execution_count": 1,
   "metadata": {},
   "outputs": [
    {
     "name": "stderr",
     "output_type": "stream",
     "text": [
      "C:\\Users\\Misty\\Anaconda3\\lib\\site-packages\\sklearn\\ensemble\\weight_boosting.py:29: DeprecationWarning: numpy.core.umath_tests is an internal NumPy module and should not be imported. It will be removed in a future NumPy release.\n",
      "  from numpy.core.umath_tests import inner1d\n"
     ]
    }
   ],
   "source": [
    "# Analysis for CT Pretrial Detainees\n",
    "# (Springboard Capstone 1)\n",
    "# 2019, Misty M. Giles\n",
    "\n",
    "# Set up plotting  \n",
    "%matplotlib inline\n",
    "import matplotlib.pyplot as plt\n",
    "from matplotlib import cm\n",
    "import seaborn as sns\n",
    "\n",
    "# ???  Am I using this?\n",
    "from datetime import datetime as date\n",
    "\n",
    "# Import standard packages\n",
    "import numpy as np\n",
    "import pandas as pd\n",
    "import scipy.stats as stats\n",
    "\n",
    "# Import misc tools\n",
    "from sklearn.model_selection import train_test_split\n",
    "from sklearn.pipeline import Pipeline\n",
    "\n",
    "# Import verification tools\n",
    "from sklearn.model_selection import cross_val_score\n",
    "\n",
    "# Import preprocessing tools\n",
    "from sklearn.preprocessing import MinMaxScaler\n",
    "from sklearn.preprocessing import Normalizer\n",
    "from sklearn.preprocessing import StandardScaler\n",
    "from sklearn.utils import resample\n",
    "\n",
    "# Import models\n",
    "from sklearn.ensemble import RandomForestClassifier\n",
    "from sklearn.linear_model import LogisticRegression\n",
    "from sklearn.model_selection import RandomizedSearchCV\n",
    "from sklearn.multiclass import OneVsRestClassifier\n",
    "from sklearn.neighbors import KNeighborsClassifier\n",
    "from sklearn.tree import DecisionTreeClassifier\n",
    "\n",
    "# Select the file created in CT_csv (unit 5 data wrangling assignment)\n",
    "file = 'detainees_classed_offenses.csv'"
   ]
  },
  {
   "cell_type": "code",
   "execution_count": 2,
   "metadata": {},
   "outputs": [
    {
     "name": "stdout",
     "output_type": "stream",
     "text": [
      "<class 'pandas.core.frame.DataFrame'>\n",
      "RangeIndex: 28808 entries, 0 to 28807\n",
      "Data columns (total 13 columns):\n",
      "download_date            28808 non-null datetime64[ns]\n",
      "identifier               28808 non-null object\n",
      "latest_admission_date    28808 non-null datetime64[ns]\n",
      "race                     28808 non-null object\n",
      "gender                   28808 non-null object\n",
      "age                      28808 non-null int64\n",
      "bond_amount              28808 non-null int64\n",
      "offense                  28808 non-null object\n",
      "facility                 28808 non-null object\n",
      "detainer                 28808 non-null object\n",
      "offense_class            28807 non-null object\n",
      "days                     28808 non-null int64\n",
      "counts                   28808 non-null int64\n",
      "dtypes: datetime64[ns](2), int64(4), object(7)\n",
      "memory usage: 2.9+ MB\n"
     ]
    }
   ],
   "source": [
    "# Read in the file\n",
    "df = pd.read_csv(file, parse_dates=['download_date', 'latest_admission_date'])\n",
    "\n",
    "# Change from previous notebooks to drop the single case of 'UM' at the \n",
    "# beginning -- inclusion prevents use of 'stratify'.)\n",
    "df['offense_class'] = [offense[-2:] if offense.endswith(('AM','BM','CM','DM',' M', \n",
    "                       'AF','BF','CF','DF',' F')) else np.nan for offense in df.offense]\n",
    "\n",
    "# Days that CT says a detainee has been in the system.  This doesn't account for\n",
    "# some detainees.  There are 730 days in the dataset, and the state says that entrance \n",
    "# dates over a year before could be original entrance date but are definitely not to be\n",
    "# trusted.  The days column will be capped at 1,095 (730 + 365).  \n",
    "df.days = [int(time[:-23]) for time in df.days]\n",
    "df.days = [time if time <= 1095 else 1095 for time in df.days]\n",
    "\n",
    "#df = df.loc[df.days<1095]\n",
    "\n",
    "# Check that everything worked.  There should be 0 null values.\n",
    "df.info()"
   ]
  },
  {
   "cell_type": "code",
   "execution_count": 3,
   "metadata": {},
   "outputs": [
    {
     "name": "stdout",
     "output_type": "stream",
     "text": [
      "<class 'pandas.core.frame.DataFrame'>\n",
      "Index: 9663 entries, 0 to 9662\n",
      "Data columns (total 13 columns):\n",
      "download_date            9663 non-null datetime64[ns]\n",
      "identifier               9663 non-null object\n",
      "latest_admission_date    9663 non-null datetime64[ns]\n",
      "race                     9663 non-null category\n",
      "gender                   9663 non-null category\n",
      "age                      9663 non-null int64\n",
      "bond_amount              9663 non-null int64\n",
      "offense                  9663 non-null object\n",
      "facility                 9663 non-null category\n",
      "detainer                 9663 non-null category\n",
      "offense_class            9663 non-null category\n",
      "days                     9663 non-null int64\n",
      "counts                   9663 non-null int64\n",
      "dtypes: category(5), datetime64[ns](2), int64(4), object(2)\n",
      "memory usage: 1.0+ MB\n"
     ]
    }
   ],
   "source": [
    "# Only working with the 94% under 80k.\n",
    "#df = df.loc[df.bond_amount<=80000]\n",
    "#print(df.info())\n",
    "\n",
    "# Separate out the two datasets, misdemeanor (primary) and felony.\n",
    "misdemeanor_df = df.loc[df['offense_class'].str.endswith('M',na=False)].reset_index(\n",
    "    drop=True).rename(index=str, columns={'offense_class_ M':'offense_class_M'})\n",
    "\n",
    "# Change race, gender, facility, and detainer to category type and verify.\n",
    "misdemeanor_df.race = misdemeanor_df.race.astype('category')\n",
    "misdemeanor_df.gender = misdemeanor_df.gender.astype('category')\n",
    "misdemeanor_df.facility = misdemeanor_df.facility.astype('category')\n",
    "misdemeanor_df.detainer = misdemeanor_df.detainer.astype('category')\n",
    "misdemeanor_df.offense_class = misdemeanor_df.offense_class.astype('category')\n",
    "\n",
    "# Divide the misdemeanor data into pre-enactment and post.\n",
    "mis_pre_df = misdemeanor_df.loc[misdemeanor_df.download_date < '2017-07-01']\n",
    "mis_post_df = misdemeanor_df.loc[misdemeanor_df.download_date >= '2017-07-01']\n",
    "mis_post_df = mis_post_df.loc[mis_post_df.download_date < '2018-07-01']\n",
    "mis_outofbounds_df = misdemeanor_df.loc[misdemeanor_df.download_date >= '2018-07-01']\n",
    "mis_df = pd.concat([mis_pre_df, mis_post_df])\n",
    "\n",
    "# Check that everything worked.  There should be 0 null values.\n",
    "misdemeanor_df.info()"
   ]
  },
  {
   "cell_type": "markdown",
   "metadata": {},
   "source": [
    "### Gender categorization:\n",
    "1. Define data and target from the pre-enactment dataframe\n",
    "2. Split, preprocess, and fit\n",
    "3. Test the accuracy on pre-enactment test data\n",
    "4. See what happens with the post-enactment data"
   ]
  },
  {
   "cell_type": "markdown",
   "metadata": {},
   "source": [
    "One problem that has to be addressed is the inbalance of male/female samples.  Here's the original percentage:"
   ]
  },
  {
   "cell_type": "code",
   "execution_count": 4,
   "metadata": {},
   "outputs": [
    {
     "name": "stdout",
     "output_type": "stream",
     "text": [
      "Original male/female split: 0.8272\n"
     ]
    }
   ],
   "source": [
    "print('Original male/female split: %0.4f' % (len(mis_pre_df.loc[mis_pre_df.gender=='M'])/len(mis_pre_df.gender)))"
   ]
  },
  {
   "cell_type": "markdown",
   "metadata": {},
   "source": [
    "And here's how logistic regression first handles the data.  It guesses \"M\" and gets it right frequently enough that it calls it quits."
   ]
  },
  {
   "cell_type": "code",
   "execution_count": 5,
   "metadata": {
    "scrolled": true
   },
   "outputs": [
    {
     "name": "stdout",
     "output_type": "stream",
     "text": [
      "Accuracy, gender (training): 0.8273\n",
      "Accuracy, gender (test): 0.8269 (+/- 0.0035)\n"
     ]
    }
   ],
   "source": [
    "# Define data and target\n",
    "X = mis_pre_df[['bond_amount','days','age']]\n",
    "y = mis_pre_df.gender.ravel()\n",
    "\n",
    "X_train, X_test, y_train, y_test = train_test_split(X,y,test_size=.3,stratify=y)\n",
    "\n",
    "# Classifier\n",
    "clf = LogisticRegression()\n",
    "\n",
    "clf.fit(X_train,y_train)\n",
    "print(\"Accuracy, gender (training): %0.4f\" % (clf.score(X_train,y_train)))\n",
    "\n",
    "# Print the accuracy\n",
    "scores = cross_val_score(clf, X_test, y_test, cv=5) \n",
    "print(\"Accuracy, gender (test): %0.4f (+/- %0.4f)\" % (scores.mean(), scores.std() * 2))"
   ]
  },
  {
   "cell_type": "markdown",
   "metadata": {},
   "source": [
    "Time to upsample the \"F\" samples.  Also adding scaling."
   ]
  },
  {
   "cell_type": "code",
   "execution_count": 6,
   "metadata": {
    "scrolled": false
   },
   "outputs": [
    {
     "name": "stdout",
     "output_type": "stream",
     "text": [
      "New counts:\n",
      "M    3216\n",
      "F    3216\n",
      "Name: gender, dtype: int64\n",
      "\n",
      "<class 'pandas.core.frame.DataFrame'>\n",
      "Index: 6432 entries, 1403 to 9660\n",
      "Data columns (total 3 columns):\n",
      "bond_amount    6432 non-null int64\n",
      "days           6432 non-null int64\n",
      "age            6432 non-null int64\n",
      "dtypes: int64(3)\n",
      "memory usage: 201.0+ KB\n",
      "None\n",
      "\n",
      "class:  ndarray\n",
      "shape:  (6432,)\n",
      "strides:  (8,)\n",
      "itemsize:  8\n",
      "aligned:  True\n",
      "contiguous:  True\n",
      "fortran:  True\n",
      "data pointer: 0x1bda8bffce0\n",
      "byteorder:  little\n",
      "byteswap:  False\n",
      "type: object\n",
      "None\n",
      "\n",
      "Accuracy, gender (training): 0.5700\n",
      "Accuracy, gender (test): 0.5824 (+/- 0.0518)\n"
     ]
    }
   ],
   "source": [
    "# Define data and target\n",
    "to_rebalance_df = mis_pre_df[['bond_amount','days','age','gender']]\n",
    "\n",
    "rebalance_F = to_rebalance_df.loc[to_rebalance_df.gender=='F']\n",
    "rebalance_M = to_rebalance_df.loc[to_rebalance_df.gender=='M']\n",
    "\n",
    "samples = len(rebalance_M)\n",
    "\n",
    "F_upsampled = resample(rebalance_F, replace=True, n_samples=samples)\n",
    "\n",
    "balanced_df = pd.concat([F_upsampled,rebalance_M])\n",
    "\n",
    "print('New counts:')\n",
    "print(balanced_df.gender.value_counts())\n",
    "\n",
    "X = balanced_df.drop('gender',axis=1)\n",
    "y = balanced_df.gender.ravel()\n",
    "\n",
    "print('')\n",
    "print(X.info())\n",
    "print('')\n",
    "print(np.info(y))\n",
    "print('')\n",
    "\n",
    "X_train, X_test, y_train, y_test = train_test_split(X,y,test_size=.3,stratify=y)\n",
    "\n",
    "# Rescale the data\n",
    "scaler = MinMaxScaler()\n",
    "\n",
    "# Classifier\n",
    "clf = LogisticRegression()\n",
    "\n",
    "pl = Pipeline([\n",
    "        ('scaler', scaler),\n",
    "        ('clf', clf)\n",
    "    ])\n",
    "\n",
    "pl.fit(X_train,y_train)\n",
    "print(\"Accuracy, gender (training): %0.4f\" % (pl.score(X_train,y_train)))\n",
    "\n",
    "# Print the accuracy\n",
    "scores = cross_val_score(pl, X_test, y_test, cv=5) \n",
    "print(\"Accuracy, gender (test): %0.4f (+/- %0.4f)\" % (scores.mean(), scores.std() * 2))"
   ]
  },
  {
   "cell_type": "markdown",
   "metadata": {},
   "source": [
    "Finally, some progress.  The model is no longer guessing.  Now, for some hyperparameters."
   ]
  },
  {
   "cell_type": "code",
   "execution_count": 7,
   "metadata": {
    "scrolled": false
   },
   "outputs": [
    {
     "name": "stdout",
     "output_type": "stream",
     "text": [
      "RandomizedSearchCV for 20 candidates parameter settings.\n",
      "Model with rank: 1\n",
      "Mean validation score: 0.589 (std: 0.018)\n",
      "Parameters: {'C': 3.6147753349282348, 'penalty': 'l1'}\n",
      "\n",
      "Model with rank: 2\n",
      "Mean validation score: 0.589 (std: 0.020)\n",
      "Parameters: {'C': 1.4796592068384853, 'penalty': 'l1'}\n",
      "\n",
      "Model with rank: 3\n",
      "Mean validation score: 0.588 (std: 0.021)\n",
      "Parameters: {'C': 3.828192973149617, 'penalty': 'l1'}\n",
      "\n"
     ]
    }
   ],
   "source": [
    "# Utility function to report best scores\n",
    "def report(results, n_top=3):\n",
    "    for i in range(1, n_top + 1):\n",
    "        candidates = np.flatnonzero(results['rank_test_score'] == i)\n",
    "        for candidate in candidates:\n",
    "            print(\"Model with rank: {0}\".format(i))\n",
    "            print(\"Mean validation score: {0:.3f} (std: {1:.3f})\".format(\n",
    "                  results['mean_test_score'][candidate],\n",
    "                  results['std_test_score'][candidate]))\n",
    "            print(\"Parameters: {0}\".format(results['params'][candidate]))\n",
    "            print(\"\")\n",
    "\n",
    "            \n",
    "from scipy.stats import uniform\n",
    "            \n",
    "# Create regularization penalty space\n",
    "penalty = ['l1', 'l2']\n",
    "\n",
    "# Create regularization hyperparameter distribution using uniform distribution\n",
    "C = uniform(loc=0, scale=4)\n",
    "\n",
    "# Create hyperparameter options\n",
    "hyperparameters = dict(C=C, penalty=penalty)\n",
    "\n",
    "# run randomized search\n",
    "n_iter_search = 20\n",
    "random_search = RandomizedSearchCV(clf, hyperparameters, n_iter=n_iter_search, cv=5)\n",
    "\n",
    "random_search.fit(X_train, y_train)\n",
    "print(\"RandomizedSearchCV for %d candidates\"\n",
    "      \" parameter settings.\" % (n_iter_search))\n",
    "report(random_search.cv_results_)"
   ]
  },
  {
   "cell_type": "markdown",
   "metadata": {},
   "source": [
    "### Below is a random forest classifier with the feature importance plotted.  The three most important features are the ones used in the original linear regression above and don't change before/after upsampling.\n",
    "\n",
    "As somewhat expected, the cross_val_score of the random forest is higher than the logistic regression, increasing from 0.58 to 0.76.  Random forest will be tuned in further steps."
   ]
  },
  {
   "cell_type": "code",
   "execution_count": 15,
   "metadata": {},
   "outputs": [
    {
     "name": "stdout",
     "output_type": "stream",
     "text": [
      "New counts:\n",
      "M    3216\n",
      "F    3216\n",
      "Name: gender, dtype: int64\n",
      "Accuracy, gender (test): 0.7611 (+/- 0.0449)\n"
     ]
    },
    {
     "data": {
      "image/png": "[encoded data removed]",
      "text/plain": [
       "<Figure size 432x288 with 1 Axes>"
      ]
     },
     "metadata": {
      "needs_background": "light"
     },
     "output_type": "display_data"
    }
   ],
   "source": [
    "# Define data and target\n",
    "\n",
    "to_rebalance_df = mis_pre_df[['bond_amount','days','age','gender','offense_class','race']]\n",
    "to_rebalance_df = pd.get_dummies(to_rebalance_df,columns=['offense_class','race'],drop_first=True)\n",
    "\n",
    "rebalance_F = to_rebalance_df.loc[to_rebalance_df.gender=='F']\n",
    "rebalance_M = to_rebalance_df.loc[to_rebalance_df.gender=='M']\n",
    "\n",
    "samples = len(rebalance_M)\n",
    "\n",
    "F_upsampled = resample(rebalance_F, replace=True, n_samples=samples)\n",
    "\n",
    "balanced_df = pd.concat([F_upsampled,rebalance_M])\n",
    "\n",
    "X = balanced_df.drop('gender',axis=1)\n",
    "y = balanced_df.gender.ravel()\n",
    "\n",
    "X_train, X_test, y_train, y_test = train_test_split(X,y,test_size=.3,stratify=y)\n",
    "\n",
    "# Rescale the data\n",
    "scaler = MinMaxScaler()\n",
    "\n",
    "# Classifier\n",
    "#clf = DecisionTreeClassifier()\n",
    "clf = RandomForestClassifier(n_estimators=100,max_features=None)\n",
    "clf.fit(X_train,y_train)\n",
    "scores = cross_val_score(clf, X_test, y_test, cv=5) \n",
    "print(\"Accuracy, gender (test): %0.4f (+/- %0.4f)\" % (scores.mean(), scores.std() * 2))\n",
    "\n",
    "clf.feature_importances_\n",
    "\n",
    "feature_imp = pd.Series(clf.feature_importances_,index=X.columns).sort_values(ascending=False)\n",
    "_ = sns.barplot(x=feature_imp, y=feature_imp.index)\n",
    "_ = plt.xlabel('Feature Importance Score')\n",
    "_ = plt.title('Importance of Features (no facility)')"
   ]
  },
  {
   "cell_type": "markdown",
   "metadata": {},
   "source": [
    "0.89 accuracy on tuned random forest?  Cool."
   ]
  },
  {
   "cell_type": "code",
   "execution_count": 16,
   "metadata": {
    "scrolled": false
   },
   "outputs": [
    {
     "name": "stdout",
     "output_type": "stream",
     "text": [
      "RandomizedSearchCV for 20 candidates parameter settings.\n",
      "Model with rank: 1\n",
      "Mean validation score: 0.888 (std: 0.009)\n",
      "Parameters: {'min_samples_split': 3, 'max_features': 0.2, 'max_depth': None, 'criterion': 'gini', 'bootstrap': False}\n",
      "\n",
      "Model with rank: 2\n",
      "Mean validation score: 0.884 (std: 0.012)\n",
      "Parameters: {'min_samples_split': 2, 'max_features': 0.2, 'max_depth': None, 'criterion': 'entropy', 'bootstrap': False}\n",
      "\n",
      "Model with rank: 3\n",
      "Mean validation score: 0.882 (std: 0.010)\n",
      "Parameters: {'min_samples_split': 2, 'max_features': 0.4, 'max_depth': None, 'criterion': 'entropy', 'bootstrap': False}\n",
      "\n"
     ]
    }
   ],
   "source": [
    "# Utility function to report best scores\n",
    "def report(results, n_top=3):\n",
    "    for i in range(1, n_top + 1):\n",
    "        candidates = np.flatnonzero(results['rank_test_score'] == i)\n",
    "        for candidate in candidates:\n",
    "            print(\"Model with rank: {0}\".format(i))\n",
    "            print(\"Mean validation score: {0:.3f} (std: {1:.3f})\".format(\n",
    "                  results['mean_test_score'][candidate],\n",
    "                  results['std_test_score'][candidate]))\n",
    "            print(\"Parameters: {0}\".format(results['params'][candidate]))\n",
    "            print(\"\")\n",
    "\n",
    "param_dist = {\"max_depth\": [2, 3, None],\n",
    "              \"max_features\": [.1, .2, .3, .4, .5, .6, .7, .8, .9, 1.0],\n",
    "              \"min_samples_split\": [2, 3, 4],\n",
    "              \"bootstrap\": [True, False],\n",
    "              \"criterion\": [\"gini\", \"entropy\"]}\n",
    "\n",
    "# run randomized search\n",
    "n_iter_search = 20\n",
    "random_search = RandomizedSearchCV(clf, param_distributions=param_dist,\n",
    "                                   n_iter=n_iter_search, cv=5)\n",
    "\n",
    "random_search.fit(X_train, y_train)\n",
    "print(\"RandomizedSearchCV for %d candidates\"\n",
    "      \" parameter settings.\" % (n_iter_search))\n",
    "report(random_search.cv_results_)"
   ]
  },
  {
   "cell_type": "markdown",
   "metadata": {},
   "source": [
    "### It is possible to create a predictor that is 100% correct for gender if you include the facility.  CT only has one facility for housing both pretrial and sentenced women.  (Source: https://portal.ct.gov/DOC/Facility/York-CI)\n",
    "\n",
    "This is not upsampled.  It it just for representation."
   ]
  },
  {
   "cell_type": "code",
   "execution_count": 10,
   "metadata": {},
   "outputs": [
    {
     "name": "stdout",
     "output_type": "stream",
     "text": [
      "Accuracy, gender (test): 1.0000 (+/- 0.0000)\n"
     ]
    },
    {
     "data": {
      "image/png": "[encoded data removed]",
      "text/plain": [
       "<Figure size 432x288 with 1 Axes>"
      ]
     },
     "metadata": {
      "needs_background": "light"
     },
     "output_type": "display_data"
    }
   ],
   "source": [
    "# Define data and target\n",
    "X = mis_pre_df[['bond_amount','days','age','offense_class','race','facility']]\n",
    "X = pd.get_dummies(X,columns=['offense_class','race','facility'],drop_first=True).drop('race_ASIAN',axis=1)\n",
    "y = mis_pre_df.gender.ravel()\n",
    "\n",
    "X_train, X_test, y_train, y_test = train_test_split(X,y,test_size=.3,stratify=y)\n",
    "\n",
    "# Rescale the data\n",
    "scaler = MinMaxScaler()\n",
    "\n",
    "# Classifier\n",
    "#clf = DecisionTreeClassifier()\n",
    "clf = RandomForestClassifier(n_estimators=100,max_features=None)\n",
    "clf.fit(X_train,y_train)\n",
    "scores = cross_val_score(clf, X_test, y_test, cv=5) \n",
    "print(\"Accuracy, gender (test): %0.4f (+/- %0.4f)\" % (scores.mean(), scores.std() * 2))\n",
    "\n",
    "clf.feature_importances_\n",
    "\n",
    "feature_imp = pd.Series(clf.feature_importances_,index=X.columns).sort_values(ascending=False)\n",
    "# Restrict the features available on the y-axis so you can read them\n",
    "_ = sns.barplot(x=feature_imp[:10], y=feature_imp.index[:10])\n",
    "_ = plt.xlabel('Feature Importance Score')\n",
    "_ = plt.title('Importance of Features (incl facility)')"
   ]
  },
  {
   "cell_type": "code",
   "execution_count": null,
   "metadata": {},
   "outputs": [],
   "source": []
  },
  {
   "cell_type": "code",
   "execution_count": 11,
   "metadata": {},
   "outputs": [
    {
     "name": "stdout",
     "output_type": "stream",
     "text": [
      "Accuracy, gender (training): 0.8273\n",
      "Accuracy, gender (test): 0.8269 (+/- 0.0035)\n"
     ]
    }
   ],
   "source": [
    "# Define data and target\n",
    "X = mis_pre_df[['bond_amount','days','age']]\n",
    "y = mis_pre_df.gender.ravel()\n",
    "\n",
    "X_train, X_test, y_train, y_test = train_test_split(X,y,test_size=.3,stratify=y)\n",
    "\n",
    "# Rescale the data\n",
    "scaler = MinMaxScaler()\n",
    "\n",
    "# Classifier\n",
    "clf = OneVsRestClassifier(LogisticRegression())\n",
    "\n",
    "pl = Pipeline([\n",
    "        ('scaler', scaler),\n",
    "        ('clf', clf)\n",
    "    ])\n",
    "\n",
    "pl.fit(X_train,y_train)\n",
    "print(\"Accuracy, gender (training): %0.4f\" % (pl.score(X_train,y_train)))\n",
    "\n",
    "# Print the accuracy\n",
    "scores = cross_val_score(pl, X_test, y_test, cv=5) \n",
    "print(\"Accuracy, gender (test): %0.4f (+/- %0.4f)\" % (scores.mean(), scores.std() * 2))"
   ]
  },
  {
   "cell_type": "code",
   "execution_count": 12,
   "metadata": {},
   "outputs": [
    {
     "name": "stdout",
     "output_type": "stream",
     "text": [
      "Accuracy, gender (training): 0.8273\n",
      "Accuracy, gender (test): 0.8243 (+/- 0.0094)\n"
     ]
    }
   ],
   "source": [
    "# Define data and target\n",
    "X = mis_pre_df[['bond_amount','days','age']]\n",
    "y = mis_pre_df.gender.ravel()\n",
    "\n",
    "X_train, X_test, y_train, y_test = train_test_split(X,y,test_size=.3,stratify=y)\n",
    "\n",
    "# Rescale the data\n",
    "scaler = Normalizer()\n",
    "\n",
    "# Classifier\n",
    "clf = KNeighborsClassifier(n_neighbors=31)\n",
    "\n",
    "pl = Pipeline([\n",
    "        ('scaler', scaler),\n",
    "        ('clf', clf)\n",
    "    ])\n",
    "\n",
    "pl.fit(X_train,y_train)\n",
    "print(\"Accuracy, gender (training): %0.4f\" % (pl.score(X_train,y_train)))\n",
    "\n",
    "# Print the accuracy\n",
    "scores = cross_val_score(pl, X_test, y_test, cv=5) \n",
    "print(\"Accuracy, gender (test): %0.4f (+/- %0.4f)\" % (scores.mean(), scores.std() * 2))"
   ]
  },
  {
   "cell_type": "markdown",
   "metadata": {},
   "source": [
    "### Offense class and race q&d below.  The numbers are too similar in the gender for me to figure out if I'm doing something wrong."
   ]
  },
  {
   "cell_type": "code",
   "execution_count": 13,
   "metadata": {},
   "outputs": [
    {
     "name": "stdout",
     "output_type": "stream",
     "text": [
      "Accuracy, offense class (training): 0.7438\n",
      "Accuracy, offense class (test): 0.7438 (+/- 0.0065)\n"
     ]
    }
   ],
   "source": [
    "# Define data and target\n",
    "X = mis_pre_df[['bond_amount','days','age']]\n",
    "y = mis_pre_df.offense_class.ravel()\n",
    "\n",
    "X_train, X_test, y_train, y_test = train_test_split(X,y,test_size=.3,stratify=y)\n",
    "\n",
    "# Rescale the data\n",
    "scaler = MinMaxScaler()\n",
    "\n",
    "# Classifier\n",
    "clf = LogisticRegression()\n",
    "\n",
    "pl = Pipeline([\n",
    "        ('scaler', scaler),\n",
    "        ('clf', clf)\n",
    "    ])\n",
    "\n",
    "pl.fit(X_train,y_train)\n",
    "print(\"Accuracy, offense class (training): %0.4f\" % (pl.score(X_train,y_train)))\n",
    "\n",
    "# Print the accuracy\n",
    "scores = cross_val_score(pl, X_test, y_test, cv=5) \n",
    "print(\"Accuracy, offense class (test): %0.4f (+/- %0.4f)\" % (scores.mean(), scores.std() * 2))"
   ]
  },
  {
   "cell_type": "code",
   "execution_count": 14,
   "metadata": {},
   "outputs": [
    {
     "name": "stdout",
     "output_type": "stream",
     "text": [
      "Accuracy, race (training): 0.4252\n",
      "Accuracy, race (test): 0.4233 (+/- 0.0166)\n"
     ]
    }
   ],
   "source": [
    "# Define data and target\n",
    "X = mis_pre_df[['bond_amount','days','age']]\n",
    "y = mis_pre_df.race.ravel()\n",
    "\n",
    "X_train, X_test, y_train, y_test = train_test_split(X,y,test_size=.3,stratify=y)\n",
    "\n",
    "# Rescale the data\n",
    "scaler = MinMaxScaler()\n",
    "\n",
    "# Classifier\n",
    "clf = LogisticRegression()\n",
    "\n",
    "pl = Pipeline([\n",
    "        ('scaler', scaler),\n",
    "        ('clf', clf)\n",
    "    ])\n",
    "\n",
    "pl.fit(X_train,y_train)\n",
    "print(\"Accuracy, race (training): %0.4f\" % (pl.score(X_train,y_train)))\n",
    "\n",
    "# Print the accuracy\n",
    "scores = cross_val_score(pl, X_test, y_test, cv=5) \n",
    "print(\"Accuracy, race (test): %0.4f (+/- %0.4f)\" % (scores.mean(), scores.std() * 2))"
   ]
  }
 ],
 "metadata": {
  "kernelspec": {
   "display_name": "Python 3",
   "language": "python",
   "name": "python3"
  },
  "language_info": {
   "codemirror_mode": {
    "name": "ipython",
    "version": 3
   },
   "file_extension": ".py",
   "mimetype": "text/x-python",
   "name": "python",
   "nbconvert_exporter": "python",
   "pygments_lexer": "ipython3",
   "version": "3.7.2"
  }
 },
 "nbformat": 4,
 "nbformat_minor": 2
}
