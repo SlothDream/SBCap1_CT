{
 "cells": [
  {
   "cell_type": "code",
   "execution_count": 1,
   "metadata": {},
   "outputs": [],
   "source": [
    "# Inferential Statistics for CT Pretrial Detainees\n",
    "# (Springboard Capstone 1)\n",
    "# 2019, Misty M. Giles\n",
    "\n",
    "# Import everything.  \n",
    "%matplotlib inline\n",
    "from datetime import datetime as date\n",
    "import matplotlib.pyplot as plt\n",
    "from matplotlib import cm\n",
    "import numpy as np\n",
    "import pandas as pd\n",
    "import scipy.stats as stats\n",
    "import seaborn as sns\n",
    "\n",
    "# Select the file created in CT_csv (unit 5 data wrangling assignment)\n",
    "file = 'detainees_classed_offenses.csv'"
   ]
  },
  {
   "cell_type": "code",
   "execution_count": 2,
   "metadata": {},
   "outputs": [
    {
     "name": "stdout",
     "output_type": "stream",
     "text": [
      "<class 'pandas.core.frame.DataFrame'>\n",
      "RangeIndex: 28808 entries, 0 to 28807\n",
      "Data columns (total 14 columns):\n",
      "download_date            28808 non-null datetime64[ns]\n",
      "identifier               28808 non-null object\n",
      "latest_admission_date    28808 non-null datetime64[ns]\n",
      "race                     28808 non-null object\n",
      "gender                   28808 non-null object\n",
      "age                      28808 non-null int64\n",
      "bond_amount              28808 non-null int64\n",
      "offense                  28808 non-null object\n",
      "facility                 28808 non-null object\n",
      "detainer                 28808 non-null object\n",
      "offense_class            28808 non-null object\n",
      "days                     28808 non-null int64\n",
      "counts                   28808 non-null int64\n",
      "tens                     28808 non-null int64\n",
      "dtypes: datetime64[ns](2), int64(5), object(7)\n",
      "memory usage: 3.1+ MB\n"
     ]
    }
   ],
   "source": [
    "# Read in the file\n",
    "df = pd.read_csv(file, parse_dates=['download_date', 'latest_admission_date'])\n",
    "\n",
    "# This corrects a typo that's being fixed in CT_csv.\n",
    "df['offense_class'] = [offense[-2:] if offense.endswith(('AM','BM','CM','DM','UM',' M', \n",
    "                       'AF','BF','CF','DF','UF',' F')) else np.nan for offense in df.offense]\n",
    "\n",
    "# Days that CT says a detainee has been in the system.  This doesn't account for\n",
    "# some detainees.  There are 730 days in the dataset, and the state says that entrance \n",
    "# dates over a year before could be original entrance date but are definitely not to be\n",
    "# trusted.  The days column will be capped at 1,095 (730 + 365).  This is definitely going\n",
    "#  to need further investigation.\n",
    "df.days = [int(time[:-23]) for time in df.days]\n",
    "df.days = [time if time <= 1095 else 1095 for time in df.days]\n",
    "\n",
    "# Create age ranges of decades.  For some reason, decades can't be used as a column header.\n",
    "df['tens'] = [int((age // 10) * 10) for age in df.age] \n",
    "\n",
    "# Check that everything worked.  In this EDA, there should be 0 null values.\n",
    "df.info()"
   ]
  },
  {
   "cell_type": "code",
   "execution_count": 3,
   "metadata": {},
   "outputs": [],
   "source": [
    "# Separate out the two datasets, misdemeanor (primary) and felony.\n",
    "felony_df = df.loc[df['offense_class'].str.endswith('F')]\n",
    "misdemeanor_df = df.loc[df['offense_class'].str.endswith('M')]\n",
    "\n",
    "# Divide the misdemeanor data into pre-enactment and post.\n",
    "date_pre = pd.date_range(start='7/1/2016', end='6/30/2017', freq='D').tolist()\n",
    "date_post = pd.date_range(start='7/1/2017', end='6/30/2018', freq='D').tolist()\n",
    "date_end = pd.date_range(start='7/1/2018', end='11/30/2018', freq='D').tolist()\n",
    "mis_pre_df = misdemeanor_df.loc[misdemeanor_df.download_date < '2017-07-01']\n",
    "mis_post_df = misdemeanor_df.loc[misdemeanor_df.download_date >= '2017-07-01']\n",
    "mis_post_df = mis_post_df.loc[mis_post_df.download_date < '2018-07-01']\n",
    "mis_outofbounds_df = misdemeanor_df.loc[misdemeanor_df.download_date >= '2018-07-01']\n",
    "\n",
    "# Bin edges to more easily see age differences.\n",
    "bin_edges = [10, 20, 30, 40, 50, 60, 70, 80, 90] \n",
    "\n",
    "# Bin edges for non-age plots.  Sqrt to avoid 'bin bias.'\n",
    "bins_sqrt = int(np.sqrt(len(misdemeanor_df.bond_amount))) \n",
    "\n",
    "# Set up an ecdf function to quickly see distributions.\n",
    "def ecdf(data):\n",
    "    '''Compute continuous distribution function for one column'''\n",
    "    n = len(data)\n",
    "    x = np.sort(data)\n",
    "    y = np.arange(1, n+1) / n\n",
    "    return x, y\n",
    "\n",
    "# Set up a function to generate bootstrap replicates\n",
    "def bs_reps(data, func, size=1):\n",
    "    '''Draw boostrap replicates'''\n",
    "    # Initialize empty array\n",
    "    bs_replicates = np.empty(size)\n",
    "    # Generate replicates\n",
    "    for i in range(size):\n",
    "        bs_replicates[i] = func(np.random.choice(data, size=len(data)))\n",
    "    return bs_replicates\n",
    "\n",
    "# Set up a function to permute data sets\n",
    "def permutation_sample(data1, data2):\n",
    "    '''Generate a permuted sample from two data sets'''\n",
    "    # Concatenate the data sets\n",
    "    data = np.concatenate((data1, data2))\n",
    "    # Permute the concatenated array\n",
    "    permuted_data = np.random.permutation(data)\n",
    "    # Split the permuted data back into two data sets\n",
    "    perm_sample_1 = permuted_data[:len(data1)]\n",
    "    perm_sample_2 = permuted_data[len(data1):]\n",
    "    return perm_sample_1, perm_sample_2\n",
    "\n",
    "# Set up a function to generate permutation replicates\n",
    "def draw_perm_reps(data1, data2, func, size=1):\n",
    "    '''Draw permutation replicates'''\n",
    "    # Initialize empty array of proper size\n",
    "    perm_replicates = np.empty(size)\n",
    "    for i in range(size):\n",
    "        # Generate permutation sample\n",
    "        perm_sample_1, perm_sample_2 = permutation_sample(data1, data2)\n",
    "        # Compute the test statistic\n",
    "        perm_replicates[i] = func(perm_sample_1, perm_sample_2)\n",
    "    return perm_replicates\n",
    "\n",
    "# Set up a function to calculate differences of means\n",
    "def diff_of_means(data1, data2):\n",
    "    '''Calculate difference of means of two arrays'''\n",
    "    diff = np.mean(data1) - np.mean(data2)\n",
    "    return diff\n",
    "\n",
    "def num_means(column):\n",
    "    '''Get the statistics, mean, and CI for a column'''\n",
    "    # Get statsitics for column\n",
    "    m = np.mean(column) # mean of sample\n",
    "    n = len(column) # sample size\n",
    "    s = np.std(column) # stdev of sample\n",
    "    sem = s / np.sqrt(n) # sample error\n",
    "    \n",
    "    # Get several bootstrap replicates for column\n",
    "    bs_replicates = bs_reps(column, np.mean, 10000)\n",
    "    \n",
    "    # Get confidence interval\n",
    "    bootstrap_ci = np.percentile(bs_replicates, [2.5, 97.5])\n",
    "    \n",
    "    return bs_replicates, bootstrap_ci\n",
    "\n",
    "def ptest(column1, column2, test_col):\n",
    "    '''Get p-value for bootstraps'''\n",
    "    reps1, ci1 = num_means(column1)\n",
    "    reps2, ci2 = num_means(column2)\n",
    "    \n",
    "    #pval_bs = np.sum((reps1 >= np.mean(test_col)) + (reps2 >= np.mean(test_col))) / (len(reps1) + len(reps2))\n",
    "    pval_bs1 = np.sum((reps1 >= np.mean(test_col))) / len(reps1)\n",
    "    pval_bs2 = np.sum((reps2 >= np.mean(test_col))) / len(reps2)\n",
    "    \n",
    "    # Print the test results and stats\n",
    "    print('Bootstrap p-value 1 = ', '%.4f' % pval_bs1)\n",
    "    print('Bootstrap p-value 2 = ', '%.4f' % pval_bs2)\n",
    "    print('Mean of observed data     = ', np.mean(test_col))\n",
    "    print('Bootstrap mean of column1 = ', np.mean(reps1))\n",
    "    print('Bootstrap mean of column2 = ', np.mean(reps2))\n",
    "    print('Bootstrap CI column1:\\t', ci1[0], ',', ci1[1])\n",
    "    print('Bootstrap CI column2:\\t', ci2[0], ',', ci2[1])\n",
    "\n",
    "# And for reference, the number of bins in non-age plots:\n",
    "bins_sqrt\n",
    "\n",
    "# Seed\n",
    "np.random.seed(42)"
   ]
  },
  {
   "cell_type": "code",
   "execution_count": 4,
   "metadata": {},
   "outputs": [
    {
     "data": {
      "text/html": [
       "<div>\n",
       "<style scoped>\n",
       "    .dataframe tbody tr th:only-of-type {\n",
       "        vertical-align: middle;\n",
       "    }\n",
       "\n",
       "    .dataframe tbody tr th {\n",
       "        vertical-align: top;\n",
       "    }\n",
       "\n",
       "    .dataframe thead th {\n",
       "        text-align: right;\n",
       "    }\n",
       "</style>\n",
       "<table border=\"1\" class=\"dataframe\">\n",
       "  <thead>\n",
       "    <tr style=\"text-align: right;\">\n",
       "      <th></th>\n",
       "      <th>download_date</th>\n",
       "      <th>identifier</th>\n",
       "      <th>latest_admission_date</th>\n",
       "      <th>race</th>\n",
       "      <th>gender</th>\n",
       "      <th>age</th>\n",
       "      <th>bond_amount</th>\n",
       "      <th>offense</th>\n",
       "      <th>facility</th>\n",
       "      <th>detainer</th>\n",
       "      <th>offense_class</th>\n",
       "      <th>days</th>\n",
       "      <th>counts</th>\n",
       "      <th>tens</th>\n",
       "    </tr>\n",
       "  </thead>\n",
       "  <tbody>\n",
       "    <tr>\n",
       "      <th>3</th>\n",
       "      <td>2016-10-11</td>\n",
       "      <td>ZZEBBBSZ</td>\n",
       "      <td>2016-10-07</td>\n",
       "      <td>BLACK</td>\n",
       "      <td>F</td>\n",
       "      <td>57</td>\n",
       "      <td>2500</td>\n",
       "      <td>THREATENING                           AM</td>\n",
       "      <td>YORK CI</td>\n",
       "      <td>NONE</td>\n",
       "      <td>AM</td>\n",
       "      <td>4</td>\n",
       "      <td>3</td>\n",
       "      <td>50</td>\n",
       "    </tr>\n",
       "    <tr>\n",
       "      <th>13</th>\n",
       "      <td>2016-07-13</td>\n",
       "      <td>ZZEBBEWZ</td>\n",
       "      <td>2016-06-17</td>\n",
       "      <td>WHITE</td>\n",
       "      <td>M</td>\n",
       "      <td>63</td>\n",
       "      <td>5000</td>\n",
       "      <td>ASSAULT, THIRD DEGREE                 AM</td>\n",
       "      <td>CORRIGAN CI</td>\n",
       "      <td>NONE</td>\n",
       "      <td>AM</td>\n",
       "      <td>26</td>\n",
       "      <td>13</td>\n",
       "      <td>60</td>\n",
       "    </tr>\n",
       "    <tr>\n",
       "      <th>14</th>\n",
       "      <td>2017-04-17</td>\n",
       "      <td>ZZEBBHER</td>\n",
       "      <td>2017-01-30</td>\n",
       "      <td>WHITE</td>\n",
       "      <td>M</td>\n",
       "      <td>50</td>\n",
       "      <td>19050</td>\n",
       "      <td>CRIMINAL TRESPASS, FIRST DEGREE       AM</td>\n",
       "      <td>HARTFORD CC</td>\n",
       "      <td>NONE</td>\n",
       "      <td>AM</td>\n",
       "      <td>77</td>\n",
       "      <td>77</td>\n",
       "      <td>50</td>\n",
       "    </tr>\n",
       "    <tr>\n",
       "      <th>15</th>\n",
       "      <td>2016-12-06</td>\n",
       "      <td>ZZEBBHER</td>\n",
       "      <td>2016-11-09</td>\n",
       "      <td>WHITE</td>\n",
       "      <td>M</td>\n",
       "      <td>50</td>\n",
       "      <td>500</td>\n",
       "      <td>CRIMINAL TRESPASS, FIRST DEGREE       AM</td>\n",
       "      <td>HARTFORD CC</td>\n",
       "      <td>NONE</td>\n",
       "      <td>AM</td>\n",
       "      <td>27</td>\n",
       "      <td>18</td>\n",
       "      <td>50</td>\n",
       "    </tr>\n",
       "    <tr>\n",
       "      <th>16</th>\n",
       "      <td>2017-01-05</td>\n",
       "      <td>ZZEBBHER</td>\n",
       "      <td>2016-12-15</td>\n",
       "      <td>WHITE</td>\n",
       "      <td>M</td>\n",
       "      <td>50</td>\n",
       "      <td>10250</td>\n",
       "      <td>CRIMINAL TRESPASS, FIRST DEGREE       AM</td>\n",
       "      <td>HARTFORD CC</td>\n",
       "      <td>NONE</td>\n",
       "      <td>AM</td>\n",
       "      <td>21</td>\n",
       "      <td>21</td>\n",
       "      <td>50</td>\n",
       "    </tr>\n",
       "  </tbody>\n",
       "</table>\n",
       "</div>"
      ],
      "text/plain": [
       "   download_date identifier latest_admission_date   race gender  age  \\\n",
       "3     2016-10-11   ZZEBBBSZ            2016-10-07  BLACK      F   57   \n",
       "13    2016-07-13   ZZEBBEWZ            2016-06-17  WHITE      M   63   \n",
       "14    2017-04-17   ZZEBBHER            2017-01-30  WHITE      M   50   \n",
       "15    2016-12-06   ZZEBBHER            2016-11-09  WHITE      M   50   \n",
       "16    2017-01-05   ZZEBBHER            2016-12-15  WHITE      M   50   \n",
       "\n",
       "    bond_amount                                   offense     facility  \\\n",
       "3          2500  THREATENING                           AM      YORK CI   \n",
       "13         5000  ASSAULT, THIRD DEGREE                 AM  CORRIGAN CI   \n",
       "14        19050  CRIMINAL TRESPASS, FIRST DEGREE       AM  HARTFORD CC   \n",
       "15          500  CRIMINAL TRESPASS, FIRST DEGREE       AM  HARTFORD CC   \n",
       "16        10250  CRIMINAL TRESPASS, FIRST DEGREE       AM  HARTFORD CC   \n",
       "\n",
       "   detainer offense_class  days  counts  tens  \n",
       "3      NONE            AM     4       3    50  \n",
       "13     NONE            AM    26      13    60  \n",
       "14     NONE            AM    77      77    50  \n",
       "15     NONE            AM    27      18    50  \n",
       "16     NONE            AM    21      21    50  "
      ]
     },
     "execution_count": 4,
     "metadata": {},
     "output_type": "execute_result"
    }
   ],
   "source": [
    "mis_pre_df.head()"
   ]
  },
  {
   "cell_type": "code",
   "execution_count": 5,
   "metadata": {},
   "outputs": [
    {
     "data": {
      "text/html": [
       "<div>\n",
       "<style scoped>\n",
       "    .dataframe tbody tr th:only-of-type {\n",
       "        vertical-align: middle;\n",
       "    }\n",
       "\n",
       "    .dataframe tbody tr th {\n",
       "        vertical-align: top;\n",
       "    }\n",
       "\n",
       "    .dataframe thead th {\n",
       "        text-align: right;\n",
       "    }\n",
       "</style>\n",
       "<table border=\"1\" class=\"dataframe\">\n",
       "  <thead>\n",
       "    <tr style=\"text-align: right;\">\n",
       "      <th></th>\n",
       "      <th>download_date</th>\n",
       "      <th>identifier</th>\n",
       "      <th>latest_admission_date</th>\n",
       "      <th>race</th>\n",
       "      <th>gender</th>\n",
       "      <th>age</th>\n",
       "      <th>bond_amount</th>\n",
       "      <th>offense</th>\n",
       "      <th>facility</th>\n",
       "      <th>detainer</th>\n",
       "      <th>offense_class</th>\n",
       "      <th>days</th>\n",
       "      <th>counts</th>\n",
       "      <th>tens</th>\n",
       "    </tr>\n",
       "  </thead>\n",
       "  <tbody>\n",
       "    <tr>\n",
       "      <th>2</th>\n",
       "      <td>2017-07-13</td>\n",
       "      <td>ZZEBBBJW</td>\n",
       "      <td>2017-07-06</td>\n",
       "      <td>WHITE</td>\n",
       "      <td>M</td>\n",
       "      <td>44</td>\n",
       "      <td>100000</td>\n",
       "      <td>CRIM VIOL OF PROTECTIVE ORDER         AM</td>\n",
       "      <td>HARTFORD CC</td>\n",
       "      <td>NONE</td>\n",
       "      <td>AM</td>\n",
       "      <td>7</td>\n",
       "      <td>7</td>\n",
       "      <td>40</td>\n",
       "    </tr>\n",
       "    <tr>\n",
       "      <th>4</th>\n",
       "      <td>2017-09-13</td>\n",
       "      <td>ZZEBBBZJ</td>\n",
       "      <td>2017-09-12</td>\n",
       "      <td>BLACK</td>\n",
       "      <td>M</td>\n",
       "      <td>43</td>\n",
       "      <td>20000</td>\n",
       "      <td>THREATENING                           AM</td>\n",
       "      <td>BRIDGEPORT CC</td>\n",
       "      <td>NONE</td>\n",
       "      <td>AM</td>\n",
       "      <td>1</td>\n",
       "      <td>1</td>\n",
       "      <td>40</td>\n",
       "    </tr>\n",
       "    <tr>\n",
       "      <th>5</th>\n",
       "      <td>2018-05-09</td>\n",
       "      <td>ZZEBBBZJ</td>\n",
       "      <td>2018-04-24</td>\n",
       "      <td>BLACK</td>\n",
       "      <td>M</td>\n",
       "      <td>44</td>\n",
       "      <td>150000</td>\n",
       "      <td>THREATENING                           AM</td>\n",
       "      <td>BRIDGEPORT CC</td>\n",
       "      <td>NONE</td>\n",
       "      <td>AM</td>\n",
       "      <td>15</td>\n",
       "      <td>15</td>\n",
       "      <td>40</td>\n",
       "    </tr>\n",
       "    <tr>\n",
       "      <th>8</th>\n",
       "      <td>2018-01-02</td>\n",
       "      <td>ZZEBBCRZ</td>\n",
       "      <td>2017-12-29</td>\n",
       "      <td>WHITE</td>\n",
       "      <td>M</td>\n",
       "      <td>47</td>\n",
       "      <td>2500</td>\n",
       "      <td>ASSAULT, THIRD DEGREE                 AM</td>\n",
       "      <td>NEW HAVEN CC</td>\n",
       "      <td>NONE</td>\n",
       "      <td>AM</td>\n",
       "      <td>4</td>\n",
       "      <td>4</td>\n",
       "      <td>40</td>\n",
       "    </tr>\n",
       "    <tr>\n",
       "      <th>9</th>\n",
       "      <td>2018-03-22</td>\n",
       "      <td>ZZEBBCRZ</td>\n",
       "      <td>2018-03-21</td>\n",
       "      <td>HISPANIC</td>\n",
       "      <td>M</td>\n",
       "      <td>47</td>\n",
       "      <td>2500</td>\n",
       "      <td>CRIM VIOL OF PROTECTIVE ORDER         AM</td>\n",
       "      <td>NEW HAVEN CC</td>\n",
       "      <td>NONE</td>\n",
       "      <td>AM</td>\n",
       "      <td>1</td>\n",
       "      <td>1</td>\n",
       "      <td>40</td>\n",
       "    </tr>\n",
       "  </tbody>\n",
       "</table>\n",
       "</div>"
      ],
      "text/plain": [
       "  download_date identifier latest_admission_date      race gender  age  \\\n",
       "2    2017-07-13   ZZEBBBJW            2017-07-06     WHITE      M   44   \n",
       "4    2017-09-13   ZZEBBBZJ            2017-09-12     BLACK      M   43   \n",
       "5    2018-05-09   ZZEBBBZJ            2018-04-24     BLACK      M   44   \n",
       "8    2018-01-02   ZZEBBCRZ            2017-12-29     WHITE      M   47   \n",
       "9    2018-03-22   ZZEBBCRZ            2018-03-21  HISPANIC      M   47   \n",
       "\n",
       "   bond_amount                                   offense       facility  \\\n",
       "2       100000  CRIM VIOL OF PROTECTIVE ORDER         AM    HARTFORD CC   \n",
       "4        20000  THREATENING                           AM  BRIDGEPORT CC   \n",
       "5       150000  THREATENING                           AM  BRIDGEPORT CC   \n",
       "8         2500  ASSAULT, THIRD DEGREE                 AM   NEW HAVEN CC   \n",
       "9         2500  CRIM VIOL OF PROTECTIVE ORDER         AM   NEW HAVEN CC   \n",
       "\n",
       "  detainer offense_class  days  counts  tens  \n",
       "2     NONE            AM     7       7    40  \n",
       "4     NONE            AM     1       1    40  \n",
       "5     NONE            AM    15      15    40  \n",
       "8     NONE            AM     4       4    40  \n",
       "9     NONE            AM     1       1    40  "
      ]
     },
     "execution_count": 5,
     "metadata": {},
     "output_type": "execute_result"
    }
   ],
   "source": [
    "mis_post_df.head()"
   ]
  },
  {
   "cell_type": "code",
   "execution_count": 6,
   "metadata": {},
   "outputs": [
    {
     "data": {
      "text/html": [
       "<div>\n",
       "<style scoped>\n",
       "    .dataframe tbody tr th:only-of-type {\n",
       "        vertical-align: middle;\n",
       "    }\n",
       "\n",
       "    .dataframe tbody tr th {\n",
       "        vertical-align: top;\n",
       "    }\n",
       "\n",
       "    .dataframe thead th {\n",
       "        text-align: right;\n",
       "    }\n",
       "</style>\n",
       "<table border=\"1\" class=\"dataframe\">\n",
       "  <thead>\n",
       "    <tr style=\"text-align: right;\">\n",
       "      <th></th>\n",
       "      <th>download_date</th>\n",
       "      <th>identifier</th>\n",
       "      <th>latest_admission_date</th>\n",
       "      <th>race</th>\n",
       "      <th>gender</th>\n",
       "      <th>age</th>\n",
       "      <th>bond_amount</th>\n",
       "      <th>offense</th>\n",
       "      <th>facility</th>\n",
       "      <th>detainer</th>\n",
       "      <th>offense_class</th>\n",
       "      <th>days</th>\n",
       "      <th>counts</th>\n",
       "      <th>tens</th>\n",
       "    </tr>\n",
       "  </thead>\n",
       "  <tbody>\n",
       "    <tr>\n",
       "      <th>7</th>\n",
       "      <td>2018-11-11</td>\n",
       "      <td>ZZEBBCRW</td>\n",
       "      <td>2018-10-10</td>\n",
       "      <td>WHITE</td>\n",
       "      <td>M</td>\n",
       "      <td>55</td>\n",
       "      <td>20000</td>\n",
       "      <td>CRIMINAL TRESPASS, FIRST DEGREE       AM</td>\n",
       "      <td>BRIDGEPORT CC</td>\n",
       "      <td>NONE</td>\n",
       "      <td>AM</td>\n",
       "      <td>32</td>\n",
       "      <td>32</td>\n",
       "      <td>50</td>\n",
       "    </tr>\n",
       "    <tr>\n",
       "      <th>11</th>\n",
       "      <td>2018-07-23</td>\n",
       "      <td>ZZEBBEBS</td>\n",
       "      <td>2018-07-09</td>\n",
       "      <td>HISPANIC</td>\n",
       "      <td>M</td>\n",
       "      <td>46</td>\n",
       "      <td>5000</td>\n",
       "      <td>FAILURE TO APPEAR, SECOND DEGREE      AM</td>\n",
       "      <td>HARTFORD CC</td>\n",
       "      <td>NONE</td>\n",
       "      <td>AM</td>\n",
       "      <td>14</td>\n",
       "      <td>14</td>\n",
       "      <td>40</td>\n",
       "    </tr>\n",
       "    <tr>\n",
       "      <th>27</th>\n",
       "      <td>2018-09-24</td>\n",
       "      <td>ZZEBBSBS</td>\n",
       "      <td>2018-08-15</td>\n",
       "      <td>BLACK</td>\n",
       "      <td>M</td>\n",
       "      <td>56</td>\n",
       "      <td>2100</td>\n",
       "      <td>DISORDERLY CONDUCT                    CM</td>\n",
       "      <td>HARTFORD CC</td>\n",
       "      <td>NONE</td>\n",
       "      <td>CM</td>\n",
       "      <td>40</td>\n",
       "      <td>40</td>\n",
       "      <td>50</td>\n",
       "    </tr>\n",
       "    <tr>\n",
       "      <th>28</th>\n",
       "      <td>2018-11-11</td>\n",
       "      <td>ZZEBBSLH</td>\n",
       "      <td>2018-05-14</td>\n",
       "      <td>WHITE</td>\n",
       "      <td>M</td>\n",
       "      <td>56</td>\n",
       "      <td>41000</td>\n",
       "      <td>ILL OP MV WO IGNITION DEVICE          CM</td>\n",
       "      <td>CORRIGAN CI</td>\n",
       "      <td>NONE</td>\n",
       "      <td>CM</td>\n",
       "      <td>181</td>\n",
       "      <td>179</td>\n",
       "      <td>50</td>\n",
       "    </tr>\n",
       "    <tr>\n",
       "      <th>35</th>\n",
       "      <td>2018-08-16</td>\n",
       "      <td>ZZEBCBSZ</td>\n",
       "      <td>2018-07-18</td>\n",
       "      <td>HISPANIC</td>\n",
       "      <td>M</td>\n",
       "      <td>53</td>\n",
       "      <td>20000</td>\n",
       "      <td>CRIMINAL TRESPASS, FIRST DEGREE       AM</td>\n",
       "      <td>BRIDGEPORT CC</td>\n",
       "      <td>NONE</td>\n",
       "      <td>AM</td>\n",
       "      <td>29</td>\n",
       "      <td>29</td>\n",
       "      <td>50</td>\n",
       "    </tr>\n",
       "  </tbody>\n",
       "</table>\n",
       "</div>"
      ],
      "text/plain": [
       "   download_date identifier latest_admission_date      race gender  age  \\\n",
       "7     2018-11-11   ZZEBBCRW            2018-10-10     WHITE      M   55   \n",
       "11    2018-07-23   ZZEBBEBS            2018-07-09  HISPANIC      M   46   \n",
       "27    2018-09-24   ZZEBBSBS            2018-08-15     BLACK      M   56   \n",
       "28    2018-11-11   ZZEBBSLH            2018-05-14     WHITE      M   56   \n",
       "35    2018-08-16   ZZEBCBSZ            2018-07-18  HISPANIC      M   53   \n",
       "\n",
       "    bond_amount                                   offense       facility  \\\n",
       "7         20000  CRIMINAL TRESPASS, FIRST DEGREE       AM  BRIDGEPORT CC   \n",
       "11         5000  FAILURE TO APPEAR, SECOND DEGREE      AM    HARTFORD CC   \n",
       "27         2100  DISORDERLY CONDUCT                    CM    HARTFORD CC   \n",
       "28        41000  ILL OP MV WO IGNITION DEVICE          CM    CORRIGAN CI   \n",
       "35        20000  CRIMINAL TRESPASS, FIRST DEGREE       AM  BRIDGEPORT CC   \n",
       "\n",
       "   detainer offense_class  days  counts  tens  \n",
       "7      NONE            AM    32      32    50  \n",
       "11     NONE            AM    14      14    40  \n",
       "27     NONE            CM    40      40    50  \n",
       "28     NONE            CM   181     179    50  \n",
       "35     NONE            AM    29      29    50  "
      ]
     },
     "execution_count": 6,
     "metadata": {},
     "output_type": "execute_result"
    }
   ],
   "source": [
    "mis_outofbounds_df.head()"
   ]
  },
  {
   "cell_type": "code",
   "execution_count": 7,
   "metadata": {},
   "outputs": [
    {
     "data": {
      "text/plain": [
       "((3889, 14), (3821, 14), (1954, 14))"
      ]
     },
     "execution_count": 7,
     "metadata": {},
     "output_type": "execute_result"
    }
   ],
   "source": [
    "mis_pre_df.shape, mis_post_df.shape, mis_outofbounds_df.shape"
   ]
  },
  {
   "cell_type": "code",
   "execution_count": 8,
   "metadata": {},
   "outputs": [
    {
     "data": {
      "text/plain": [
       "(9664, 14)"
      ]
     },
     "execution_count": 8,
     "metadata": {},
     "output_type": "execute_result"
    }
   ],
   "source": [
    "misdemeanor_df.shape"
   ]
  },
  {
   "cell_type": "code",
   "execution_count": 9,
   "metadata": {},
   "outputs": [
    {
     "data": {
      "text/html": [
       "<div>\n",
       "<style scoped>\n",
       "    .dataframe tbody tr th:only-of-type {\n",
       "        vertical-align: middle;\n",
       "    }\n",
       "\n",
       "    .dataframe tbody tr th {\n",
       "        vertical-align: top;\n",
       "    }\n",
       "\n",
       "    .dataframe thead th {\n",
       "        text-align: right;\n",
       "    }\n",
       "</style>\n",
       "<table border=\"1\" class=\"dataframe\">\n",
       "  <thead>\n",
       "    <tr style=\"text-align: right;\">\n",
       "      <th></th>\n",
       "      <th>age</th>\n",
       "      <th>bond_amount</th>\n",
       "      <th>days</th>\n",
       "      <th>counts</th>\n",
       "      <th>tens</th>\n",
       "    </tr>\n",
       "  </thead>\n",
       "  <tbody>\n",
       "    <tr>\n",
       "      <th>count</th>\n",
       "      <td>3889.000000</td>\n",
       "      <td>3.889000e+03</td>\n",
       "      <td>3889.000000</td>\n",
       "      <td>3889.000000</td>\n",
       "      <td>3889.000000</td>\n",
       "    </tr>\n",
       "    <tr>\n",
       "      <th>mean</th>\n",
       "      <td>36.168167</td>\n",
       "      <td>2.147843e+04</td>\n",
       "      <td>59.048084</td>\n",
       "      <td>27.860375</td>\n",
       "      <td>31.766521</td>\n",
       "    </tr>\n",
       "    <tr>\n",
       "      <th>std</th>\n",
       "      <td>11.362481</td>\n",
       "      <td>4.521767e+04</td>\n",
       "      <td>154.314135</td>\n",
       "      <td>35.266749</td>\n",
       "      <td>11.588850</td>\n",
       "    </tr>\n",
       "    <tr>\n",
       "      <th>min</th>\n",
       "      <td>18.000000</td>\n",
       "      <td>1.000000e+00</td>\n",
       "      <td>1.000000</td>\n",
       "      <td>1.000000</td>\n",
       "      <td>10.000000</td>\n",
       "    </tr>\n",
       "    <tr>\n",
       "      <th>25%</th>\n",
       "      <td>27.000000</td>\n",
       "      <td>2.500000e+03</td>\n",
       "      <td>4.000000</td>\n",
       "      <td>3.000000</td>\n",
       "      <td>20.000000</td>\n",
       "    </tr>\n",
       "    <tr>\n",
       "      <th>50%</th>\n",
       "      <td>34.000000</td>\n",
       "      <td>7.500000e+03</td>\n",
       "      <td>22.000000</td>\n",
       "      <td>16.000000</td>\n",
       "      <td>30.000000</td>\n",
       "    </tr>\n",
       "    <tr>\n",
       "      <th>75%</th>\n",
       "      <td>45.000000</td>\n",
       "      <td>2.500000e+04</td>\n",
       "      <td>54.000000</td>\n",
       "      <td>38.000000</td>\n",
       "      <td>40.000000</td>\n",
       "    </tr>\n",
       "    <tr>\n",
       "      <th>max</th>\n",
       "      <td>75.000000</td>\n",
       "      <td>1.025000e+06</td>\n",
       "      <td>1095.000000</td>\n",
       "      <td>287.000000</td>\n",
       "      <td>70.000000</td>\n",
       "    </tr>\n",
       "  </tbody>\n",
       "</table>\n",
       "</div>"
      ],
      "text/plain": [
       "               age   bond_amount         days       counts         tens\n",
       "count  3889.000000  3.889000e+03  3889.000000  3889.000000  3889.000000\n",
       "mean     36.168167  2.147843e+04    59.048084    27.860375    31.766521\n",
       "std      11.362481  4.521767e+04   154.314135    35.266749    11.588850\n",
       "min      18.000000  1.000000e+00     1.000000     1.000000    10.000000\n",
       "25%      27.000000  2.500000e+03     4.000000     3.000000    20.000000\n",
       "50%      34.000000  7.500000e+03    22.000000    16.000000    30.000000\n",
       "75%      45.000000  2.500000e+04    54.000000    38.000000    40.000000\n",
       "max      75.000000  1.025000e+06  1095.000000   287.000000    70.000000"
      ]
     },
     "execution_count": 9,
     "metadata": {},
     "output_type": "execute_result"
    }
   ],
   "source": [
    "mis_pre_df.describe()"
   ]
  },
  {
   "cell_type": "markdown",
   "metadata": {},
   "source": [
    "Okay, now that everything is set up, I'm going to start looking for the variables of interest: gender, race, age, offense_class, days, and bond_amount.  Are any of these numeric variables normal?"
   ]
  },
  {
   "cell_type": "code",
   "execution_count": 10,
   "metadata": {},
   "outputs": [
    {
     "name": "stdout",
     "output_type": "stream",
     "text": [
      "Normal distribution IS NOT a good fit for age.  (p-value =  2.557558769554361e-57 )\n",
      "Normal distribution IS NOT a good fit for days.  (p-value =  0.0 )\n",
      "Normal distribution IS NOT a good fit for bond.  (p-value =  0.0 )\n"
     ]
    }
   ],
   "source": [
    "chisq, pval = stats.normaltest(mis_pre_df.age)\n",
    "if pval < .05:\n",
    "    print('Normal distribution IS NOT a good fit for age.  (p-value = ', pval, ')')\n",
    "else:\n",
    "    print('Normal distribution IS a good fit for age.  (p-value = ', pval, ')')\n",
    "    \n",
    "chisq, pval = stats.normaltest(mis_pre_df.days)\n",
    "if pval < .05:\n",
    "    print('Normal distribution IS NOT a good fit for days.  (p-value = ', pval, ')')\n",
    "else:\n",
    "    print('Normal distribution IS a good fit for days.  (p-value = ', pval, ')')\n",
    "    \n",
    "chisq, pval = stats.normaltest(mis_pre_df.bond_amount)\n",
    "if pval < .05:\n",
    "    print('Normal distribution IS NOT a good fit for bond.  (p-value = ', pval, ')')\n",
    "else:\n",
    "    print('Normal distribution IS a good fit for bond.  (p-value = ', pval, ')')"
   ]
  },
  {
   "cell_type": "markdown",
   "metadata": {},
   "source": [
    "##### First set of tests: gender\n",
    "\n",
    "Below we'll look at the bond and days means and see who is expected to stay longer and pay more.\n",
    "\n",
    "For both variables:\n",
    "H0: male == female\n",
    "Ha: male != female \n",
    "alpha = .05\n",
    "\n",
    "Fascinatingly, the p-values for both means are about .49, a value high enough that we fail to reject H0 for both tests.  The bond amount and days detained for both genders can be considered statistically equal."
   ]
  },
  {
   "cell_type": "code",
   "execution_count": 11,
   "metadata": {},
   "outputs": [],
   "source": [
    "# Determine the populations\n",
    "female = mis_pre_df[['bond_amount', 'days']].loc[mis_pre_df.gender == 'F']\n",
    "male = mis_pre_df[['bond_amount', 'days']].loc[mis_pre_df.gender == 'M']"
   ]
  },
  {
   "cell_type": "code",
   "execution_count": 12,
   "metadata": {},
   "outputs": [
    {
     "name": "stdout",
     "output_type": "stream",
     "text": [
      "Bootstrap p-value 1 =  0.0000\n",
      "Bootstrap p-value 2 =  0.9759\n",
      "Mean of observed data     =  21478.429673437902\n",
      "Bootstrap mean of column1 =  13762.90676607143\n",
      "Bootstrap mean of column2 =  23092.35926677028\n",
      "Bootstrap CI column1:\t 11656.23947172619 , 16276.998474702381\n",
      "Bootstrap CI column2:\t 21500.68378924464 , 24784.367819396954\n"
     ]
    }
   ],
   "source": [
    "# Test female vs. male for bond amounts\n",
    "ptest(female.bond_amount, male.bond_amount, mis_pre_df.bond_amount)"
   ]
  },
  {
   "cell_type": "code",
   "execution_count": 13,
   "metadata": {},
   "outputs": [
    {
     "name": "stdout",
     "output_type": "stream",
     "text": [
      "Bootstrap p-value 1 =  0.0000\n",
      "Bootstrap p-value 2 =  0.9733\n",
      "Mean of observed data     =  59.04808434044742\n",
      "Bootstrap mean of column1 =  32.78871324404762\n",
      "Bootstrap mean of column2 =  64.50434311470313\n",
      "Bootstrap CI column1:\t 27.065438988095238 , 39.52529761904762\n",
      "Bootstrap CI column2:\t 58.96423686664594 , 70.2545927883121\n"
     ]
    }
   ],
   "source": [
    "# Test female vs. male for days detained\n",
    "ptest(female.days, male.days, mis_pre_df.days)"
   ]
  },
  {
   "cell_type": "markdown",
   "metadata": {},
   "source": [
    "##### Second set of tests: race\n",
    "\n",
    "Below we'll again look at the bond and days means and see who is expected to stay longer and pay more.\n",
    "\n",
    "For both variables: \n",
    "* H0: white == black / minority \n",
    "* Ha: white != black / minority\n",
    "* alpha = .05\n",
    "\n",
    "Interestingly, we refuse to reject the null hypothesis for all of the bond amounts.  For the days detained, however, we would reject the null for Asians and Native Americans.  This sample is too small to come to this conclusion.  (52 Asians+Native Americans out of 3889 detainees, or 1.3% of the sample)"
   ]
  },
  {
   "cell_type": "code",
   "execution_count": 14,
   "metadata": {},
   "outputs": [],
   "source": [
    "# Determine the populations\n",
    "race_df = mis_pre_df[['bond_amount', 'days', 'race']].copy()\n",
    "race_df['r'] = mis_pre_df[['race']].copy()\n",
    "race_df = pd.get_dummies(race_df, columns=['r'])\n",
    "white = mis_pre_df[['bond_amount', 'days']].loc[mis_pre_df.race == 'WHITE']\n",
    "minority = mis_pre_df[['bond_amount', 'days']].loc[mis_pre_df.race != 'WHITE']\n",
    "black = mis_pre_df[['bond_amount', 'days']].loc[mis_pre_df.race == 'BLACK']\n",
    "hispanic = mis_pre_df[['bond_amount', 'days']].loc[mis_pre_df.race == 'HISPANIC']\n",
    "asian = mis_pre_df[['bond_amount', 'days']].loc[mis_pre_df.race == 'ASIAN']\n",
    "amer_ind = mis_pre_df[['bond_amount', 'days']].loc[mis_pre_df.race == 'AMER IND']"
   ]
  },
  {
   "cell_type": "code",
   "execution_count": 15,
   "metadata": {},
   "outputs": [
    {
     "name": "stdout",
     "output_type": "stream",
     "text": [
      "Bootstrap p-value 1 =  0.0004\n",
      "Bootstrap p-value 2 =  0.9857\n",
      "Mean of observed data     =  21478.429673437902\n",
      "Bootstrap mean of column1 =  18374.43814360856\n",
      "Bootstrap mean of column2 =  23727.593361180123\n",
      "Bootstrap CI column1:\t 16874.362048929663 , 19995.959678899082\n",
      "Bootstrap CI column2:\t 21669.06462954747 , 25996.33307453416\n"
     ]
    }
   ],
   "source": [
    "# Test white vs. non-white for bond amount\n",
    "ptest(white.bond_amount, minority.bond_amount, mis_pre_df.bond_amount)"
   ]
  },
  {
   "cell_type": "code",
   "execution_count": 16,
   "metadata": {
    "scrolled": false
   },
   "outputs": [
    {
     "name": "stdout",
     "output_type": "stream",
     "text": [
      "Bootstrap p-value 1 =  0.0003\n",
      "Bootstrap p-value 2 =  0.8363\n",
      "Mean of observed data     =  21478.429673437902\n",
      "Bootstrap mean of column1 =  18377.590293272173\n",
      "Bootstrap mean of column2 =  22832.748686588235\n",
      "Bootstrap CI column1:\t 16816.43778287462 , 20030.59110091743\n",
      "Bootstrap CI column2:\t 20285.76745098039 , 25627.996117647057\n"
     ]
    }
   ],
   "source": [
    "# Test white vs. black for bond amount\n",
    "ptest(white.bond_amount, black.bond_amount, mis_pre_df.bond_amount)"
   ]
  },
  {
   "cell_type": "code",
   "execution_count": 17,
   "metadata": {},
   "outputs": [
    {
     "name": "stdout",
     "output_type": "stream",
     "text": [
      "Bootstrap p-value 1 =  0.0001\n",
      "Bootstrap p-value 2 =  0.9894\n",
      "Mean of observed data     =  21478.429673437902\n",
      "Bootstrap mean of column1 =  18355.375782018345\n",
      "Bootstrap mean of column2 =  25370.432859115426\n",
      "Bootstrap CI column1:\t 16810.526911314984 , 19978.124250764522\n",
      "Bootstrap CI column2:\t 21967.047491909383 , 29277.281499460627\n"
     ]
    }
   ],
   "source": [
    "# Test white vs. hispanic for bond amount\n",
    "ptest(white.bond_amount, hispanic.bond_amount, mis_pre_df.bond_amount)"
   ]
  },
  {
   "cell_type": "code",
   "execution_count": 18,
   "metadata": {},
   "outputs": [
    {
     "name": "stdout",
     "output_type": "stream",
     "text": [
      "Bootstrap p-value 1 =  0.0001\n",
      "Bootstrap p-value 2 =  0.1651\n",
      "Mean of observed data     =  21478.429673437902\n",
      "Bootstrap mean of column1 =  18373.99280281346\n",
      "Bootstrap mean of column2 =  15800.018457142856\n",
      "Bootstrap CI column1:\t 16777.859801223243 , 20002.29510703364\n",
      "Bootstrap CI column2:\t 6994.304285714286 , 28957.449285714283\n"
     ]
    }
   ],
   "source": [
    "# Test white vs. Asian for bond amount\n",
    "ptest(white.bond_amount, asian.bond_amount, mis_pre_df.bond_amount)"
   ]
  },
  {
   "cell_type": "code",
   "execution_count": null,
   "metadata": {},
   "outputs": [
    {
     "name": "stdout",
     "output_type": "stream",
     "text": [
      "Bootstrap p-value 1 =  0.0000\n",
      "Bootstrap p-value 2 =  0.2926\n",
      "Mean of observed data     =  21478.429673437902\n",
      "Bootstrap mean of column1 =  18375.66690434251\n",
      "Bootstrap mean of column2 =  18882.131470588236\n",
      "Bootstrap CI column1:\t 16848.421269113154 , 20007.73085626911\n",
      "Bootstrap CI column2:\t 9852.573529411764 , 29338.308823529413\n"
     ]
    }
   ],
   "source": [
    "# Test white vs. Native American for bond amount\n",
    "ptest(white.bond_amount, amer_ind.bond_amount, mis_pre_df.bond_amount)"
   ]
  },
  {
   "cell_type": "code",
   "execution_count": null,
   "metadata": {},
   "outputs": [
    {
     "name": "stdout",
     "output_type": "stream",
     "text": [
      "Bootstrap p-value 1 =  0.0094\n",
      "Bootstrap p-value 2 =  0.9414\n",
      "Mean of observed data     =  59.04808434044742\n",
      "Bootstrap mean of column1 =  51.33946042813455\n",
      "Bootstrap mean of column2 =  64.62605550133095\n",
      "Bootstrap CI column1:\t 45.38275229357798 , 57.77081039755351\n",
      "Bootstrap CI column2:\t 57.66500665483585 , 71.88664596273291\n"
     ]
    }
   ],
   "source": [
    "# Test white vs. non-white for days detained\n",
    "ptest(white.days, minority.days, mis_pre_df.days)"
   ]
  },
  {
   "cell_type": "code",
   "execution_count": null,
   "metadata": {},
   "outputs": [
    {
     "name": "stdout",
     "output_type": "stream",
     "text": [
      "Bootstrap p-value 1 =  0.0112\n",
      "Bootstrap p-value 2 =  0.9882\n",
      "Mean of observed data     =  59.04808434044742\n",
      "Bootstrap mean of column1 =  51.384512048929665\n",
      "Bootstrap mean of column2 =  70.30228690196078\n",
      "Bootstrap CI column1:\t 45.40266055045871 , 57.79093272171254\n",
      "Bootstrap CI column2:\t 60.5293137254902 , 80.98123529411765\n"
     ]
    }
   ],
   "source": [
    "# Test white vs. black for days detained\n",
    "ptest(white.days, black.days, mis_pre_df.days)"
   ]
  },
  {
   "cell_type": "code",
   "execution_count": null,
   "metadata": {},
   "outputs": [
    {
     "name": "stdout",
     "output_type": "stream",
     "text": [
      "Bootstrap p-value 1 =  0.0104\n",
      "Bootstrap p-value 2 =  0.4176\n",
      "Mean of observed data     =  59.04808434044742\n",
      "Bootstrap mean of column1 =  51.349767461773695\n",
      "Bootstrap mean of column2 =  58.1319405609493\n",
      "Bootstrap CI column1:\t 45.33923547400612 , 57.76964831804281\n",
      "Bootstrap CI column2:\t 48.854314994606256 , 68.51504854368932\n"
     ]
    }
   ],
   "source": [
    "# Test white vs. hispanic for days detained\n",
    "ptest(white.days, hispanic.days, mis_pre_df.days)"
   ]
  },
  {
   "cell_type": "code",
   "execution_count": null,
   "metadata": {},
   "outputs": [
    {
     "name": "stdout",
     "output_type": "stream",
     "text": [
      "Bootstrap p-value 1 =  0.0089\n",
      "Bootstrap p-value 2 =  0.0490\n",
      "Mean of observed data     =  59.04808434044742\n",
      "Bootstrap mean of column1 =  51.340873027522946\n",
      "Bootstrap mean of column2 =  42.12347428571428\n",
      "Bootstrap CI column1:\t 45.36755351681957 , 57.719877675840976\n",
      "Bootstrap CI column2:\t 25.513571428571428 , 62.200714285714284\n"
     ]
    }
   ],
   "source": [
    "# Test white vs. Asian for days detained\n",
    "ptest(white.days, asian.days, mis_pre_df.days)"
   ]
  },
  {
   "cell_type": "code",
   "execution_count": null,
   "metadata": {
    "scrolled": true
   },
   "outputs": [
    {
     "name": "stdout",
     "output_type": "stream",
     "text": [
      "Bootstrap p-value 1 =  0.0125\n",
      "Bootstrap p-value 2 =  0.0297\n",
      "Mean of observed data     =  59.04808434044742\n",
      "Bootstrap mean of column1 =  51.355428746177374\n",
      "Bootstrap mean of column2 =  41.36328235294118\n",
      "Bootstrap CI column1:\t 45.42076452599388 , 57.90492354740061\n",
      "Bootstrap CI column2:\t 24.0 , 59.76617647058821\n"
     ]
    }
   ],
   "source": [
    "# Test white vs. Native American for days detained\n",
    "ptest(white.days, amer_ind.days, mis_pre_df.days)"
   ]
  },
  {
   "cell_type": "markdown",
   "metadata": {},
   "source": [
    "##### Third set of tests: offense class\n",
    "\n",
    "Below we'll again look at the bond and days means and see if the class of offense affects bond amount or days detained.\n",
    "\n",
    "For both variables: \n"
   ]
  },
  {
   "cell_type": "code",
   "execution_count": null,
   "metadata": {},
   "outputs": [],
   "source": [
    "offense_df = mis_pre_df[['bond_amount', 'days', 'offense_class']].copy()\n",
    "offense_df['class'] = mis_pre_df[['offense_class']].copy()\n",
    "offense_df = pd.get_dummies(offense_df, columns=['class'])\n",
    "offense_am = mis_pre_df[['bond_amount', 'days']].loc[mis_pre_df.offense_class == 'AM']\n",
    "offense_bm = mis_pre_df[['bond_amount', 'days']].loc[mis_pre_df.offense_class == 'BM']\n",
    "offense_cm = mis_pre_df[['bond_amount', 'days']].loc[mis_pre_df.offense_class == 'CM']\n",
    "offense_dm = mis_pre_df[['bond_amount', 'days']].loc[mis_pre_df.offense_class == 'DM']\n",
    "offense_um = mis_pre_df[['bond_amount', 'days']].loc[mis_pre_df.offense_class == 'UM']\n",
    "offense_m  = mis_pre_df[['bond_amount', 'days']].loc[mis_pre_df.offense_class == ' M']"
   ]
  },
  {
   "cell_type": "code",
   "execution_count": null,
   "metadata": {},
   "outputs": [
    {
     "name": "stdout",
     "output_type": "stream",
     "text": [
      "Bootstrap p-value 1 =  0.9954\n",
      "Bootstrap p-value 2 =  0.0000\n",
      "Mean of observed data     =  21478.429673437902\n",
      "Bootstrap mean of column1 =  23627.843946058092\n",
      "Bootstrap mean of column2 =  15250.521114944833\n",
      "Bootstrap CI column1:\t 21994.73470781466 , 25443.472069502077\n",
      "Bootstrap CI column2:\t 13079.659227683049 , 17727.80173019057\n"
     ]
    }
   ],
   "source": [
    "# Test A-class vs. all others for bond amount\n",
    "ptest(offense_am.bond_amount, mis_pre_df.bond_amount.loc[mis_pre_df.offense_class != 'AM'], mis_pre_df.bond_amount)"
   ]
  },
  {
   "cell_type": "code",
   "execution_count": null,
   "metadata": {},
   "outputs": [
    {
     "name": "stdout",
     "output_type": "stream",
     "text": [
      "Bootstrap p-value 1 =  0.0033\n",
      "Bootstrap p-value 2 =  0.7130\n",
      "Mean of observed data     =  21478.429673437902\n",
      "Bootstrap mean of column1 =  16466.496372347265\n",
      "Bootstrap mean of column2 =  21925.3974883175\n",
      "Bootstrap CI column1:\t 13498.385852090032 , 19883.43528938907\n",
      "Bootstrap CI column2:\t 20461.06203884852 , 23502.706309390724\n"
     ]
    }
   ],
   "source": [
    "# Test B-class vs. all others for bond amount\n",
    "ptest(offense_bm.bond_amount, mis_pre_df.bond_amount.loc[mis_pre_df.offense_class != 'BM'], mis_pre_df.bond_amount)"
   ]
  },
  {
   "cell_type": "code",
   "execution_count": null,
   "metadata": {},
   "outputs": [
    {
     "name": "stdout",
     "output_type": "stream",
     "text": [
      "Bootstrap p-value 1 =  0.0000\n",
      "Bootstrap p-value 2 =  0.9263\n",
      "Mean of observed data     =  21478.429673437902\n",
      "Bootstrap mean of column1 =  13098.804236263735\n",
      "Bootstrap mean of column2 =  22587.263966191033\n",
      "Bootstrap CI column1:\t 11004.981043956044 , 15419.392582417582\n",
      "Bootstrap CI column2:\t 21087.047502912053 , 24230.267494175885\n"
     ]
    }
   ],
   "source": [
    "# Test C-class vs. all others for bond amount\n",
    "ptest(offense_cm.bond_amount, mis_pre_df.bond_amount.loc[mis_pre_df.offense_class != 'CM'], mis_pre_df.bond_amount)"
   ]
  },
  {
   "cell_type": "code",
   "execution_count": null,
   "metadata": {},
   "outputs": [
    {
     "name": "stdout",
     "output_type": "stream",
     "text": [
      "Bootstrap p-value 1 =  0.1939\n",
      "Bootstrap p-value 2 =  0.6080\n",
      "Mean of observed data     =  21478.429673437902\n",
      "Bootstrap mean of column1 =  18033.478913043476\n",
      "Bootstrap mean of column2 =  21692.19786171085\n",
      "Bootstrap CI column1:\t 11034.331630434783 , 26650.046956521735\n",
      "Bootstrap CI column2:\t 20305.23628723695 , 23197.54087865537\n"
     ]
    }
   ],
   "source": [
    "# Test no-class vs. all others for bond amount\n",
    "ptest(offense_m.bond_amount, mis_pre_df.bond_amount.loc[mis_pre_df.offense_class != ' M'], mis_pre_df.bond_amount)"
   ]
  },
  {
   "cell_type": "markdown",
   "metadata": {},
   "source": [
    "No point in testing UM.  There's only one."
   ]
  },
  {
   "cell_type": "code",
   "execution_count": null,
   "metadata": {},
   "outputs": [
    {
     "name": "stdout",
     "output_type": "stream",
     "text": [
      "Bootstrap p-value 1 =  0.1852\n",
      "Bootstrap p-value 2 =  0.8807\n",
      "Mean of observed data     =  59.04808434044742\n",
      "Bootstrap mean of column1 =  56.698283056708156\n",
      "Bootstrap mean of column2 =  65.78428294884654\n",
      "Bootstrap CI column1:\t 51.715975103734436 , 62.0309215076072\n",
      "Bootstrap CI column2:\t 54.83653460381143 , 77.51356569709128\n"
     ]
    }
   ],
   "source": [
    "# Test A-class vs. all others for days detained\n",
    "ptest(offense_am.days, mis_pre_df.days.loc[mis_pre_df.offense_class != 'AM'], mis_pre_df.days)"
   ]
  },
  {
   "cell_type": "code",
   "execution_count": null,
   "metadata": {},
   "outputs": [
    {
     "name": "stdout",
     "output_type": "stream",
     "text": [
      "Bootstrap p-value 1 =  0.8375\n",
      "Bootstrap p-value 2 =  0.3647\n",
      "Mean of observed data     =  59.04808434044742\n",
      "Bootstrap mean of column1 =  69.28580064308682\n",
      "Bootstrap mean of column2 =  58.1989180547792\n",
      "Bootstrap CI column1:\t 50.05779742765274 , 91.29292604501607\n",
      "Bootstrap CI column2:\t 53.3621366685299 , 63.15883873672443\n"
     ]
    }
   ],
   "source": [
    "# Test B-class vs. all others for days detained\n",
    "ptest(offense_bm.days, mis_pre_df.days.loc[mis_pre_df.offense_class != 'BM'], mis_pre_df.days)"
   ]
  },
  {
   "cell_type": "code",
   "execution_count": null,
   "metadata": {},
   "outputs": [
    {
     "name": "stdout",
     "output_type": "stream",
     "text": [
      "Bootstrap p-value 1 =  0.9792\n",
      "Bootstrap p-value 2 =  0.1632\n",
      "Mean of observed data     =  59.04808434044742\n",
      "Bootstrap mean of column1 =  77.65425252747254\n",
      "Bootstrap mean of column2 =  56.62044726266745\n",
      "Bootstrap CI column1:\t 59.83010989010989 , 97.40005494505496\n",
      "Bootstrap CI column2:\t 51.920908561444385 , 61.58505387303436\n"
     ]
    }
   ],
   "source": [
    "# Test C-class vs. all others for days detained\n",
    "ptest(offense_cm.days, mis_pre_df.days.loc[mis_pre_df.offense_class != 'CM'], mis_pre_df.days)"
   ]
  },
  {
   "cell_type": "code",
   "execution_count": null,
   "metadata": {},
   "outputs": [],
   "source": [
    "# Test no-class vs. all others for days detained\n",
    "ptest(offense_m.days, mis_pre_df.days.loc[mis_pre_df.offense_class != ' M'], mis_pre_df.days)"
   ]
  },
  {
   "cell_type": "code",
   "execution_count": null,
   "metadata": {},
   "outputs": [],
   "source": [
    "def prop_test(col1, col2, orig_col, tail=2, percent=.975):\n",
    "    '''I have no clue what this does or why it is here, tbh.  Wrote it thinking it would do something different.'''\n",
    "    n1 = len(col1)\n",
    "    n2 = len(col2)\n",
    "    n3 = len(orig_col)\n",
    "    \n",
    "    pro1 = np.mean(col1)\n",
    "    pro2 = np.mean(col2)\n",
    "    pro3 = np.mean(orig_col)\n",
    "    \n",
    "    p_1 = pro1*(1-pro1)\n",
    "    p_2 = pro2*(1-pro2)\n",
    "    p_3 = pro3*(1-pro3)\n",
    "    \n",
    "    observed_diff = diff_of_means(col1, col2)\n",
    "    \n",
    "    z = observed_diff / np.sqrt(p_3*((1/n1)+(1/n2)))\n",
    "    z_crit = stats.norm.ppf(percent)\n",
    "    moe = z_crit*np.sqrt((p_1/n1)+(p_2/n2))\n",
    "    ci_high = observed_diff + moe\n",
    "    ci_low = observed_diff - moe\n",
    "    z_pval = (1-stats.norm.cdf(z))*tail\n",
    "    \n",
    "    print('The margin of error is', '{:.7f}'.format(moe), '(', '{:.2f}'.format(moe*100), 'percent )')\n",
    "    print('The 95% confidence interval is', '{:.7f}'.format(ci_low), 'to', '{:.7f}'.format(ci_high), '(','{:.2f}'.format(ci_low*100), 'to', '{:.2f}'.format(ci_high*100), 'percent difference )')\n",
    "    print('The p-value is', z_pval, '(', '{:.7f}'.format(z_pval), ')')"
   ]
  },
  {
   "cell_type": "code",
   "execution_count": null,
   "metadata": {},
   "outputs": [],
   "source": [
    "offense_df.describe()"
   ]
  },
  {
   "cell_type": "code",
   "execution_count": null,
   "metadata": {
    "scrolled": true
   },
   "outputs": [],
   "source": [
    "race_df.describe()"
   ]
  },
  {
   "cell_type": "code",
   "execution_count": null,
   "metadata": {},
   "outputs": [],
   "source": [
    "race = "
   ]
  },
  {
   "cell_type": "code",
   "execution_count": null,
   "metadata": {
    "scrolled": true
   },
   "outputs": [],
   "source": [
    "prop_test(race_df.r_WHITE, race_df.r_HISPANIC, race_df.race)"
   ]
  },
  {
   "cell_type": "markdown",
   "metadata": {},
   "source": [
    "n_b = len(b.call)\n",
    "n_w = len(w.call)\n",
    "cb = callbacks\n",
    "\n",
    "cb_p = cb*(1-cb)\n",
    "cb_pb = callbacks_b*(1-callbacks_b)\n",
    "cb_pw = callbacks_w*(1-callbacks_w)\n",
    "\n",
    "tail = 2\n",
    "\n",
    "z = observed_diff / np.sqrt(cb_p*((1/n_b)+(1/n_w)))\n",
    "z_crit = stats.norm.ppf(.975)\n",
    "moe = z_crit*np.sqrt((cb_pb/n_b)+(cb_pw/n_w))\n",
    "ci_high = observed_diff + moe\n",
    "ci_low = observed_diff - moe\n",
    "z_pval = (1-stats.norm.cdf(z))*tail\n",
    "\n",
    "print('The margin of error is', '{:.7f}'.format(moe), '(', '{:.2f}'.format(moe*100), 'percent )')\n",
    "print('The 95% confidence interval is', '{:.7f}'.format(ci_low), 'to', '{:.7f}'.format(ci_high), '(','{:.2f}'.format(ci_low*100), 'to', '{:.2f}'.format(ci_high*100), 'percent difference )')\n",
    "print('The p-value is', z_pval, '(', '{:.7f}'.format(z_pval), ')')"
   ]
  }
 ],
 "metadata": {
  "kernelspec": {
   "display_name": "Python 3",
   "language": "python",
   "name": "python3"
  },
  "language_info": {
   "codemirror_mode": {
    "name": "ipython",
    "version": 3
   },
   "file_extension": ".py",
   "mimetype": "text/x-python",
   "name": "python",
   "nbconvert_exporter": "python",
   "pygments_lexer": "ipython3",
   "version": "3.7.2"
  }
 },
 "nbformat": 4,
 "nbformat_minor": 2
}
