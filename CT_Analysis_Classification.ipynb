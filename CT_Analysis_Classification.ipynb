{
 "cells": [
  {
   "cell_type": "code",
   "execution_count": 1,
   "metadata": {},
   "outputs": [],
   "source": [
    "# Analysis for CT Pretrial Detainees\n",
    "# (Springboard Capstone 1)\n",
    "# 2019, Misty M. Giles\n",
    "\n",
    "# Import everything.  \n",
    "%matplotlib inline\n",
    "from datetime import datetime as date\n",
    "import matplotlib.pyplot as plt\n",
    "from matplotlib import cm\n",
    "import numpy as np\n",
    "import pandas as pd\n",
    "import scipy.stats as stats\n",
    "import seaborn as sns\n",
    "from sklearn.linear_model import LogisticRegression\n",
    "from sklearn.multiclass import OneVsRestClassifier\n",
    "from sklearn.model_selection import train_test_split\n",
    "\n",
    "\n",
    "# Select the file created in CT_csv (unit 5 data wrangling assignment)\n",
    "file = 'detainees_classed_offenses.csv'"
   ]
  },
  {
   "cell_type": "code",
   "execution_count": 2,
   "metadata": {},
   "outputs": [
    {
     "name": "stdout",
     "output_type": "stream",
     "text": [
      "<class 'pandas.core.frame.DataFrame'>\n",
      "RangeIndex: 28808 entries, 0 to 28807\n",
      "Data columns (total 13 columns):\n",
      "download_date            28808 non-null datetime64[ns]\n",
      "identifier               28808 non-null object\n",
      "latest_admission_date    28808 non-null datetime64[ns]\n",
      "race                     28808 non-null object\n",
      "gender                   28808 non-null object\n",
      "age                      28808 non-null int64\n",
      "bond_amount              28808 non-null int64\n",
      "offense                  28808 non-null object\n",
      "facility                 28808 non-null object\n",
      "detainer                 28808 non-null object\n",
      "offense_class            28808 non-null object\n",
      "days                     28808 non-null int64\n",
      "counts                   28808 non-null int64\n",
      "dtypes: datetime64[ns](2), int64(4), object(7)\n",
      "memory usage: 2.9+ MB\n"
     ]
    }
   ],
   "source": [
    "# Read in the file\n",
    "df = pd.read_csv(file, parse_dates=['download_date', 'latest_admission_date'])\n",
    "\n",
    "# This corrects a typo that's being fixed in CT_csv.\n",
    "df['offense_class'] = [offense[-2:] if offense.endswith(('AM','BM','CM','DM','UM',' M', \n",
    "                       'AF','BF','CF','DF','UF',' F')) else np.nan for offense in df.offense]\n",
    "\n",
    "# Days that CT says a detainee has been in the system.  This doesn't account for\n",
    "# some detainees.  There are 730 days in the dataset, and the state says that entrance \n",
    "# dates over a year before could be original entrance date but are definitely not to be\n",
    "# trusted.  The days column will be capped at 1,095 (730 + 365).  \n",
    "df.days = [int(time[:-23]) for time in df.days]\n",
    "df.days = [time if time <= 1095 else 1095 for time in df.days]\n",
    "\n",
    "# Check that everything worked.  In this EDA, there should be 0 null values.\n",
    "df.info()"
   ]
  },
  {
   "cell_type": "code",
   "execution_count": 3,
   "metadata": {
    "scrolled": false
   },
   "outputs": [
    {
     "name": "stdout",
     "output_type": "stream",
     "text": [
      "<class 'pandas.core.frame.DataFrame'>\n",
      "Int64Index: 21175 entries, 1 to 28807\n",
      "Data columns (total 13 columns):\n",
      "download_date            21175 non-null datetime64[ns]\n",
      "identifier               21175 non-null object\n",
      "latest_admission_date    21175 non-null datetime64[ns]\n",
      "race                     21175 non-null object\n",
      "gender                   21175 non-null object\n",
      "age                      21175 non-null int64\n",
      "bond_amount              21175 non-null int64\n",
      "offense                  21175 non-null object\n",
      "facility                 21175 non-null object\n",
      "detainer                 21175 non-null object\n",
      "offense_class            21175 non-null object\n",
      "days                     21175 non-null int64\n",
      "counts                   21175 non-null int64\n",
      "dtypes: datetime64[ns](2), int64(4), object(7)\n",
      "memory usage: 2.3+ MB\n",
      "None\n"
     ]
    }
   ],
   "source": [
    "# Only working with the 94% under 80k.\n",
    "df = df.loc[df.bond_amount<=80000]\n",
    "print(df.info())\n",
    "\n",
    "# Separate out the two datasets, misdemeanor (primary) and felony.\n",
    "felony_df = df.loc[df['offense_class'].str.endswith('F')]\n",
    "misdemeanor_df = df.loc[df['offense_class'].str.endswith('M')]\n",
    "\n",
    "# Divide the misdemeanor data into pre-enactment and post.\n",
    "mis_pre_df = misdemeanor_df.loc[misdemeanor_df.download_date < '2017-07-01']\n",
    "mis_post_df = misdemeanor_df.loc[misdemeanor_df.download_date >= '2017-07-01']\n",
    "mis_post_df = mis_post_df.loc[mis_post_df.download_date < '2018-07-01']\n",
    "mis_outofbounds_df = misdemeanor_df.loc[misdemeanor_df.download_date >= '2018-07-01']\n",
    "mis_df = pd.concat([mis_pre_df, mis_post_df])\n",
    "\n",
    "# Change race, gender, facility, and detainer to category type and verify.\n",
    "df.race = df.race.astype('category')\n",
    "df.gender = df.gender.astype('category')\n",
    "df.facility = df.facility.astype('category')\n",
    "df.detainer = df.detainer.astype('category')\n",
    "df.offense_class = df.offense_class.astype('category')"
   ]
  },
  {
   "cell_type": "code",
   "execution_count": 4,
   "metadata": {
    "scrolled": false
   },
   "outputs": [
    {
     "name": "stdout",
     "output_type": "stream",
     "text": [
      "<class 'pandas.core.frame.DataFrame'>\n",
      "Int64Index: 3689 entries, 3 to 28799\n",
      "Data columns (total 3 columns):\n",
      "bond_amount    3689 non-null int64\n",
      "days           3689 non-null int64\n",
      "age            3689 non-null int64\n",
      "dtypes: int64(3)\n",
      "memory usage: 115.3 KB\n"
     ]
    },
    {
     "data": {
      "text/plain": [
       "((3689, 1), None)"
      ]
     },
     "execution_count": 4,
     "metadata": {},
     "output_type": "execute_result"
    }
   ],
   "source": [
    "target = pd.DataFrame(mis_pre_df.race)\n",
    "data = mis_pre_df[['bond_amount','days','age']]\n",
    "target.shape, data.info()"
   ]
  },
  {
   "cell_type": "markdown",
   "metadata": {},
   "source": [
    "# Logistic Regression alone gives better \"accuracy,\" but gives weird errors about the shape of y.  Blocks 7 and 8 have much higher accuracy on first run."
   ]
  },
  {
   "cell_type": "code",
   "execution_count": 5,
   "metadata": {
    "scrolled": false
   },
   "outputs": [
    {
     "name": "stdout",
     "output_type": "stream",
     "text": [
      "Accuracy, race: 0.43450767841011745\n"
     ]
    }
   ],
   "source": [
    "X = data\n",
    "y = target\n",
    "\n",
    "X_train, X_test, y_train, y_test = train_test_split(X, y, test_size=.3)\n",
    "\n",
    "# Instantiate the classifier\n",
    "clf = OneVsRestClassifier(LogisticRegression())\n",
    "\n",
    "# Fit the classifier to the training data\n",
    "clf.fit(X_train, y_train)\n",
    "\n",
    "# Print the accuracy\n",
    "print(\"Accuracy, race: {}\".format(clf.score(X_test, y_test)))"
   ]
  },
  {
   "cell_type": "code",
   "execution_count": 6,
   "metadata": {
    "scrolled": false
   },
   "outputs": [
    {
     "name": "stdout",
     "output_type": "stream",
     "text": [
      "There are 386 tokens in Offense if we split on non-alphanumeric\n",
      "['16 to', '16 to operate', '16 to operate mv', '2nd deg', '2nd degree', '3rd degree', '3rd victim', '3rd victim over', '3rd victim over 59', 'a prostitute', 'allowing person', 'allowing person under', 'allowing person under 16', 'allowing person under 16 to', 'an emergency']\n"
     ]
    },
    {
     "data": {
      "image/png": "[encoded data removed]",
      "text/plain": [
       "<Figure size 864x576 with 1 Axes>"
      ]
     },
     "metadata": {
      "needs_background": "light"
     },
     "output_type": "display_data"
    }
   ],
   "source": [
    "# Import CountVectorizer\n",
    "from sklearn.feature_extraction.text import CountVectorizer\n",
    "\n",
    "# Create the token pattern: TOKENS_ALPHANUMERIC\n",
    "TOKENS_ALPHANUMERIC = '[A-Za-z0-9]+(?=\\\\s+)'\n",
    "\n",
    "# Instantiate the CountVectorizer: vec_alphanumeric\n",
    "vec_alphanumeric = CountVectorizer(token_pattern=TOKENS_ALPHANUMERIC,ngram_range=(2, 5))\n",
    "\n",
    "# Fit to the data\n",
    "vec_alphanumeric.fit(mis_pre_df.offense)\n",
    "\n",
    "# Print the number of tokens and first 15 tokens\n",
    "msg = \"There are {} tokens in Offense if we split on non-alphanumeric\"\n",
    "print(msg.format(len(vec_alphanumeric.get_feature_names())))\n",
    "print(vec_alphanumeric.get_feature_names()[:15])\n",
    "\n",
    "# Plot the n-grams by frequency\n",
    "plot = pd.DataFrame(vec_alphanumeric.fit_transform(mis_pre_df.offense).toarray().sum(axis=0).tolist())\n",
    "plot['vocab'] = vec_alphanumeric.get_feature_names()\n",
    "plot.columns = ['freq','vocab']\n",
    "plot.sort_values(by='freq',ascending=False,inplace=True)\n",
    "\n",
    "plotted = plot.loc[plot.freq>=80]\n",
    "\n",
    "_, ax = plt.subplots(figsize=(12,8))\n",
    "_ = plt.bar(plotted.vocab, plotted.freq)\n",
    "_ = plt.xlabel('word')\n",
    "_ = plt.xticks(rotation=90)"
   ]
  },
  {
   "cell_type": "code",
   "execution_count": 7,
   "metadata": {},
   "outputs": [
    {
     "name": "stdout",
     "output_type": "stream",
     "text": [
      "Accuracy, gender: 0.8130081300813008\n"
     ]
    }
   ],
   "source": [
    "target = pd.DataFrame(mis_pre_df.gender)\n",
    "data = mis_pre_df[['bond_amount','days','age']]\n",
    "\n",
    "X = data\n",
    "y = target\n",
    "\n",
    "X_train, X_test, y_train, y_test = train_test_split(X, y, test_size=.3)\n",
    "\n",
    "# Instantiate the classifier\n",
    "clf = OneVsRestClassifier(LogisticRegression())\n",
    "\n",
    "# Fit the classifier to the training data\n",
    "clf.fit(X_train, y_train)\n",
    "\n",
    "# Print the accuracy\n",
    "print(\"Accuracy, gender: {}\".format(clf.score(X_test, y_test)))"
   ]
  },
  {
   "cell_type": "code",
   "execution_count": 8,
   "metadata": {},
   "outputs": [
    {
     "name": "stdout",
     "output_type": "stream",
     "text": [
      "Accuracy, offense class: 0.7326106594399278\n"
     ]
    }
   ],
   "source": [
    "target = pd.DataFrame(mis_pre_df.offense_class)\n",
    "data = mis_pre_df[['bond_amount','days','age']]\n",
    "\n",
    "X = data\n",
    "y = target\n",
    "\n",
    "X_train, X_test, y_train, y_test = train_test_split(X, y, test_size=.3)\n",
    "\n",
    "# Instantiate the classifier\n",
    "clf = OneVsRestClassifier(LogisticRegression())\n",
    "\n",
    "# Fit the classifier to the training data\n",
    "clf.fit(X_train, y_train)\n",
    "\n",
    "# Print the accuracy\n",
    "print(\"Accuracy, offense class: {}\".format(clf.score(X_test, y_test)))"
   ]
  },
  {
   "cell_type": "code",
   "execution_count": null,
   "metadata": {},
   "outputs": [],
   "source": []
  }
 ],
 "metadata": {
  "kernelspec": {
   "display_name": "Python 3",
   "language": "python",
   "name": "python3"
  },
  "language_info": {
   "codemirror_mode": {
    "name": "ipython",
    "version": 3
   },
   "file_extension": ".py",
   "mimetype": "text/x-python",
   "name": "python",
   "nbconvert_exporter": "python",
   "pygments_lexer": "ipython3",
   "version": "3.7.2"
  }
 },
 "nbformat": 4,
 "nbformat_minor": 2
}
